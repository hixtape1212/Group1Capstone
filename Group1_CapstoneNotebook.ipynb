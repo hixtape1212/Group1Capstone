{
  "nbformat": 4,
  "nbformat_minor": 0,
  "metadata": {
    "colab": {
      "provenance": []
    },
    "kernelspec": {
      "name": "python3",
      "display_name": "Python 3"
    },
    "language_info": {
      "name": "python"
    }
  },
  "cells": [
    {
      "cell_type": "markdown",
      "source": [
        "# Group1 Consulting\n",
        "## See Through the Ambiguity: Predicting Home Prices\n",
        "\n",
        "Group1 Consulting has been approached by a real estate investement agency who is requesting an algorithm that predicts home prices. The real estate investment firm FlatTech RealEstate, buys homes in the Austin area. They have tasked our team with finding a datafile, clean it, and run various algorithms to create an home price predictor. Our algorith will predict home prices based on common features of home listings like number of beds, baths, lot size, square footage, etc. to help both buyers and sellers see through the ambiguity in home pricing.\n",
        "\n",
        "This notebook is being run in Google Co-Lab for versioning control."
      ],
      "metadata": {
        "id": "fIqninozm7xu"
      }
    },
    {
      "cell_type": "markdown",
      "source": [
        "## The Dataset\n",
        "The dataset we're using is the Austin TX, House Listing dataset off Kaggle, created by Eric Pierce. The dataset has been uploaded to one of our teams branches so we'll drill into here to upload it to the notebook. Here is the link to the actual Kaggle page:\n",
        "https://www.kaggle.com/datasets/ericpierce/austinhousingprices"
      ],
      "metadata": {
        "id": "C-zvtBesnMqz"
      }
    },
    {
      "cell_type": "code",
      "source": [
        "# Use wget to pull in the dataset into the notebook\n",
        "!wget https://raw.githubusercontent.com/hixtape1212/Group1Capstone/Gerardo/Austin_notebooks/austinHousingData.csv"
      ],
      "metadata": {
        "colab": {
          "base_uri": "https://localhost:8080/"
        },
        "id": "SkhGXbCzoFZl",
        "outputId": "a8fb4d2c-55e3-4cc6-b830-0cf1e2e66669"
      },
      "execution_count": null,
      "outputs": [
        {
          "output_type": "stream",
          "name": "stdout",
          "text": [
            "--2023-07-28 18:22:30--  https://raw.githubusercontent.com/hixtape1212/Group1Capstone/Gerardo/Austin_notebooks/austinHousingData.csv\n",
            "Resolving raw.githubusercontent.com (raw.githubusercontent.com)... 185.199.110.133, 185.199.108.133, 185.199.111.133, ...\n",
            "Connecting to raw.githubusercontent.com (raw.githubusercontent.com)|185.199.110.133|:443... connected.\n",
            "HTTP request sent, awaiting response... 200 OK\n",
            "Length: 11389525 (11M) [text/plain]\n",
            "Saving to: ‘austinHousingData.csv.2’\n",
            "\n",
            "austinHousingData.c 100%[===================>]  10.86M  --.-KB/s    in 0.1s    \n",
            "\n",
            "2023-07-28 18:22:30 (88.0 MB/s) - ‘austinHousingData.csv.2’ saved [11389525/11389525]\n",
            "\n"
          ]
        }
      ]
    },
    {
      "cell_type": "markdown",
      "source": [
        "### Importing the Nessesary Librarys for Analysis\n",
        "Since Kera's is required to create Nueral Networks later in this notebook, we need to control versioning, which is why Google Co-Lab is the prime choice to run this notebook. Below we'll import the nessesary libraries."
      ],
      "metadata": {
        "id": "mksWJJE0oP9U"
      }
    },
    {
      "cell_type": "code",
      "source": [
        "#Import Libraries\n",
        "import pandas as pd\n",
        "import numpy as np\n",
        "import matplotlib.pyplot as plt\n",
        "from sklearn.model_selection import train_test_split\n",
        "from sklearn.preprocessing import MinMaxScaler\n",
        "\n",
        "\n",
        "import tensorflow as tf\n",
        "from tensorflow import keras\n",
        "from tensorflow.keras import layers\n",
        "from keras.api._v2.keras import activations\n",
        "from tensorflow.keras.optimizers.schedules import ExponentialDecay\n",
        "\n",
        "print(tf.__version__)"
      ],
      "metadata": {
        "colab": {
          "base_uri": "https://localhost:8080/"
        },
        "id": "ql-IG_Qwomkx",
        "outputId": "81014cdb-272b-45c9-cb5b-d4acc5334ea0"
      },
      "execution_count": null,
      "outputs": [
        {
          "output_type": "stream",
          "name": "stdout",
          "text": [
            "2.12.0\n"
          ]
        }
      ]
    },
    {
      "cell_type": "code",
      "source": [
        "#Creating a dataframe for the dataset\n",
        "file_path = 'austinHousingData.csv'\n",
        "df = pd.read_csv(file_path)"
      ],
      "metadata": {
        "id": "45MHmHpvpC4E"
      },
      "execution_count": null,
      "outputs": []
    },
    {
      "cell_type": "markdown",
      "source": [
        "## EDA and Cleaning\n",
        "Let's take a look at the dataset"
      ],
      "metadata": {
        "id": "LsdXMMtNpQlR"
      }
    },
    {
      "cell_type": "code",
      "source": [
        "df.info()"
      ],
      "metadata": {
        "colab": {
          "base_uri": "https://localhost:8080/"
        },
        "id": "9BZJuTqbpN_U",
        "outputId": "efd2e2ea-10c4-4267-f0c7-9b8ef87ed440"
      },
      "execution_count": null,
      "outputs": [
        {
          "output_type": "stream",
          "name": "stdout",
          "text": [
            "<class 'pandas.core.frame.DataFrame'>\n",
            "RangeIndex: 15171 entries, 0 to 15170\n",
            "Data columns (total 47 columns):\n",
            " #   Column                      Non-Null Count  Dtype  \n",
            "---  ------                      --------------  -----  \n",
            " 0   zpid                        15171 non-null  int64  \n",
            " 1   city                        15171 non-null  object \n",
            " 2   streetAddress               15171 non-null  object \n",
            " 3   zipcode                     15171 non-null  int64  \n",
            " 4   description                 15171 non-null  object \n",
            " 5   latitude                    15171 non-null  float64\n",
            " 6   longitude                   15171 non-null  float64\n",
            " 7   propertyTaxRate             15171 non-null  float64\n",
            " 8   garageSpaces                15171 non-null  int64  \n",
            " 9   hasAssociation              15171 non-null  bool   \n",
            " 10  hasCooling                  15171 non-null  bool   \n",
            " 11  hasGarage                   15171 non-null  bool   \n",
            " 12  hasHeating                  15171 non-null  bool   \n",
            " 13  hasSpa                      15171 non-null  bool   \n",
            " 14  hasView                     15171 non-null  bool   \n",
            " 15  homeType                    15171 non-null  object \n",
            " 16  parkingSpaces               15171 non-null  int64  \n",
            " 17  yearBuilt                   15171 non-null  int64  \n",
            " 18  latestPrice                 15171 non-null  int64  \n",
            " 19  numPriceChanges             15171 non-null  int64  \n",
            " 20  latest_saledate             15171 non-null  object \n",
            " 21  latest_salemonth            15171 non-null  int64  \n",
            " 22  latest_saleyear             15171 non-null  int64  \n",
            " 23  latestPriceSource           15171 non-null  object \n",
            " 24  numOfPhotos                 15171 non-null  int64  \n",
            " 25  numOfAccessibilityFeatures  15171 non-null  int64  \n",
            " 26  numOfAppliances             15171 non-null  int64  \n",
            " 27  numOfParkingFeatures        15171 non-null  int64  \n",
            " 28  numOfPatioAndPorchFeatures  15171 non-null  int64  \n",
            " 29  numOfSecurityFeatures       15171 non-null  int64  \n",
            " 30  numOfWaterfrontFeatures     15171 non-null  int64  \n",
            " 31  numOfWindowFeatures         15171 non-null  int64  \n",
            " 32  numOfCommunityFeatures      15171 non-null  int64  \n",
            " 33  lotSizeSqFt                 15171 non-null  float64\n",
            " 34  livingAreaSqFt              15171 non-null  int64  \n",
            " 35  numOfPrimarySchools         15171 non-null  int64  \n",
            " 36  numOfElementarySchools      15171 non-null  int64  \n",
            " 37  numOfMiddleSchools          15171 non-null  int64  \n",
            " 38  numOfHighSchools            15171 non-null  int64  \n",
            " 39  avgSchoolDistance           15171 non-null  float64\n",
            " 40  avgSchoolRating             15171 non-null  float64\n",
            " 41  avgSchoolSize               15171 non-null  int64  \n",
            " 42  MedianStudentsPerTeacher    15171 non-null  int64  \n",
            " 43  numOfBathrooms              15171 non-null  float64\n",
            " 44  numOfBedrooms               15171 non-null  int64  \n",
            " 45  numOfStories                15171 non-null  int64  \n",
            " 46  homeImage                   15171 non-null  object \n",
            "dtypes: bool(6), float64(7), int64(27), object(7)\n",
            "memory usage: 4.8+ MB\n"
          ]
        }
      ]
    },
    {
      "cell_type": "markdown",
      "source": [
        "Initially we see that the data is very clean, with no non-null values. Our client is only interested in single family homes. Let's get rid of any homes that don't fit that description."
      ],
      "metadata": {
        "id": "IIdZNMQtrH2r"
      }
    },
    {
      "cell_type": "code",
      "source": [
        "#Let's look at the home types. We primarily only want single family homes\n",
        "df.homeType.value_counts()"
      ],
      "metadata": {
        "colab": {
          "base_uri": "https://localhost:8080/"
        },
        "id": "fXCXpxC1rW3R",
        "outputId": "278f24d2-4619-4bde-959e-3a75dbaf1165"
      },
      "execution_count": null,
      "outputs": [
        {
          "output_type": "execute_result",
          "data": {
            "text/plain": [
              "Single Family            14241\n",
              "Condo                      470\n",
              "Townhouse                  174\n",
              "Multiple Occupancy          96\n",
              "Vacant Land                 83\n",
              "Residential                 37\n",
              "Apartment                   37\n",
              "Mobile / Manufactured       17\n",
              "MultiFamily                 10\n",
              "Other                        6\n",
              "Name: homeType, dtype: int64"
            ]
          },
          "metadata": {},
          "execution_count": 5
        }
      ]
    },
    {
      "cell_type": "code",
      "source": [
        "df = df[df.homeType == 'Single Family']\n",
        "df.shape"
      ],
      "metadata": {
        "colab": {
          "base_uri": "https://localhost:8080/"
        },
        "id": "Cux8LiPTragy",
        "outputId": "6b10f37b-bd60-43c9-d3d0-09a6f60f5d86"
      },
      "execution_count": null,
      "outputs": [
        {
          "output_type": "execute_result",
          "data": {
            "text/plain": [
              "(14241, 47)"
            ]
          },
          "metadata": {},
          "execution_count": 6
        }
      ]
    },
    {
      "cell_type": "markdown",
      "source": [
        " Also, for our purposes columns like zpid which is the default primary key zillow uses to identify homes can be gotten rid of. Additionally it would be good to only use numeric values as they are the only values our models can use to train.\n",
        "\n",
        "Most of the object types here are redudant and the information gathered can be explained by another numeric feature, like City can be explained through zip code etc. We can drop those.\n",
        "\n",
        "Also boolean values can be changed into numeric 0 and 1 for our processing purposes. We can do both of these things below."
      ],
      "metadata": {
        "id": "OXMWgPIDpV_W"
      }
    },
    {
      "cell_type": "code",
      "source": [
        "#Drop object columns as well as zipid\n",
        "col_drop_list = df.select_dtypes(include=[np.object]).keys()\n",
        "col_drop_list = col_drop_list.union(['zpid'])\n",
        "df = df.drop(col_drop_list, axis=1)\n",
        "df.shape"
      ],
      "metadata": {
        "colab": {
          "base_uri": "https://localhost:8080/"
        },
        "id": "BiXu4-9QqRAz",
        "outputId": "afbdde37-b117-4e63-8b10-2bae4eb3ae6c"
      },
      "execution_count": null,
      "outputs": [
        {
          "output_type": "stream",
          "name": "stderr",
          "text": [
            "<ipython-input-7-421071a199b5>:2: DeprecationWarning: `np.object` is a deprecated alias for the builtin `object`. To silence this warning, use `object` by itself. Doing this will not modify any behavior and is safe. \n",
            "Deprecated in NumPy 1.20; for more details and guidance: https://numpy.org/devdocs/release/1.20.0-notes.html#deprecations\n",
            "  col_drop_list = df.select_dtypes(include=[np.object]).keys()\n"
          ]
        },
        {
          "output_type": "execute_result",
          "data": {
            "text/plain": [
              "(14241, 39)"
            ]
          },
          "metadata": {},
          "execution_count": 7
        }
      ]
    },
    {
      "cell_type": "code",
      "source": [
        "#Changing Booleans to int values, then dropping the boolean columns\n",
        "col_bool_list = ['hasAssociation', 'hasCooling',\n",
        "                 'hasGarage', 'hasHeating', 'hasSpa', 'hasView']\n",
        "\n",
        "for col in col_bool_list:\n",
        "    name = col + '_int'\n",
        "    df[name] = df[col].astype(int)\n",
        "\n",
        "df = df.drop(col_bool_list, axis=1)\n",
        "df.shape"
      ],
      "metadata": {
        "colab": {
          "base_uri": "https://localhost:8080/"
        },
        "id": "2WYfPBW1qgGG",
        "outputId": "c94e2bf8-e0be-4a6a-e83e-a6b4c7e1a537"
      },
      "execution_count": null,
      "outputs": [
        {
          "output_type": "execute_result",
          "data": {
            "text/plain": [
              "(14241, 39)"
            ]
          },
          "metadata": {},
          "execution_count": 8
        }
      ]
    },
    {
      "cell_type": "markdown",
      "source": [
        "### Dealing with Outliers\n",
        "Now that our dataset is all numeric, let's take a look at the key feature statistics and see if their are any heavy outliers. Keep in mind we're trying to predict home pricing."
      ],
      "metadata": {
        "id": "ENlMx_VEr3bB"
      }
    },
    {
      "cell_type": "code",
      "source": [
        "#Take a look at the descriptive stats\n",
        "df.describe().transpose().apply(lambda x: x.apply('{0:f}'.format))"
      ],
      "metadata": {
        "colab": {
          "base_uri": "https://localhost:8080/",
          "height": 1000
        },
        "id": "PX26gBH5sHz6",
        "outputId": "afcc0236-bc2a-4b93-b958-139f7f5741c3"
      },
      "execution_count": null,
      "outputs": [
        {
          "output_type": "execute_result",
          "data": {
            "text/plain": [
              "                                   count           mean              std  \\\n",
              "zipcode                     14241.000000   78736.186785        18.721340   \n",
              "latitude                    14241.000000      30.291740         0.098383   \n",
              "longitude                   14241.000000     -97.780411         0.085880   \n",
              "propertyTaxRate             14241.000000       1.994731         0.054207   \n",
              "garageSpaces                14241.000000       1.236851         1.343474   \n",
              "parkingSpaces               14241.000000       1.236219         1.343612   \n",
              "yearBuilt                   14241.000000    1988.408749        21.555337   \n",
              "latestPrice                 14241.000000  516387.884629    446969.176124   \n",
              "numPriceChanges             14241.000000       3.044730         2.491960   \n",
              "latest_salemonth            14241.000000       6.728039         3.134325   \n",
              "latest_saleyear             14241.000000    2019.076469         0.812202   \n",
              "numOfPhotos                 14241.000000      30.882733        21.202598   \n",
              "numOfAccessibilityFeatures  14241.000000       0.013412         0.184063   \n",
              "numOfAppliances             14241.000000       3.469770         1.864573   \n",
              "numOfParkingFeatures        14241.000000       1.713503         0.776005   \n",
              "numOfPatioAndPorchFeatures  14241.000000       0.671793         0.987633   \n",
              "numOfSecurityFeatures       14241.000000       0.472790         0.829313   \n",
              "numOfWaterfrontFeatures     14241.000000       0.002739         0.060946   \n",
              "numOfWindowFeatures         14241.000000       0.210378         0.491194   \n",
              "numOfCommunityFeatures      14241.000000       0.011867         0.114593   \n",
              "lotSizeSqFt                 14241.000000  121761.473955  12641347.597454   \n",
              "livingAreaSqFt              14241.000000    2234.634506      1386.511828   \n",
              "numOfPrimarySchools         14241.000000       0.941437         0.235113   \n",
              "numOfElementarySchools      14241.000000       0.048171         0.233884   \n",
              "numOfMiddleSchools          14241.000000       1.036163         0.264253   \n",
              "numOfHighSchools            14241.000000       0.977389         0.297310   \n",
              "avgSchoolDistance           14241.000000       1.861457         1.075312   \n",
              "avgSchoolRating             14241.000000       5.808799         1.868319   \n",
              "avgSchoolSize               14241.000000    1244.773682       326.388760   \n",
              "MedianStudentsPerTeacher    14241.000000      14.874517         1.751620   \n",
              "numOfBathrooms              14241.000000       2.702440         1.035486   \n",
              "numOfBedrooms               14241.000000       3.480163         0.780046   \n",
              "numOfStories                14241.000000       1.456920         0.516839   \n",
              "hasAssociation_int          14241.000000       0.516818         0.499735   \n",
              "hasCooling_int              14241.000000       0.984130         0.124976   \n",
              "hasGarage_int               14241.000000       0.550242         0.497487   \n",
              "hasHeating_int              14241.000000       0.991574         0.091411   \n",
              "hasSpa_int                  14241.000000       0.081455         0.273542   \n",
              "hasView_int                 14241.000000       0.224844         0.417494   \n",
              "\n",
              "                                     min            25%            50%  \\\n",
              "zipcode                     78617.000000   78727.000000   78739.000000   \n",
              "latitude                       30.085030      30.201195      30.284163   \n",
              "longitude                     -98.022057     -97.841804     -97.771988   \n",
              "propertyTaxRate                 1.980000       1.980000       1.980000   \n",
              "garageSpaces                    0.000000       0.000000       1.000000   \n",
              "parkingSpaces                   0.000000       0.000000       1.000000   \n",
              "yearBuilt                    1905.000000    1974.000000    1993.000000   \n",
              "latestPrice                  5500.000000  310000.000000  409900.000000   \n",
              "numPriceChanges                 1.000000       1.000000       2.000000   \n",
              "latest_salemonth                1.000000       4.000000       7.000000   \n",
              "latest_saleyear              2018.000000    2018.000000    2019.000000   \n",
              "numOfPhotos                     1.000000      20.000000      29.000000   \n",
              "numOfAccessibilityFeatures      0.000000       0.000000       0.000000   \n",
              "numOfAppliances                 0.000000       2.000000       3.000000   \n",
              "numOfParkingFeatures            0.000000       1.000000       2.000000   \n",
              "numOfPatioAndPorchFeatures      0.000000       0.000000       0.000000   \n",
              "numOfSecurityFeatures           0.000000       0.000000       0.000000   \n",
              "numOfWaterfrontFeatures         0.000000       0.000000       0.000000   \n",
              "numOfWindowFeatures             0.000000       0.000000       0.000000   \n",
              "numOfCommunityFeatures          0.000000       0.000000       0.000000   \n",
              "lotSizeSqFt                   113.000000    6621.000000    8319.000000   \n",
              "livingAreaSqFt                300.000000    1501.000000    2011.000000   \n",
              "numOfPrimarySchools             0.000000       1.000000       1.000000   \n",
              "numOfElementarySchools          0.000000       0.000000       0.000000   \n",
              "numOfMiddleSchools              0.000000       1.000000       1.000000   \n",
              "numOfHighSchools                0.000000       1.000000       1.000000   \n",
              "avgSchoolDistance               0.200000       1.100000       1.566667   \n",
              "avgSchoolRating                 2.333333       4.000000       6.000000   \n",
              "avgSchoolSize                 396.000000    1002.000000    1298.000000   \n",
              "MedianStudentsPerTeacher       10.000000      14.000000      15.000000   \n",
              "numOfBathrooms                  0.000000       2.000000       3.000000   \n",
              "numOfBedrooms                   0.000000       3.000000       3.000000   \n",
              "numOfStories                    1.000000       1.000000       1.000000   \n",
              "hasAssociation_int              0.000000       0.000000       1.000000   \n",
              "hasCooling_int                  0.000000       1.000000       1.000000   \n",
              "hasGarage_int                   0.000000       0.000000       1.000000   \n",
              "hasHeating_int                  0.000000       1.000000       1.000000   \n",
              "hasSpa_int                      0.000000       0.000000       0.000000   \n",
              "hasView_int                     0.000000       0.000000       0.000000   \n",
              "\n",
              "                                      75%                max  \n",
              "zipcode                      78749.000000       78759.000000  \n",
              "latitude                        30.367920          30.517174  \n",
              "longitude                      -97.718689         -97.569504  \n",
              "propertyTaxRate                  1.980000           2.210000  \n",
              "garageSpaces                     2.000000          20.000000  \n",
              "parkingSpaces                    2.000000          20.000000  \n",
              "yearBuilt                     2006.000000        2020.000000  \n",
              "latestPrice                 575000.000000    13500000.000000  \n",
              "numPriceChanges                  4.000000          23.000000  \n",
              "latest_salemonth                 9.000000          12.000000  \n",
              "latest_saleyear               2020.000000        2021.000000  \n",
              "numOfPhotos                     39.000000         179.000000  \n",
              "numOfAccessibilityFeatures       0.000000           8.000000  \n",
              "numOfAppliances                  4.000000          10.000000  \n",
              "numOfParkingFeatures             2.000000           6.000000  \n",
              "numOfPatioAndPorchFeatures       1.000000           8.000000  \n",
              "numOfSecurityFeatures            1.000000           6.000000  \n",
              "numOfWaterfrontFeatures          0.000000           2.000000  \n",
              "numOfWindowFeatures              0.000000           4.000000  \n",
              "numOfCommunityFeatures           0.000000           3.000000  \n",
              "lotSizeSqFt                  10890.000000  1508482800.000000  \n",
              "livingAreaSqFt                2725.000000      109292.000000  \n",
              "numOfPrimarySchools              1.000000           2.000000  \n",
              "numOfElementarySchools           0.000000           2.000000  \n",
              "numOfMiddleSchools               1.000000           3.000000  \n",
              "numOfHighSchools                 1.000000           2.000000  \n",
              "avgSchoolDistance                2.300000           9.000000  \n",
              "avgSchoolRating                  7.000000           9.500000  \n",
              "avgSchoolSize                 1506.000000        1913.000000  \n",
              "MedianStudentsPerTeacher        16.000000          19.000000  \n",
              "numOfBathrooms                   3.000000          27.000000  \n",
              "numOfBedrooms                    4.000000           8.000000  \n",
              "numOfStories                     2.000000           4.000000  \n",
              "hasAssociation_int               1.000000           1.000000  \n",
              "hasCooling_int                   1.000000           1.000000  \n",
              "hasGarage_int                    1.000000           1.000000  \n",
              "hasHeating_int                   1.000000           1.000000  \n",
              "hasSpa_int                       0.000000           1.000000  \n",
              "hasView_int                      0.000000           1.000000  "
            ],
            "text/html": [
              "\n",
              "\n",
              "  <div id=\"df-999e953b-b05c-41bd-b29c-420250950aa0\">\n",
              "    <div class=\"colab-df-container\">\n",
              "      <div>\n",
              "<style scoped>\n",
              "    .dataframe tbody tr th:only-of-type {\n",
              "        vertical-align: middle;\n",
              "    }\n",
              "\n",
              "    .dataframe tbody tr th {\n",
              "        vertical-align: top;\n",
              "    }\n",
              "\n",
              "    .dataframe thead th {\n",
              "        text-align: right;\n",
              "    }\n",
              "</style>\n",
              "<table border=\"1\" class=\"dataframe\">\n",
              "  <thead>\n",
              "    <tr style=\"text-align: right;\">\n",
              "      <th></th>\n",
              "      <th>count</th>\n",
              "      <th>mean</th>\n",
              "      <th>std</th>\n",
              "      <th>min</th>\n",
              "      <th>25%</th>\n",
              "      <th>50%</th>\n",
              "      <th>75%</th>\n",
              "      <th>max</th>\n",
              "    </tr>\n",
              "  </thead>\n",
              "  <tbody>\n",
              "    <tr>\n",
              "      <th>zipcode</th>\n",
              "      <td>14241.000000</td>\n",
              "      <td>78736.186785</td>\n",
              "      <td>18.721340</td>\n",
              "      <td>78617.000000</td>\n",
              "      <td>78727.000000</td>\n",
              "      <td>78739.000000</td>\n",
              "      <td>78749.000000</td>\n",
              "      <td>78759.000000</td>\n",
              "    </tr>\n",
              "    <tr>\n",
              "      <th>latitude</th>\n",
              "      <td>14241.000000</td>\n",
              "      <td>30.291740</td>\n",
              "      <td>0.098383</td>\n",
              "      <td>30.085030</td>\n",
              "      <td>30.201195</td>\n",
              "      <td>30.284163</td>\n",
              "      <td>30.367920</td>\n",
              "      <td>30.517174</td>\n",
              "    </tr>\n",
              "    <tr>\n",
              "      <th>longitude</th>\n",
              "      <td>14241.000000</td>\n",
              "      <td>-97.780411</td>\n",
              "      <td>0.085880</td>\n",
              "      <td>-98.022057</td>\n",
              "      <td>-97.841804</td>\n",
              "      <td>-97.771988</td>\n",
              "      <td>-97.718689</td>\n",
              "      <td>-97.569504</td>\n",
              "    </tr>\n",
              "    <tr>\n",
              "      <th>propertyTaxRate</th>\n",
              "      <td>14241.000000</td>\n",
              "      <td>1.994731</td>\n",
              "      <td>0.054207</td>\n",
              "      <td>1.980000</td>\n",
              "      <td>1.980000</td>\n",
              "      <td>1.980000</td>\n",
              "      <td>1.980000</td>\n",
              "      <td>2.210000</td>\n",
              "    </tr>\n",
              "    <tr>\n",
              "      <th>garageSpaces</th>\n",
              "      <td>14241.000000</td>\n",
              "      <td>1.236851</td>\n",
              "      <td>1.343474</td>\n",
              "      <td>0.000000</td>\n",
              "      <td>0.000000</td>\n",
              "      <td>1.000000</td>\n",
              "      <td>2.000000</td>\n",
              "      <td>20.000000</td>\n",
              "    </tr>\n",
              "    <tr>\n",
              "      <th>parkingSpaces</th>\n",
              "      <td>14241.000000</td>\n",
              "      <td>1.236219</td>\n",
              "      <td>1.343612</td>\n",
              "      <td>0.000000</td>\n",
              "      <td>0.000000</td>\n",
              "      <td>1.000000</td>\n",
              "      <td>2.000000</td>\n",
              "      <td>20.000000</td>\n",
              "    </tr>\n",
              "    <tr>\n",
              "      <th>yearBuilt</th>\n",
              "      <td>14241.000000</td>\n",
              "      <td>1988.408749</td>\n",
              "      <td>21.555337</td>\n",
              "      <td>1905.000000</td>\n",
              "      <td>1974.000000</td>\n",
              "      <td>1993.000000</td>\n",
              "      <td>2006.000000</td>\n",
              "      <td>2020.000000</td>\n",
              "    </tr>\n",
              "    <tr>\n",
              "      <th>latestPrice</th>\n",
              "      <td>14241.000000</td>\n",
              "      <td>516387.884629</td>\n",
              "      <td>446969.176124</td>\n",
              "      <td>5500.000000</td>\n",
              "      <td>310000.000000</td>\n",
              "      <td>409900.000000</td>\n",
              "      <td>575000.000000</td>\n",
              "      <td>13500000.000000</td>\n",
              "    </tr>\n",
              "    <tr>\n",
              "      <th>numPriceChanges</th>\n",
              "      <td>14241.000000</td>\n",
              "      <td>3.044730</td>\n",
              "      <td>2.491960</td>\n",
              "      <td>1.000000</td>\n",
              "      <td>1.000000</td>\n",
              "      <td>2.000000</td>\n",
              "      <td>4.000000</td>\n",
              "      <td>23.000000</td>\n",
              "    </tr>\n",
              "    <tr>\n",
              "      <th>latest_salemonth</th>\n",
              "      <td>14241.000000</td>\n",
              "      <td>6.728039</td>\n",
              "      <td>3.134325</td>\n",
              "      <td>1.000000</td>\n",
              "      <td>4.000000</td>\n",
              "      <td>7.000000</td>\n",
              "      <td>9.000000</td>\n",
              "      <td>12.000000</td>\n",
              "    </tr>\n",
              "    <tr>\n",
              "      <th>latest_saleyear</th>\n",
              "      <td>14241.000000</td>\n",
              "      <td>2019.076469</td>\n",
              "      <td>0.812202</td>\n",
              "      <td>2018.000000</td>\n",
              "      <td>2018.000000</td>\n",
              "      <td>2019.000000</td>\n",
              "      <td>2020.000000</td>\n",
              "      <td>2021.000000</td>\n",
              "    </tr>\n",
              "    <tr>\n",
              "      <th>numOfPhotos</th>\n",
              "      <td>14241.000000</td>\n",
              "      <td>30.882733</td>\n",
              "      <td>21.202598</td>\n",
              "      <td>1.000000</td>\n",
              "      <td>20.000000</td>\n",
              "      <td>29.000000</td>\n",
              "      <td>39.000000</td>\n",
              "      <td>179.000000</td>\n",
              "    </tr>\n",
              "    <tr>\n",
              "      <th>numOfAccessibilityFeatures</th>\n",
              "      <td>14241.000000</td>\n",
              "      <td>0.013412</td>\n",
              "      <td>0.184063</td>\n",
              "      <td>0.000000</td>\n",
              "      <td>0.000000</td>\n",
              "      <td>0.000000</td>\n",
              "      <td>0.000000</td>\n",
              "      <td>8.000000</td>\n",
              "    </tr>\n",
              "    <tr>\n",
              "      <th>numOfAppliances</th>\n",
              "      <td>14241.000000</td>\n",
              "      <td>3.469770</td>\n",
              "      <td>1.864573</td>\n",
              "      <td>0.000000</td>\n",
              "      <td>2.000000</td>\n",
              "      <td>3.000000</td>\n",
              "      <td>4.000000</td>\n",
              "      <td>10.000000</td>\n",
              "    </tr>\n",
              "    <tr>\n",
              "      <th>numOfParkingFeatures</th>\n",
              "      <td>14241.000000</td>\n",
              "      <td>1.713503</td>\n",
              "      <td>0.776005</td>\n",
              "      <td>0.000000</td>\n",
              "      <td>1.000000</td>\n",
              "      <td>2.000000</td>\n",
              "      <td>2.000000</td>\n",
              "      <td>6.000000</td>\n",
              "    </tr>\n",
              "    <tr>\n",
              "      <th>numOfPatioAndPorchFeatures</th>\n",
              "      <td>14241.000000</td>\n",
              "      <td>0.671793</td>\n",
              "      <td>0.987633</td>\n",
              "      <td>0.000000</td>\n",
              "      <td>0.000000</td>\n",
              "      <td>0.000000</td>\n",
              "      <td>1.000000</td>\n",
              "      <td>8.000000</td>\n",
              "    </tr>\n",
              "    <tr>\n",
              "      <th>numOfSecurityFeatures</th>\n",
              "      <td>14241.000000</td>\n",
              "      <td>0.472790</td>\n",
              "      <td>0.829313</td>\n",
              "      <td>0.000000</td>\n",
              "      <td>0.000000</td>\n",
              "      <td>0.000000</td>\n",
              "      <td>1.000000</td>\n",
              "      <td>6.000000</td>\n",
              "    </tr>\n",
              "    <tr>\n",
              "      <th>numOfWaterfrontFeatures</th>\n",
              "      <td>14241.000000</td>\n",
              "      <td>0.002739</td>\n",
              "      <td>0.060946</td>\n",
              "      <td>0.000000</td>\n",
              "      <td>0.000000</td>\n",
              "      <td>0.000000</td>\n",
              "      <td>0.000000</td>\n",
              "      <td>2.000000</td>\n",
              "    </tr>\n",
              "    <tr>\n",
              "      <th>numOfWindowFeatures</th>\n",
              "      <td>14241.000000</td>\n",
              "      <td>0.210378</td>\n",
              "      <td>0.491194</td>\n",
              "      <td>0.000000</td>\n",
              "      <td>0.000000</td>\n",
              "      <td>0.000000</td>\n",
              "      <td>0.000000</td>\n",
              "      <td>4.000000</td>\n",
              "    </tr>\n",
              "    <tr>\n",
              "      <th>numOfCommunityFeatures</th>\n",
              "      <td>14241.000000</td>\n",
              "      <td>0.011867</td>\n",
              "      <td>0.114593</td>\n",
              "      <td>0.000000</td>\n",
              "      <td>0.000000</td>\n",
              "      <td>0.000000</td>\n",
              "      <td>0.000000</td>\n",
              "      <td>3.000000</td>\n",
              "    </tr>\n",
              "    <tr>\n",
              "      <th>lotSizeSqFt</th>\n",
              "      <td>14241.000000</td>\n",
              "      <td>121761.473955</td>\n",
              "      <td>12641347.597454</td>\n",
              "      <td>113.000000</td>\n",
              "      <td>6621.000000</td>\n",
              "      <td>8319.000000</td>\n",
              "      <td>10890.000000</td>\n",
              "      <td>1508482800.000000</td>\n",
              "    </tr>\n",
              "    <tr>\n",
              "      <th>livingAreaSqFt</th>\n",
              "      <td>14241.000000</td>\n",
              "      <td>2234.634506</td>\n",
              "      <td>1386.511828</td>\n",
              "      <td>300.000000</td>\n",
              "      <td>1501.000000</td>\n",
              "      <td>2011.000000</td>\n",
              "      <td>2725.000000</td>\n",
              "      <td>109292.000000</td>\n",
              "    </tr>\n",
              "    <tr>\n",
              "      <th>numOfPrimarySchools</th>\n",
              "      <td>14241.000000</td>\n",
              "      <td>0.941437</td>\n",
              "      <td>0.235113</td>\n",
              "      <td>0.000000</td>\n",
              "      <td>1.000000</td>\n",
              "      <td>1.000000</td>\n",
              "      <td>1.000000</td>\n",
              "      <td>2.000000</td>\n",
              "    </tr>\n",
              "    <tr>\n",
              "      <th>numOfElementarySchools</th>\n",
              "      <td>14241.000000</td>\n",
              "      <td>0.048171</td>\n",
              "      <td>0.233884</td>\n",
              "      <td>0.000000</td>\n",
              "      <td>0.000000</td>\n",
              "      <td>0.000000</td>\n",
              "      <td>0.000000</td>\n",
              "      <td>2.000000</td>\n",
              "    </tr>\n",
              "    <tr>\n",
              "      <th>numOfMiddleSchools</th>\n",
              "      <td>14241.000000</td>\n",
              "      <td>1.036163</td>\n",
              "      <td>0.264253</td>\n",
              "      <td>0.000000</td>\n",
              "      <td>1.000000</td>\n",
              "      <td>1.000000</td>\n",
              "      <td>1.000000</td>\n",
              "      <td>3.000000</td>\n",
              "    </tr>\n",
              "    <tr>\n",
              "      <th>numOfHighSchools</th>\n",
              "      <td>14241.000000</td>\n",
              "      <td>0.977389</td>\n",
              "      <td>0.297310</td>\n",
              "      <td>0.000000</td>\n",
              "      <td>1.000000</td>\n",
              "      <td>1.000000</td>\n",
              "      <td>1.000000</td>\n",
              "      <td>2.000000</td>\n",
              "    </tr>\n",
              "    <tr>\n",
              "      <th>avgSchoolDistance</th>\n",
              "      <td>14241.000000</td>\n",
              "      <td>1.861457</td>\n",
              "      <td>1.075312</td>\n",
              "      <td>0.200000</td>\n",
              "      <td>1.100000</td>\n",
              "      <td>1.566667</td>\n",
              "      <td>2.300000</td>\n",
              "      <td>9.000000</td>\n",
              "    </tr>\n",
              "    <tr>\n",
              "      <th>avgSchoolRating</th>\n",
              "      <td>14241.000000</td>\n",
              "      <td>5.808799</td>\n",
              "      <td>1.868319</td>\n",
              "      <td>2.333333</td>\n",
              "      <td>4.000000</td>\n",
              "      <td>6.000000</td>\n",
              "      <td>7.000000</td>\n",
              "      <td>9.500000</td>\n",
              "    </tr>\n",
              "    <tr>\n",
              "      <th>avgSchoolSize</th>\n",
              "      <td>14241.000000</td>\n",
              "      <td>1244.773682</td>\n",
              "      <td>326.388760</td>\n",
              "      <td>396.000000</td>\n",
              "      <td>1002.000000</td>\n",
              "      <td>1298.000000</td>\n",
              "      <td>1506.000000</td>\n",
              "      <td>1913.000000</td>\n",
              "    </tr>\n",
              "    <tr>\n",
              "      <th>MedianStudentsPerTeacher</th>\n",
              "      <td>14241.000000</td>\n",
              "      <td>14.874517</td>\n",
              "      <td>1.751620</td>\n",
              "      <td>10.000000</td>\n",
              "      <td>14.000000</td>\n",
              "      <td>15.000000</td>\n",
              "      <td>16.000000</td>\n",
              "      <td>19.000000</td>\n",
              "    </tr>\n",
              "    <tr>\n",
              "      <th>numOfBathrooms</th>\n",
              "      <td>14241.000000</td>\n",
              "      <td>2.702440</td>\n",
              "      <td>1.035486</td>\n",
              "      <td>0.000000</td>\n",
              "      <td>2.000000</td>\n",
              "      <td>3.000000</td>\n",
              "      <td>3.000000</td>\n",
              "      <td>27.000000</td>\n",
              "    </tr>\n",
              "    <tr>\n",
              "      <th>numOfBedrooms</th>\n",
              "      <td>14241.000000</td>\n",
              "      <td>3.480163</td>\n",
              "      <td>0.780046</td>\n",
              "      <td>0.000000</td>\n",
              "      <td>3.000000</td>\n",
              "      <td>3.000000</td>\n",
              "      <td>4.000000</td>\n",
              "      <td>8.000000</td>\n",
              "    </tr>\n",
              "    <tr>\n",
              "      <th>numOfStories</th>\n",
              "      <td>14241.000000</td>\n",
              "      <td>1.456920</td>\n",
              "      <td>0.516839</td>\n",
              "      <td>1.000000</td>\n",
              "      <td>1.000000</td>\n",
              "      <td>1.000000</td>\n",
              "      <td>2.000000</td>\n",
              "      <td>4.000000</td>\n",
              "    </tr>\n",
              "    <tr>\n",
              "      <th>hasAssociation_int</th>\n",
              "      <td>14241.000000</td>\n",
              "      <td>0.516818</td>\n",
              "      <td>0.499735</td>\n",
              "      <td>0.000000</td>\n",
              "      <td>0.000000</td>\n",
              "      <td>1.000000</td>\n",
              "      <td>1.000000</td>\n",
              "      <td>1.000000</td>\n",
              "    </tr>\n",
              "    <tr>\n",
              "      <th>hasCooling_int</th>\n",
              "      <td>14241.000000</td>\n",
              "      <td>0.984130</td>\n",
              "      <td>0.124976</td>\n",
              "      <td>0.000000</td>\n",
              "      <td>1.000000</td>\n",
              "      <td>1.000000</td>\n",
              "      <td>1.000000</td>\n",
              "      <td>1.000000</td>\n",
              "    </tr>\n",
              "    <tr>\n",
              "      <th>hasGarage_int</th>\n",
              "      <td>14241.000000</td>\n",
              "      <td>0.550242</td>\n",
              "      <td>0.497487</td>\n",
              "      <td>0.000000</td>\n",
              "      <td>0.000000</td>\n",
              "      <td>1.000000</td>\n",
              "      <td>1.000000</td>\n",
              "      <td>1.000000</td>\n",
              "    </tr>\n",
              "    <tr>\n",
              "      <th>hasHeating_int</th>\n",
              "      <td>14241.000000</td>\n",
              "      <td>0.991574</td>\n",
              "      <td>0.091411</td>\n",
              "      <td>0.000000</td>\n",
              "      <td>1.000000</td>\n",
              "      <td>1.000000</td>\n",
              "      <td>1.000000</td>\n",
              "      <td>1.000000</td>\n",
              "    </tr>\n",
              "    <tr>\n",
              "      <th>hasSpa_int</th>\n",
              "      <td>14241.000000</td>\n",
              "      <td>0.081455</td>\n",
              "      <td>0.273542</td>\n",
              "      <td>0.000000</td>\n",
              "      <td>0.000000</td>\n",
              "      <td>0.000000</td>\n",
              "      <td>0.000000</td>\n",
              "      <td>1.000000</td>\n",
              "    </tr>\n",
              "    <tr>\n",
              "      <th>hasView_int</th>\n",
              "      <td>14241.000000</td>\n",
              "      <td>0.224844</td>\n",
              "      <td>0.417494</td>\n",
              "      <td>0.000000</td>\n",
              "      <td>0.000000</td>\n",
              "      <td>0.000000</td>\n",
              "      <td>0.000000</td>\n",
              "      <td>1.000000</td>\n",
              "    </tr>\n",
              "  </tbody>\n",
              "</table>\n",
              "</div>\n",
              "      <button class=\"colab-df-convert\" onclick=\"convertToInteractive('df-999e953b-b05c-41bd-b29c-420250950aa0')\"\n",
              "              title=\"Convert this dataframe to an interactive table.\"\n",
              "              style=\"display:none;\">\n",
              "\n",
              "  <svg xmlns=\"http://www.w3.org/2000/svg\" height=\"24px\"viewBox=\"0 0 24 24\"\n",
              "       width=\"24px\">\n",
              "    <path d=\"M0 0h24v24H0V0z\" fill=\"none\"/>\n",
              "    <path d=\"M18.56 5.44l.94 2.06.94-2.06 2.06-.94-2.06-.94-.94-2.06-.94 2.06-2.06.94zm-11 1L8.5 8.5l.94-2.06 2.06-.94-2.06-.94L8.5 2.5l-.94 2.06-2.06.94zm10 10l.94 2.06.94-2.06 2.06-.94-2.06-.94-.94-2.06-.94 2.06-2.06.94z\"/><path d=\"M17.41 7.96l-1.37-1.37c-.4-.4-.92-.59-1.43-.59-.52 0-1.04.2-1.43.59L10.3 9.45l-7.72 7.72c-.78.78-.78 2.05 0 2.83L4 21.41c.39.39.9.59 1.41.59.51 0 1.02-.2 1.41-.59l7.78-7.78 2.81-2.81c.8-.78.8-2.07 0-2.86zM5.41 20L4 18.59l7.72-7.72 1.47 1.35L5.41 20z\"/>\n",
              "  </svg>\n",
              "      </button>\n",
              "\n",
              "\n",
              "\n",
              "    <div id=\"df-3a65fe53-0e46-422f-bc05-43cda8aa797d\">\n",
              "      <button class=\"colab-df-quickchart\" onclick=\"quickchart('df-3a65fe53-0e46-422f-bc05-43cda8aa797d')\"\n",
              "              title=\"Suggest charts.\"\n",
              "              style=\"display:none;\">\n",
              "\n",
              "<svg xmlns=\"http://www.w3.org/2000/svg\" height=\"24px\"viewBox=\"0 0 24 24\"\n",
              "     width=\"24px\">\n",
              "    <g>\n",
              "        <path d=\"M19 3H5c-1.1 0-2 .9-2 2v14c0 1.1.9 2 2 2h14c1.1 0 2-.9 2-2V5c0-1.1-.9-2-2-2zM9 17H7v-7h2v7zm4 0h-2V7h2v10zm4 0h-2v-4h2v4z\"/>\n",
              "    </g>\n",
              "</svg>\n",
              "      </button>\n",
              "    </div>\n",
              "\n",
              "<style>\n",
              "  .colab-df-quickchart {\n",
              "    background-color: #E8F0FE;\n",
              "    border: none;\n",
              "    border-radius: 50%;\n",
              "    cursor: pointer;\n",
              "    display: none;\n",
              "    fill: #1967D2;\n",
              "    height: 32px;\n",
              "    padding: 0 0 0 0;\n",
              "    width: 32px;\n",
              "  }\n",
              "\n",
              "  .colab-df-quickchart:hover {\n",
              "    background-color: #E2EBFA;\n",
              "    box-shadow: 0px 1px 2px rgba(60, 64, 67, 0.3), 0px 1px 3px 1px rgba(60, 64, 67, 0.15);\n",
              "    fill: #174EA6;\n",
              "  }\n",
              "\n",
              "  [theme=dark] .colab-df-quickchart {\n",
              "    background-color: #3B4455;\n",
              "    fill: #D2E3FC;\n",
              "  }\n",
              "\n",
              "  [theme=dark] .colab-df-quickchart:hover {\n",
              "    background-color: #434B5C;\n",
              "    box-shadow: 0px 1px 3px 1px rgba(0, 0, 0, 0.15);\n",
              "    filter: drop-shadow(0px 1px 2px rgba(0, 0, 0, 0.3));\n",
              "    fill: #FFFFFF;\n",
              "  }\n",
              "</style>\n",
              "\n",
              "    <script>\n",
              "      async function quickchart(key) {\n",
              "        const containerElement = document.querySelector('#' + key);\n",
              "        const charts = await google.colab.kernel.invokeFunction(\n",
              "            'suggestCharts', [key], {});\n",
              "      }\n",
              "    </script>\n",
              "\n",
              "      <script>\n",
              "\n",
              "function displayQuickchartButton(domScope) {\n",
              "  let quickchartButtonEl =\n",
              "    domScope.querySelector('#df-3a65fe53-0e46-422f-bc05-43cda8aa797d button.colab-df-quickchart');\n",
              "  quickchartButtonEl.style.display =\n",
              "    google.colab.kernel.accessAllowed ? 'block' : 'none';\n",
              "}\n",
              "\n",
              "        displayQuickchartButton(document);\n",
              "      </script>\n",
              "      <style>\n",
              "    .colab-df-container {\n",
              "      display:flex;\n",
              "      flex-wrap:wrap;\n",
              "      gap: 12px;\n",
              "    }\n",
              "\n",
              "    .colab-df-convert {\n",
              "      background-color: #E8F0FE;\n",
              "      border: none;\n",
              "      border-radius: 50%;\n",
              "      cursor: pointer;\n",
              "      display: none;\n",
              "      fill: #1967D2;\n",
              "      height: 32px;\n",
              "      padding: 0 0 0 0;\n",
              "      width: 32px;\n",
              "    }\n",
              "\n",
              "    .colab-df-convert:hover {\n",
              "      background-color: #E2EBFA;\n",
              "      box-shadow: 0px 1px 2px rgba(60, 64, 67, 0.3), 0px 1px 3px 1px rgba(60, 64, 67, 0.15);\n",
              "      fill: #174EA6;\n",
              "    }\n",
              "\n",
              "    [theme=dark] .colab-df-convert {\n",
              "      background-color: #3B4455;\n",
              "      fill: #D2E3FC;\n",
              "    }\n",
              "\n",
              "    [theme=dark] .colab-df-convert:hover {\n",
              "      background-color: #434B5C;\n",
              "      box-shadow: 0px 1px 3px 1px rgba(0, 0, 0, 0.15);\n",
              "      filter: drop-shadow(0px 1px 2px rgba(0, 0, 0, 0.3));\n",
              "      fill: #FFFFFF;\n",
              "    }\n",
              "  </style>\n",
              "\n",
              "      <script>\n",
              "        const buttonEl =\n",
              "          document.querySelector('#df-999e953b-b05c-41bd-b29c-420250950aa0 button.colab-df-convert');\n",
              "        buttonEl.style.display =\n",
              "          google.colab.kernel.accessAllowed ? 'block' : 'none';\n",
              "\n",
              "        async function convertToInteractive(key) {\n",
              "          const element = document.querySelector('#df-999e953b-b05c-41bd-b29c-420250950aa0');\n",
              "          const dataTable =\n",
              "            await google.colab.kernel.invokeFunction('convertToInteractive',\n",
              "                                                     [key], {});\n",
              "          if (!dataTable) return;\n",
              "\n",
              "          const docLinkHtml = 'Like what you see? Visit the ' +\n",
              "            '<a target=\"_blank\" href=https://colab.research.google.com/notebooks/data_table.ipynb>data table notebook</a>'\n",
              "            + ' to learn more about interactive tables.';\n",
              "          element.innerHTML = '';\n",
              "          dataTable['output_type'] = 'display_data';\n",
              "          await google.colab.output.renderOutput(dataTable, element);\n",
              "          const docLink = document.createElement('div');\n",
              "          docLink.innerHTML = docLinkHtml;\n",
              "          element.appendChild(docLink);\n",
              "        }\n",
              "      </script>\n",
              "    </div>\n",
              "  </div>\n"
            ]
          },
          "metadata": {},
          "execution_count": 9
        }
      ]
    },
    {
      "cell_type": "markdown",
      "source": [
        "If you notice, the latest prices ranges from 5500 dollars to 13.5 million! This is a large gap and could heavily skew our model. Let's look and see if we can narrow that down by looking at the column on a normal distribution and finding the inner 90 and 95 percent ranges."
      ],
      "metadata": {
        "id": "NqEw983xsV0c"
      }
    },
    {
      "cell_type": "code",
      "source": [
        "#Narrowing this down can help our model. Lets look at the mid 80 & 90%\n",
        "upper = np.percentile(df.latestPrice, 90)\n",
        "lower = np.percentile(df.latestPrice, 10)\n",
        "\n",
        "print('Middle 80 are values between {} and {}'.format(lower, upper))\n",
        "\n",
        "upper = np.percentile(df.latestPrice, 95)\n",
        "lower = np.percentile(df.latestPrice, 5)\n",
        "\n",
        "print('Middle 90 are values between {} and {}'.format(lower, upper))"
      ],
      "metadata": {
        "colab": {
          "base_uri": "https://localhost:8080/"
        },
        "id": "H7OyHAn_sxuO",
        "outputId": "d214c32a-dac2-40fe-845a-6d2ad66169ec"
      },
      "execution_count": null,
      "outputs": [
        {
          "output_type": "stream",
          "name": "stdout",
          "text": [
            "Middle 80 are values between 240000.0 and 840000.0\n",
            "Middle 90 are values between 207000.0 and 1175000.0\n"
          ]
        }
      ]
    },
    {
      "cell_type": "markdown",
      "source": [
        "The middle 90% of the home values are between 207,000 and 1,175,000. If we move the lower bound down I think we should be looking at home from 200,000 to 1.1 million, covering roughly 90% of our data."
      ],
      "metadata": {
        "id": "MbEdeNjPtGDI"
      }
    },
    {
      "cell_type": "code",
      "source": [
        "#Dropping values between 200k and 1.175M\n",
        "df = df.drop(df[df['latestPrice'] < 200000].index)\n",
        "df = df.drop(df[df['latestPrice'] > 1175000].index)\n",
        "df.shape"
      ],
      "metadata": {
        "colab": {
          "base_uri": "https://localhost:8080/"
        },
        "id": "ncz_x_FctKGZ",
        "outputId": "b47160e1-5f90-4172-e5ca-7f0dfa3140b8"
      },
      "execution_count": null,
      "outputs": [
        {
          "output_type": "execute_result",
          "data": {
            "text/plain": [
              "(12907, 39)"
            ]
          },
          "metadata": {},
          "execution_count": 11
        }
      ]
    },
    {
      "cell_type": "markdown",
      "source": [
        "## Final Pre-Processing\n",
        "Now that our dataset is where we want it to be, the final part before creating a model will be too create the test and training sets, as well as normalize the data. Below we will do both of those."
      ],
      "metadata": {
        "id": "1f0NR89zuePL"
      }
    },
    {
      "cell_type": "code",
      "source": [
        "#Creating Train and Test splits\n",
        "X = df.drop('latestPrice', axis='columns')\n",
        "y = df.latestPrice\n",
        "X_train, X_test, y_train, y_test = train_test_split(X, y,\n",
        "                                                    test_size=.2,\n",
        "                                                    random_state=42)"
      ],
      "metadata": {
        "id": "GhvIimB8usa-"
      },
      "execution_count": null,
      "outputs": []
    },
    {
      "cell_type": "code",
      "source": [
        "#Normalizing the input data\n",
        "sc = MinMaxScaler(feature_range=(0,1))\n",
        "X_norm_train = sc.fit_transform(X_train)\n",
        "X_norm_test = sc.fit_transform(X_test)"
      ],
      "metadata": {
        "id": "3N7TyJZuuzVe"
      },
      "execution_count": null,
      "outputs": []
    },
    {
      "cell_type": "markdown",
      "source": [
        "## Linear Regression"
      ],
      "metadata": {
        "id": "rpzJTH7tvW_Q"
      }
    },
    {
      "cell_type": "code",
      "source": [],
      "metadata": {
        "id": "aUOWxtvyvb6f"
      },
      "execution_count": null,
      "outputs": []
    },
    {
      "cell_type": "markdown",
      "source": [
        "## Nueral Networking\n",
        "The nueral networking approach is more complex than linear regression. Still using RMSE, MSE, and MAE as evaluation metrics, the model can take a long time to compute as well as be hard to interprate exactly what is going on. We will create a basic model first, and start to build more complex model to try and minimize our evaluation metrics."
      ],
      "metadata": {
        "id": "xuBQN9JtvcN-"
      }
    },
    {
      "cell_type": "markdown",
      "source": [
        "### Creating a visualization tool\n",
        "First we'll create a function that takes a model's training history and output two graphs describing the MSE and MAE of our training and validation sets. This way we can easily see visually how the model is performing."
      ],
      "metadata": {
        "id": "v_MdXOs4wUGv"
      }
    },
    {
      "cell_type": "code",
      "source": [
        "#Creating plotting function to evaluate models\n",
        "def plot_results(r):\n",
        "  hist = pd.DataFrame(r.history)\n",
        "  hist['epoch'] = r.epoch\n",
        "\n",
        "  plt.figure()\n",
        "  plt.xlabel('Epoch')\n",
        "  plt.ylabel('MAE of House Price')\n",
        "  plt.plot(hist['epoch'], hist['mae'],\n",
        "           label='Train Error')\n",
        "  plt.plot(hist['epoch'], hist['val_mae'],\n",
        "           label='Validation Error')\n",
        "  plt.legend()\n",
        "\n",
        "  plt.figure()\n",
        "  plt.xlabel('Epoch')\n",
        "  plt.ylabel('MSE of House Price')\n",
        "  plt.plot(hist['epoch'], hist['mse'],\n",
        "           label='Train Error')\n",
        "  plt.plot(hist['epoch'], hist['val_mse'],\n",
        "           label='Validation Error')\n",
        "  plt.legend()"
      ],
      "metadata": {
        "id": "LoLHjPbTwkDJ"
      },
      "execution_count": null,
      "outputs": []
    },
    {
      "cell_type": "markdown",
      "source": [
        "### Model Creation\n",
        "Now let's create our first basic model"
      ],
      "metadata": {
        "id": "6_SJ7YLjwvk4"
      }
    },
    {
      "cell_type": "code",
      "source": [
        "#First Model with relu as activation, simple architecture, and adam as optimizer\n",
        "def build_model():\n",
        "  model = keras.Sequential([\n",
        "      layers.Dense(40, activation=tf.nn.relu, input_shape=[len(X_train.keys())]),\n",
        "      layers.Dense(20, activation=tf.nn.relu),\n",
        "      layers.Dense(10, activation=tf.nn.relu),\n",
        "      layers.Dense(1)\n",
        "  ])\n",
        "\n",
        "  optimizer = 'adam'\n",
        "\n",
        "  model.compile(\n",
        "      loss = 'mse',\n",
        "      optimizer=optimizer,\n",
        "      metrics=['mae','mse']\n",
        "  )\n",
        "\n",
        "  return model"
      ],
      "metadata": {
        "id": "mVFnYjXzw0kr"
      },
      "execution_count": null,
      "outputs": []
    },
    {
      "cell_type": "code",
      "source": [
        "# Instantiate the model and look at summary\n",
        "v1_model = build_model()\n",
        "v1_model.summary()"
      ],
      "metadata": {
        "colab": {
          "base_uri": "https://localhost:8080/"
        },
        "id": "F-tfBzl3xQWE",
        "outputId": "f4b77473-34a1-4d5c-8571-3bf40c6862f8"
      },
      "execution_count": null,
      "outputs": [
        {
          "output_type": "stream",
          "name": "stdout",
          "text": [
            "Model: \"sequential\"\n",
            "_________________________________________________________________\n",
            " Layer (type)                Output Shape              Param #   \n",
            "=================================================================\n",
            " dense (Dense)               (None, 40)                1560      \n",
            "                                                                 \n",
            " dense_1 (Dense)             (None, 20)                820       \n",
            "                                                                 \n",
            " dense_2 (Dense)             (None, 10)                210       \n",
            "                                                                 \n",
            " dense_3 (Dense)             (None, 1)                 11        \n",
            "                                                                 \n",
            "=================================================================\n",
            "Total params: 2,601\n",
            "Trainable params: 2,601\n",
            "Non-trainable params: 0\n",
            "_________________________________________________________________\n"
          ]
        }
      ]
    },
    {
      "cell_type": "code",
      "source": [
        "#Train and view model results\n",
        "v1_history = v1_model.fit(X_norm_train, y_train,\n",
        "                          epochs=200,\n",
        "                          validation_split=.2,\n",
        "                          verbose=0)\n",
        "plot_results(v1_history)\n",
        "\n",
        "v1_loss, v1_mae, v1_mse = v1_model.evaluate(X_norm_test, y_test, verbose=0)\n",
        "\n",
        "print('Testing set Mean Abs Error: {:5.2f} dollars'.format(v1_mae))\n",
        "print('Testing set Root Mean Squared Error: {:5.2f} dollars'.format(np.sqrt(v1_mse)))"
      ],
      "metadata": {
        "colab": {
          "base_uri": "https://localhost:8080/",
          "height": 932
        },
        "id": "l3a8__iix19l",
        "outputId": "6c114de8-0d87-4116-9ab3-15cb69f93b45"
      },
      "execution_count": null,
      "outputs": [
        {
          "output_type": "stream",
          "name": "stdout",
          "text": [
            "Testing set Mean Abs Error: 206578.23 dollars\n",
            "Testing set Root Mean Squared Error: 261702.75 dollars\n"
          ]
        },
        {
          "output_type": "display_data",
          "data": {
            "text/plain": [
              "<Figure size 640x480 with 1 Axes>"
            ],
            "image/png": "[encoded data removed]"
          },
          "metadata": {}
        },
        {
          "output_type": "display_data",
          "data": {
            "text/plain": [
              "<Figure size 640x480 with 1 Axes>"
            ],
            "image/png": "[encoded data removed]"
          },
          "metadata": {}
        }
      ]
    },
    {
      "cell_type": "markdown",
      "source": [
        "Overall the model seemed to perform well. It starts to bottom out on performance after 50 epochs, so it might be useful to add in a dynamic of early stopping to the model in order to stop it from overtraining and taking longer than it needs too."
      ],
      "metadata": {
        "id": "ca42fXHuy9sf"
      }
    },
    {
      "cell_type": "code",
      "source": [
        "# Create the early stopping callback\n",
        "early_stop = keras.callbacks.EarlyStopping(monitor='val_loss', patience=20)"
      ],
      "metadata": {
        "id": "2pB0mlHdzRzN"
      },
      "execution_count": null,
      "outputs": []
    },
    {
      "cell_type": "code",
      "source": [
        "# Create a new model with Early Stopping\n",
        "def build_model():\n",
        "  model = keras.Sequential([\n",
        "      layers.Dense(40, activation=tf.nn.relu, input_shape=[len(X_train.keys())]),\n",
        "      layers.Dense(20, activation=tf.nn.relu),\n",
        "      layers.Dense(10, activation=tf.nn.relu),\n",
        "      layers.Dense(1)\n",
        "  ])\n",
        "\n",
        "  optimizer = 'adam'\n",
        "\n",
        "  model.compile(\n",
        "      loss = 'mse',\n",
        "      optimizer=optimizer,\n",
        "      metrics=['mae','mse'],\n",
        "  )\n",
        "\n",
        "  return model"
      ],
      "metadata": {
        "id": "0h-KFJY7z_eY"
      },
      "execution_count": null,
      "outputs": []
    },
    {
      "cell_type": "code",
      "source": [
        "# Instantiate the model and look at summary\n",
        "v2_model = build_model()\n",
        "v2_model.summary()"
      ],
      "metadata": {
        "colab": {
          "base_uri": "https://localhost:8080/"
        },
        "outputId": "ae98bc98-ab4c-41e1-fbfa-88266aa5b696",
        "id": "hAP29s8j0Sjv"
      },
      "execution_count": null,
      "outputs": [
        {
          "output_type": "stream",
          "name": "stdout",
          "text": [
            "Model: \"sequential_2\"\n",
            "_________________________________________________________________\n",
            " Layer (type)                Output Shape              Param #   \n",
            "=================================================================\n",
            " dense_8 (Dense)             (None, 40)                1560      \n",
            "                                                                 \n",
            " dense_9 (Dense)             (None, 20)                820       \n",
            "                                                                 \n",
            " dense_10 (Dense)            (None, 10)                210       \n",
            "                                                                 \n",
            " dense_11 (Dense)            (None, 1)                 11        \n",
            "                                                                 \n",
            "=================================================================\n",
            "Total params: 2,601\n",
            "Trainable params: 2,601\n",
            "Non-trainable params: 0\n",
            "_________________________________________________________________\n"
          ]
        }
      ]
    },
    {
      "cell_type": "code",
      "source": [
        "#Train and view model results, with early stopping\n",
        "v2_history = v2_model.fit(X_norm_train, y_train,\n",
        "                          epochs=200,\n",
        "                          validation_split=.2,\n",
        "                          verbose=0,\n",
        "                          callbacks=[early_stop])\n",
        "plot_results(v2_history)\n",
        "\n",
        "v2_loss, v2_mae, v2_mse = v2_model.evaluate(X_norm_test, y_test, verbose=0)\n",
        "\n",
        "print('Testing set Mean Abs Error: {:5.2f} dollars'.format(v2_mae))\n",
        "print('Testing set Root Mean Squared Error: {:5.2f} dollars'.format(np.sqrt(v2_mse)))"
      ],
      "metadata": {
        "colab": {
          "base_uri": "https://localhost:8080/",
          "height": 932
        },
        "outputId": "66ea8668-9d44-470f-b00d-1b8f79eff999",
        "id": "yHlgZ0y90Sj2"
      },
      "execution_count": null,
      "outputs": [
        {
          "output_type": "stream",
          "name": "stdout",
          "text": [
            "Testing set Mean Abs Error: 191062.78 dollars\n",
            "Testing set Root Mean Squared Error: 248889.50 dollars\n"
          ]
        },
        {
          "output_type": "display_data",
          "data": {
            "text/plain": [
              "<Figure size 640x480 with 1 Axes>"
            ],
            "image/png": "[encoded data removed]"
          },
          "metadata": {}
        },
        {
          "output_type": "display_data",
          "data": {
            "text/plain": [
              "<Figure size 640x480 with 1 Axes>"
            ],
            "image/png": "[encoded data removed]"
          },
          "metadata": {}
        }
      ]
    },
    {
      "cell_type": "markdown",
      "source": [
        "The model seemed to have performed better in terms of MAE and RMSE, but the early stopping never kicked in. Let's make the model more complex, with longer epochs and a deeper network and see if we can again reduce the MAE and RMSE."
      ],
      "metadata": {
        "id": "nQlZw5cI1Z9P"
      }
    },
    {
      "cell_type": "code",
      "source": [
        "# Create a more complex model\n",
        "def build_model():\n",
        "  model = keras.Sequential([\n",
        "      layers.Dense(350, activation=tf.nn.relu, input_shape=[len(X_train.keys())]),\n",
        "      layers.Dense(175, activation=tf.nn.relu),\n",
        "      layers.Dense(100, activation=tf.nn.relu),\n",
        "      layers.Dense(50, activation=tf.nn.relu),\n",
        "      layers.Dense(25, activation=tf.nn.relu),\n",
        "      layers.Dense(10, activation=tf.nn.relu),\n",
        "      layers.Dense(1)\n",
        "  ])\n",
        "\n",
        "  optimizer = 'adam'\n",
        "\n",
        "  model.compile(\n",
        "      loss = 'mse',\n",
        "      optimizer=optimizer,\n",
        "      metrics=['mae','mse'],\n",
        "  )\n",
        "\n",
        "  return model"
      ],
      "metadata": {
        "id": "mh62Np7i11cA"
      },
      "execution_count": null,
      "outputs": []
    },
    {
      "cell_type": "code",
      "source": [
        "# Instantiate the model and look at summary\n",
        "v3_model = build_model()\n",
        "v3_model.summary()"
      ],
      "metadata": {
        "colab": {
          "base_uri": "https://localhost:8080/"
        },
        "outputId": "e9086e1b-fdc6-4842-e857-fbf8da0066d1",
        "id": "Micyvnsd11cA"
      },
      "execution_count": null,
      "outputs": [
        {
          "output_type": "stream",
          "name": "stdout",
          "text": [
            "Model: \"sequential_3\"\n",
            "_________________________________________________________________\n",
            " Layer (type)                Output Shape              Param #   \n",
            "=================================================================\n",
            " dense_12 (Dense)            (None, 350)               13650     \n",
            "                                                                 \n",
            " dense_13 (Dense)            (None, 175)               61425     \n",
            "                                                                 \n",
            " dense_14 (Dense)            (None, 100)               17600     \n",
            "                                                                 \n",
            " dense_15 (Dense)            (None, 50)                5050      \n",
            "                                                                 \n",
            " dense_16 (Dense)            (None, 25)                1275      \n",
            "                                                                 \n",
            " dense_17 (Dense)            (None, 10)                260       \n",
            "                                                                 \n",
            " dense_18 (Dense)            (None, 1)                 11        \n",
            "                                                                 \n",
            "=================================================================\n",
            "Total params: 99,271\n",
            "Trainable params: 99,271\n",
            "Non-trainable params: 0\n",
            "_________________________________________________________________\n"
          ]
        }
      ]
    },
    {
      "cell_type": "code",
      "source": [
        "#Train and view model results, with early stopping\n",
        "v3_history = v3_model.fit(X_norm_train, y_train,\n",
        "                          epochs=200,\n",
        "                          validation_split=.2,\n",
        "                          verbose=0,\n",
        "                          callbacks=[early_stop])\n",
        "plot_results(v3_history)\n",
        "\n",
        "v3_loss, v3_mae, v3_mse = v3_model.evaluate(X_norm_test, y_test, verbose=0)\n",
        "\n",
        "print('Testing set Mean Abs Error: {:5.2f} dollars'.format(v3_mae))\n",
        "print('Testing set Root Mean Squared Error: {:5.2f} dollars'.format(np.sqrt(v3_mse)))"
      ],
      "metadata": {
        "colab": {
          "base_uri": "https://localhost:8080/",
          "height": 936
        },
        "outputId": "b41a52f8-3ebf-4891-c958-3e0e020dbd2f",
        "id": "c052LaDB11cA"
      },
      "execution_count": null,
      "outputs": [
        {
          "output_type": "stream",
          "name": "stdout",
          "text": [
            "Testing set Mean Abs Error: 202829.45 dollars\n",
            "Testing set Root Mean Squared Error: 259148.23 dollars\n"
          ]
        },
        {
          "output_type": "display_data",
          "data": {
            "text/plain": [
              "<Figure size 640x480 with 1 Axes>"
            ],
            "image/png": "[encoded data removed]"
          },
          "metadata": {}
        },
        {
          "output_type": "display_data",
          "data": {
            "text/plain": [
              "<Figure size 640x480 with 1 Axes>"
            ],
            "image/png": "[encoded data removed]"
          },
          "metadata": {}
        }
      ]
    },
    {
      "cell_type": "markdown",
      "source": [
        "The larger model didn't seem to yeild better results in either RMSE and MAE. Another critque we could do is adjusting the learning rate of the model. This could allow the model to change it's outer nodes more frequently and perhaps yeild a better result."
      ],
      "metadata": {
        "id": "yqvr615I68SX"
      }
    }
  ]
}