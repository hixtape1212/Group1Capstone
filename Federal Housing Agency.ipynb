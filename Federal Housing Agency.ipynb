{
 "cells": [
  {
   "cell_type": "markdown",
   "metadata": {},
   "source": [
    "# Exploring Federal Housing Agency"
   ]
  },
  {
   "cell_type": "code",
   "execution_count": 1,
   "metadata": {},
   "outputs": [],
   "source": [
    "#file is in the data folder\n",
    "import pandas as pd"
   ]
  },
  {
   "cell_type": "code",
   "execution_count": 2,
   "metadata": {},
   "outputs": [
    {
     "name": "stdout",
     "output_type": "stream",
     "text": [
      "<class 'pandas.core.frame.DataFrame'>\n",
      "RangeIndex: 63890 entries, 0 to 63889\n",
      "Data columns (total 56 columns):\n",
      " #   Column                           Non-Null Count  Dtype  \n",
      "---  ------                           --------------  -----  \n",
      " 0   Year                             63890 non-null  int64  \n",
      " 1   LoanCharacteristicsID            63890 non-null  int64  \n",
      " 2   Bank                             63890 non-null  object \n",
      " 3   FIPSStateNumericCode             63890 non-null  int64  \n",
      " 4   FIPSCountyCode                   63890 non-null  int64  \n",
      " 5   CoreBasedStatisticalAreaCode     63890 non-null  int64  \n",
      " 6   CensusTractIdentifier            63890 non-null  float64\n",
      " 7   CensusTractMinorityRatioPercent  63890 non-null  float64\n",
      " 8   CensusTractMedFamIncomeAmount    63890 non-null  int64  \n",
      " 9   LocalAreaMedianIncomeAmount      63890 non-null  int64  \n",
      " 10  TotalMonthlyIncomeAmount         63890 non-null  int64  \n",
      " 11  HUDMedianIncomeAmount            63890 non-null  int64  \n",
      " 12  LoanAcquisitionActualUPBAmt      63890 non-null  int64  \n",
      " 13  LTVRatioPercent                  63890 non-null  float64\n",
      " 14  NoteDate                         63890 non-null  int64  \n",
      " 15  LoanAcquisitionDate              63890 non-null  int64  \n",
      " 16  LoanPurposeType                  63890 non-null  int64  \n",
      " 17  ProductCategoryName              63890 non-null  int64  \n",
      " 18  MortgageType                     63890 non-null  int64  \n",
      " 19  ScheduledTotalPaymentCount       63890 non-null  int64  \n",
      " 20  LoanAmortizationMaxTermMonths    63890 non-null  int64  \n",
      " 21  MortgageLoanSellerInstType       63890 non-null  int64  \n",
      " 22  BorrowerCount                    63890 non-null  int64  \n",
      " 23  BorrowerFirstTimeHomebuyer       63890 non-null  int64  \n",
      " 24  Borrower1Race1Type               63890 non-null  int64  \n",
      " 25  Borrower2Race1Type               63890 non-null  int64  \n",
      " 26  Borrower1GenderType              63890 non-null  int64  \n",
      " 27  Borrower2GenderType              63890 non-null  int64  \n",
      " 28  Borrower1AgeAtApplicationYears   63890 non-null  int64  \n",
      " 29  Borrower2AgeAtApplicationYears   63890 non-null  int64  \n",
      " 30  PropertyUsageType                63890 non-null  int64  \n",
      " 31  PropertyUnitCount                63890 non-null  int64  \n",
      " 32  NoteRatePercent                  63890 non-null  float64\n",
      " 33  NoteAmount                       63890 non-null  int64  \n",
      " 34  HousingExpenseRatioPercent       63890 non-null  float64\n",
      " 35  TotalDebtExpenseRatioPercent     63890 non-null  float64\n",
      " 36  Borrower1CreditScoreValue        63890 non-null  int64  \n",
      " 37  Borrower2CreditScoreValue        63890 non-null  int64  \n",
      " 38  PMICoveragePercent               63890 non-null  float64\n",
      " 39  EmploymentBorrowerSelfEmployed   63890 non-null  int64  \n",
      " 40  PropertyType                     63890 non-null  object \n",
      " 41  IndexSourceType                  63890 non-null  int64  \n",
      " 42  MarginRatePercent                63890 non-null  int64  \n",
      " 43  PrepaymentPenaltyExpirationDate  63890 non-null  object \n",
      " 44  Borrower1EthnicityType           63890 non-null  int64  \n",
      " 45  Borrower1Race2Type               63890 non-null  int64  \n",
      " 46  Borrower1Race3Type               63890 non-null  int64  \n",
      " 47  Borrower1Race4Type               63890 non-null  int64  \n",
      " 48  Borrower1Race5Type               63890 non-null  int64  \n",
      " 49  Borrower2EthnicityType           63890 non-null  int64  \n",
      " 50  Borrower2Race2Type               63890 non-null  int64  \n",
      " 51  Borrower2Race3Type               63890 non-null  int64  \n",
      " 52  Borrower2Race4Type               63890 non-null  int64  \n",
      " 53  Borrower2Race5Type               63890 non-null  int64  \n",
      " 54  HOEPALoanStatusType              63890 non-null  int64  \n",
      " 55  LienPriorityType                 63890 non-null  int64  \n",
      "dtypes: float64(7), int64(46), object(3)\n",
      "memory usage: 27.3+ MB\n"
     ]
    }
   ],
   "source": [
    "#Public use Database\n",
    "#Internet Link to the data set\n",
    "#https://www.fhfa.gov/DataTools/Downloads/Pages/Public-Use-Databases.aspx\n",
    "file_location = 'data/2021_PUDB_EXPORT_123121.csv'\n",
    "\n",
    "df = pd.read_csv(file_location)\n",
    "df.info()"
   ]
  }
 ],
 "metadata": {
  "kernelspec": {
   "display_name": "Python (learn-env)",
   "language": "python",
   "name": "learn-env"
  },
  "language_info": {
   "codemirror_mode": {
    "name": "ipython",
    "version": 3
   },
   "file_extension": ".py",
   "mimetype": "text/x-python",
   "name": "python",
   "nbconvert_exporter": "python",
   "pygments_lexer": "ipython3",
   "version": "3.8.5"
  }
 },
 "nbformat": 4,
 "nbformat_minor": 4
}
