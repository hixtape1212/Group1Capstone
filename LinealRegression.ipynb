{
 "cells": [
  {
   "cell_type": "markdown",
   "metadata": {
    "id": "dWrF180d-_IJ"
   },
   "source": [
    "# Continuing Analysis\n",
    "\n",
    "In this file we will be continuing our analysis of the housing dataset. In order to improve the model there will be a few additional changes to the EDA process, as well as an analysis of the features to move down the number of features involved. Finally, there will be a different model trained, with different combinations of activations functions to try and lower our RMSE."
   ]
  },
  {
   "cell_type": "code",
   "execution_count": 1,
   "metadata": {
    "colab": {
     "base_uri": "https://localhost:8080/"
    },
    "id": "QTjkA-cD_gYZ",
    "outputId": "4615f4db-1daa-48f9-c8a7-10a293119b8a"
   },
   "outputs": [],
   "source": [
    "# Import the nessesary packages\n",
    "import pandas as pd\n",
    "import numpy as np\n",
    "import matplotlib.pyplot as plt\n"
   ]
  },
  {
   "cell_type": "code",
   "execution_count": 2,
   "metadata": {
    "colab": {
     "base_uri": "https://localhost:8080/"
    },
    "id": "F3ep2BODV6e3",
    "outputId": "c6bf7be5-87a0-4967-e2ee-3c71af632801"
   },
   "outputs": [
    {
     "name": "stderr",
     "output_type": "stream",
     "text": [
      "'wget' is not recognized as an internal or external command,\n",
      "operable program or batch file.\n"
     ]
    }
   ],
   "source": [
    "!wget https://raw.githubusercontent.com/hixtape1212/Group1Capstone/Gerardo/Austin_notebooks/austinHousingData.csv"
   ]
  },
  {
   "cell_type": "code",
   "execution_count": 3,
   "metadata": {
    "id": "VBw7NKyLA5i6"
   },
   "outputs": [],
   "source": [
    "file_path = 'Austin_notebooks/austinHousingData.csv'\n",
    "df = pd.read_csv(file_path)"
   ]
  },
  {
   "cell_type": "code",
   "execution_count": 4,
   "metadata": {
    "colab": {
     "base_uri": "https://localhost:8080/"
    },
    "id": "_TLGhmx7ByW1",
    "outputId": "ef4bce14-87fd-47f5-ac5f-78b5d0cd4cad"
   },
   "outputs": [
    {
     "name": "stdout",
     "output_type": "stream",
     "text": [
      "<class 'pandas.core.frame.DataFrame'>\n",
      "RangeIndex: 15171 entries, 0 to 15170\n",
      "Data columns (total 47 columns):\n",
      " #   Column                      Non-Null Count  Dtype  \n",
      "---  ------                      --------------  -----  \n",
      " 0   zpid                        15171 non-null  int64  \n",
      " 1   city                        15171 non-null  object \n",
      " 2   streetAddress               15171 non-null  object \n",
      " 3   zipcode                     15171 non-null  int64  \n",
      " 4   description                 15171 non-null  object \n",
      " 5   latitude                    15171 non-null  float64\n",
      " 6   longitude                   15171 non-null  float64\n",
      " 7   propertyTaxRate             15171 non-null  float64\n",
      " 8   garageSpaces                15171 non-null  int64  \n",
      " 9   hasAssociation              15171 non-null  bool   \n",
      " 10  hasCooling                  15171 non-null  bool   \n",
      " 11  hasGarage                   15171 non-null  bool   \n",
      " 12  hasHeating                  15171 non-null  bool   \n",
      " 13  hasSpa                      15171 non-null  bool   \n",
      " 14  hasView                     15171 non-null  bool   \n",
      " 15  homeType                    15171 non-null  object \n",
      " 16  parkingSpaces               15171 non-null  int64  \n",
      " 17  yearBuilt                   15171 non-null  int64  \n",
      " 18  latestPrice                 15171 non-null  int64  \n",
      " 19  numPriceChanges             15171 non-null  int64  \n",
      " 20  latest_saledate             15171 non-null  object \n",
      " 21  latest_salemonth            15171 non-null  int64  \n",
      " 22  latest_saleyear             15171 non-null  int64  \n",
      " 23  latestPriceSource           15171 non-null  object \n",
      " 24  numOfPhotos                 15171 non-null  int64  \n",
      " 25  numOfAccessibilityFeatures  15171 non-null  int64  \n",
      " 26  numOfAppliances             15171 non-null  int64  \n",
      " 27  numOfParkingFeatures        15171 non-null  int64  \n",
      " 28  numOfPatioAndPorchFeatures  15171 non-null  int64  \n",
      " 29  numOfSecurityFeatures       15171 non-null  int64  \n",
      " 30  numOfWaterfrontFeatures     15171 non-null  int64  \n",
      " 31  numOfWindowFeatures         15171 non-null  int64  \n",
      " 32  numOfCommunityFeatures      15171 non-null  int64  \n",
      " 33  lotSizeSqFt                 15171 non-null  float64\n",
      " 34  livingAreaSqFt              15171 non-null  int64  \n",
      " 35  numOfPrimarySchools         15171 non-null  int64  \n",
      " 36  numOfElementarySchools      15171 non-null  int64  \n",
      " 37  numOfMiddleSchools          15171 non-null  int64  \n",
      " 38  numOfHighSchools            15171 non-null  int64  \n",
      " 39  avgSchoolDistance           15171 non-null  float64\n",
      " 40  avgSchoolRating             15171 non-null  float64\n",
      " 41  avgSchoolSize               15171 non-null  int64  \n",
      " 42  MedianStudentsPerTeacher    15171 non-null  int64  \n",
      " 43  numOfBathrooms              15171 non-null  float64\n",
      " 44  numOfBedrooms               15171 non-null  int64  \n",
      " 45  numOfStories                15171 non-null  int64  \n",
      " 46  homeImage                   15171 non-null  object \n",
      "dtypes: bool(6), float64(7), int64(27), object(7)\n",
      "memory usage: 4.8+ MB\n"
     ]
    }
   ],
   "source": [
    "df.info()"
   ]
  },
  {
   "cell_type": "code",
   "execution_count": 5,
   "metadata": {
    "colab": {
     "base_uri": "https://localhost:8080/"
    },
    "id": "YsF2XFKfG6PQ",
    "outputId": "030ac303-fdcc-4702-cd45-b540b1c6d79d"
   },
   "outputs": [
    {
     "data": {
      "text/plain": [
       "Single Family            14241\n",
       "Condo                      470\n",
       "Townhouse                  174\n",
       "Multiple Occupancy          96\n",
       "Vacant Land                 83\n",
       "Residential                 37\n",
       "Apartment                   37\n",
       "Mobile / Manufactured       17\n",
       "MultiFamily                 10\n",
       "Other                        6\n",
       "Name: homeType, dtype: int64"
      ]
     },
     "execution_count": 5,
     "metadata": {},
     "output_type": "execute_result"
    }
   ],
   "source": [
    "#Let's look at the home types. We primarily only want single family homes\n",
    "df.homeType.value_counts()"
   ]
  },
  {
   "cell_type": "code",
   "execution_count": 6,
   "metadata": {
    "colab": {
     "base_uri": "https://localhost:8080/"
    },
    "id": "LpB5-k0JHZz7",
    "outputId": "7a019d33-ba32-4bd3-81af-372409471bf1"
   },
   "outputs": [
    {
     "data": {
      "text/plain": [
       "(14241, 47)"
      ]
     },
     "execution_count": 6,
     "metadata": {},
     "output_type": "execute_result"
    }
   ],
   "source": [
    "df = df[df.homeType == 'Single Family']\n",
    "df.shape"
   ]
  },
  {
   "cell_type": "code",
   "execution_count": 7,
   "metadata": {
    "colab": {
     "base_uri": "https://localhost:8080/"
    },
    "id": "yhCHpJaUEnCh",
    "outputId": "e871df8b-b66d-43ee-8cdc-2f3100c80c61"
   },
   "outputs": [
    {
     "name": "stderr",
     "output_type": "stream",
     "text": [
      "C:\\Users\\gyanezarvizu\\AppData\\Local\\Temp\\ipykernel_19480\\1663181986.py:2: DeprecationWarning: `np.object` is a deprecated alias for the builtin `object`. To silence this warning, use `object` by itself. Doing this will not modify any behavior and is safe. \n",
      "Deprecated in NumPy 1.20; for more details and guidance: https://numpy.org/devdocs/release/1.20.0-notes.html#deprecations\n",
      "  col_drop_list = df.select_dtypes(include=[np.object]).keys()\n"
     ]
    },
    {
     "data": {
      "text/plain": [
       "(14241, 39)"
      ]
     },
     "execution_count": 7,
     "metadata": {},
     "output_type": "execute_result"
    }
   ],
   "source": [
    "#Drop object columns as well as zipid\n",
    "col_drop_list = df.select_dtypes(include=[np.object]).keys()\n",
    "col_drop_list = col_drop_list.union(['zpid'])\n",
    "df = df.drop(col_drop_list, axis=1)\n",
    "df.shape"
   ]
  },
  {
   "cell_type": "code",
   "execution_count": 8,
   "metadata": {
    "colab": {
     "base_uri": "https://localhost:8080/"
    },
    "id": "DXQV6hUoGOX6",
    "outputId": "cb3a4860-2ba8-4dc4-b48b-419991e7dd87"
   },
   "outputs": [
    {
     "data": {
      "text/plain": [
       "(14241, 39)"
      ]
     },
     "execution_count": 8,
     "metadata": {},
     "output_type": "execute_result"
    }
   ],
   "source": [
    "#Changing Booleans to int values\n",
    "col_bool_list = ['hasAssociation', 'hasCooling',\n",
    "                 'hasGarage', 'hasHeating', 'hasSpa', 'hasView']\n",
    "\n",
    "for col in col_bool_list:\n",
    "    name = col + '_int'\n",
    "    df[name] = df[col].astype(int)\n",
    "\n",
    "df = df.drop(col_bool_list, axis=1)\n",
    "df.shape"
   ]
  },
  {
   "cell_type": "code",
   "execution_count": 9,
   "metadata": {
    "colab": {
     "base_uri": "https://localhost:8080/",
     "height": 1000
    },
    "id": "ckg5eIpLGcyx",
    "outputId": "4c3d8908-96ea-44a4-aa2a-f6ff7fb48329"
   },
   "outputs": [
    {
     "data": {
      "text/html": [
       "<div>\n",
       "<style scoped>\n",
       "    .dataframe tbody tr th:only-of-type {\n",
       "        vertical-align: middle;\n",
       "    }\n",
       "\n",
       "    .dataframe tbody tr th {\n",
       "        vertical-align: top;\n",
       "    }\n",
       "\n",
       "    .dataframe thead th {\n",
       "        text-align: right;\n",
       "    }\n",
       "</style>\n",
       "<table border=\"1\" class=\"dataframe\">\n",
       "  <thead>\n",
       "    <tr style=\"text-align: right;\">\n",
       "      <th></th>\n",
       "      <th>count</th>\n",
       "      <th>mean</th>\n",
       "      <th>std</th>\n",
       "      <th>min</th>\n",
       "      <th>25%</th>\n",
       "      <th>50%</th>\n",
       "      <th>75%</th>\n",
       "      <th>max</th>\n",
       "    </tr>\n",
       "  </thead>\n",
       "  <tbody>\n",
       "    <tr>\n",
       "      <th>zipcode</th>\n",
       "      <td>14241.000000</td>\n",
       "      <td>78736.186785</td>\n",
       "      <td>18.721340</td>\n",
       "      <td>78617.000000</td>\n",
       "      <td>78727.000000</td>\n",
       "      <td>78739.000000</td>\n",
       "      <td>78749.000000</td>\n",
       "      <td>78759.000000</td>\n",
       "    </tr>\n",
       "    <tr>\n",
       "      <th>latitude</th>\n",
       "      <td>14241.000000</td>\n",
       "      <td>30.291740</td>\n",
       "      <td>0.098383</td>\n",
       "      <td>30.085030</td>\n",
       "      <td>30.201195</td>\n",
       "      <td>30.284163</td>\n",
       "      <td>30.367920</td>\n",
       "      <td>30.517174</td>\n",
       "    </tr>\n",
       "    <tr>\n",
       "      <th>longitude</th>\n",
       "      <td>14241.000000</td>\n",
       "      <td>-97.780411</td>\n",
       "      <td>0.085880</td>\n",
       "      <td>-98.022057</td>\n",
       "      <td>-97.841804</td>\n",
       "      <td>-97.771988</td>\n",
       "      <td>-97.718689</td>\n",
       "      <td>-97.569504</td>\n",
       "    </tr>\n",
       "    <tr>\n",
       "      <th>propertyTaxRate</th>\n",
       "      <td>14241.000000</td>\n",
       "      <td>1.994731</td>\n",
       "      <td>0.054207</td>\n",
       "      <td>1.980000</td>\n",
       "      <td>1.980000</td>\n",
       "      <td>1.980000</td>\n",
       "      <td>1.980000</td>\n",
       "      <td>2.210000</td>\n",
       "    </tr>\n",
       "    <tr>\n",
       "      <th>garageSpaces</th>\n",
       "      <td>14241.000000</td>\n",
       "      <td>1.236851</td>\n",
       "      <td>1.343474</td>\n",
       "      <td>0.000000</td>\n",
       "      <td>0.000000</td>\n",
       "      <td>1.000000</td>\n",
       "      <td>2.000000</td>\n",
       "      <td>20.000000</td>\n",
       "    </tr>\n",
       "    <tr>\n",
       "      <th>parkingSpaces</th>\n",
       "      <td>14241.000000</td>\n",
       "      <td>1.236219</td>\n",
       "      <td>1.343612</td>\n",
       "      <td>0.000000</td>\n",
       "      <td>0.000000</td>\n",
       "      <td>1.000000</td>\n",
       "      <td>2.000000</td>\n",
       "      <td>20.000000</td>\n",
       "    </tr>\n",
       "    <tr>\n",
       "      <th>yearBuilt</th>\n",
       "      <td>14241.000000</td>\n",
       "      <td>1988.408749</td>\n",
       "      <td>21.555337</td>\n",
       "      <td>1905.000000</td>\n",
       "      <td>1974.000000</td>\n",
       "      <td>1993.000000</td>\n",
       "      <td>2006.000000</td>\n",
       "      <td>2020.000000</td>\n",
       "    </tr>\n",
       "    <tr>\n",
       "      <th>latestPrice</th>\n",
       "      <td>14241.000000</td>\n",
       "      <td>516387.884629</td>\n",
       "      <td>446969.176124</td>\n",
       "      <td>5500.000000</td>\n",
       "      <td>310000.000000</td>\n",
       "      <td>409900.000000</td>\n",
       "      <td>575000.000000</td>\n",
       "      <td>13500000.000000</td>\n",
       "    </tr>\n",
       "    <tr>\n",
       "      <th>numPriceChanges</th>\n",
       "      <td>14241.000000</td>\n",
       "      <td>3.044730</td>\n",
       "      <td>2.491960</td>\n",
       "      <td>1.000000</td>\n",
       "      <td>1.000000</td>\n",
       "      <td>2.000000</td>\n",
       "      <td>4.000000</td>\n",
       "      <td>23.000000</td>\n",
       "    </tr>\n",
       "    <tr>\n",
       "      <th>latest_salemonth</th>\n",
       "      <td>14241.000000</td>\n",
       "      <td>6.728039</td>\n",
       "      <td>3.134325</td>\n",
       "      <td>1.000000</td>\n",
       "      <td>4.000000</td>\n",
       "      <td>7.000000</td>\n",
       "      <td>9.000000</td>\n",
       "      <td>12.000000</td>\n",
       "    </tr>\n",
       "    <tr>\n",
       "      <th>latest_saleyear</th>\n",
       "      <td>14241.000000</td>\n",
       "      <td>2019.076469</td>\n",
       "      <td>0.812202</td>\n",
       "      <td>2018.000000</td>\n",
       "      <td>2018.000000</td>\n",
       "      <td>2019.000000</td>\n",
       "      <td>2020.000000</td>\n",
       "      <td>2021.000000</td>\n",
       "    </tr>\n",
       "    <tr>\n",
       "      <th>numOfPhotos</th>\n",
       "      <td>14241.000000</td>\n",
       "      <td>30.882733</td>\n",
       "      <td>21.202598</td>\n",
       "      <td>1.000000</td>\n",
       "      <td>20.000000</td>\n",
       "      <td>29.000000</td>\n",
       "      <td>39.000000</td>\n",
       "      <td>179.000000</td>\n",
       "    </tr>\n",
       "    <tr>\n",
       "      <th>numOfAccessibilityFeatures</th>\n",
       "      <td>14241.000000</td>\n",
       "      <td>0.013412</td>\n",
       "      <td>0.184063</td>\n",
       "      <td>0.000000</td>\n",
       "      <td>0.000000</td>\n",
       "      <td>0.000000</td>\n",
       "      <td>0.000000</td>\n",
       "      <td>8.000000</td>\n",
       "    </tr>\n",
       "    <tr>\n",
       "      <th>numOfAppliances</th>\n",
       "      <td>14241.000000</td>\n",
       "      <td>3.469770</td>\n",
       "      <td>1.864573</td>\n",
       "      <td>0.000000</td>\n",
       "      <td>2.000000</td>\n",
       "      <td>3.000000</td>\n",
       "      <td>4.000000</td>\n",
       "      <td>10.000000</td>\n",
       "    </tr>\n",
       "    <tr>\n",
       "      <th>numOfParkingFeatures</th>\n",
       "      <td>14241.000000</td>\n",
       "      <td>1.713503</td>\n",
       "      <td>0.776005</td>\n",
       "      <td>0.000000</td>\n",
       "      <td>1.000000</td>\n",
       "      <td>2.000000</td>\n",
       "      <td>2.000000</td>\n",
       "      <td>6.000000</td>\n",
       "    </tr>\n",
       "    <tr>\n",
       "      <th>numOfPatioAndPorchFeatures</th>\n",
       "      <td>14241.000000</td>\n",
       "      <td>0.671793</td>\n",
       "      <td>0.987633</td>\n",
       "      <td>0.000000</td>\n",
       "      <td>0.000000</td>\n",
       "      <td>0.000000</td>\n",
       "      <td>1.000000</td>\n",
       "      <td>8.000000</td>\n",
       "    </tr>\n",
       "    <tr>\n",
       "      <th>numOfSecurityFeatures</th>\n",
       "      <td>14241.000000</td>\n",
       "      <td>0.472790</td>\n",
       "      <td>0.829313</td>\n",
       "      <td>0.000000</td>\n",
       "      <td>0.000000</td>\n",
       "      <td>0.000000</td>\n",
       "      <td>1.000000</td>\n",
       "      <td>6.000000</td>\n",
       "    </tr>\n",
       "    <tr>\n",
       "      <th>numOfWaterfrontFeatures</th>\n",
       "      <td>14241.000000</td>\n",
       "      <td>0.002739</td>\n",
       "      <td>0.060946</td>\n",
       "      <td>0.000000</td>\n",
       "      <td>0.000000</td>\n",
       "      <td>0.000000</td>\n",
       "      <td>0.000000</td>\n",
       "      <td>2.000000</td>\n",
       "    </tr>\n",
       "    <tr>\n",
       "      <th>numOfWindowFeatures</th>\n",
       "      <td>14241.000000</td>\n",
       "      <td>0.210378</td>\n",
       "      <td>0.491194</td>\n",
       "      <td>0.000000</td>\n",
       "      <td>0.000000</td>\n",
       "      <td>0.000000</td>\n",
       "      <td>0.000000</td>\n",
       "      <td>4.000000</td>\n",
       "    </tr>\n",
       "    <tr>\n",
       "      <th>numOfCommunityFeatures</th>\n",
       "      <td>14241.000000</td>\n",
       "      <td>0.011867</td>\n",
       "      <td>0.114593</td>\n",
       "      <td>0.000000</td>\n",
       "      <td>0.000000</td>\n",
       "      <td>0.000000</td>\n",
       "      <td>0.000000</td>\n",
       "      <td>3.000000</td>\n",
       "    </tr>\n",
       "    <tr>\n",
       "      <th>lotSizeSqFt</th>\n",
       "      <td>14241.000000</td>\n",
       "      <td>121761.473955</td>\n",
       "      <td>12641347.597454</td>\n",
       "      <td>113.000000</td>\n",
       "      <td>6621.000000</td>\n",
       "      <td>8319.000000</td>\n",
       "      <td>10890.000000</td>\n",
       "      <td>1508482800.000000</td>\n",
       "    </tr>\n",
       "    <tr>\n",
       "      <th>livingAreaSqFt</th>\n",
       "      <td>14241.000000</td>\n",
       "      <td>2234.634506</td>\n",
       "      <td>1386.511828</td>\n",
       "      <td>300.000000</td>\n",
       "      <td>1501.000000</td>\n",
       "      <td>2011.000000</td>\n",
       "      <td>2725.000000</td>\n",
       "      <td>109292.000000</td>\n",
       "    </tr>\n",
       "    <tr>\n",
       "      <th>numOfPrimarySchools</th>\n",
       "      <td>14241.000000</td>\n",
       "      <td>0.941437</td>\n",
       "      <td>0.235113</td>\n",
       "      <td>0.000000</td>\n",
       "      <td>1.000000</td>\n",
       "      <td>1.000000</td>\n",
       "      <td>1.000000</td>\n",
       "      <td>2.000000</td>\n",
       "    </tr>\n",
       "    <tr>\n",
       "      <th>numOfElementarySchools</th>\n",
       "      <td>14241.000000</td>\n",
       "      <td>0.048171</td>\n",
       "      <td>0.233884</td>\n",
       "      <td>0.000000</td>\n",
       "      <td>0.000000</td>\n",
       "      <td>0.000000</td>\n",
       "      <td>0.000000</td>\n",
       "      <td>2.000000</td>\n",
       "    </tr>\n",
       "    <tr>\n",
       "      <th>numOfMiddleSchools</th>\n",
       "      <td>14241.000000</td>\n",
       "      <td>1.036163</td>\n",
       "      <td>0.264253</td>\n",
       "      <td>0.000000</td>\n",
       "      <td>1.000000</td>\n",
       "      <td>1.000000</td>\n",
       "      <td>1.000000</td>\n",
       "      <td>3.000000</td>\n",
       "    </tr>\n",
       "    <tr>\n",
       "      <th>numOfHighSchools</th>\n",
       "      <td>14241.000000</td>\n",
       "      <td>0.977389</td>\n",
       "      <td>0.297310</td>\n",
       "      <td>0.000000</td>\n",
       "      <td>1.000000</td>\n",
       "      <td>1.000000</td>\n",
       "      <td>1.000000</td>\n",
       "      <td>2.000000</td>\n",
       "    </tr>\n",
       "    <tr>\n",
       "      <th>avgSchoolDistance</th>\n",
       "      <td>14241.000000</td>\n",
       "      <td>1.861457</td>\n",
       "      <td>1.075312</td>\n",
       "      <td>0.200000</td>\n",
       "      <td>1.100000</td>\n",
       "      <td>1.566667</td>\n",
       "      <td>2.300000</td>\n",
       "      <td>9.000000</td>\n",
       "    </tr>\n",
       "    <tr>\n",
       "      <th>avgSchoolRating</th>\n",
       "      <td>14241.000000</td>\n",
       "      <td>5.808799</td>\n",
       "      <td>1.868319</td>\n",
       "      <td>2.333333</td>\n",
       "      <td>4.000000</td>\n",
       "      <td>6.000000</td>\n",
       "      <td>7.000000</td>\n",
       "      <td>9.500000</td>\n",
       "    </tr>\n",
       "    <tr>\n",
       "      <th>avgSchoolSize</th>\n",
       "      <td>14241.000000</td>\n",
       "      <td>1244.773682</td>\n",
       "      <td>326.388760</td>\n",
       "      <td>396.000000</td>\n",
       "      <td>1002.000000</td>\n",
       "      <td>1298.000000</td>\n",
       "      <td>1506.000000</td>\n",
       "      <td>1913.000000</td>\n",
       "    </tr>\n",
       "    <tr>\n",
       "      <th>MedianStudentsPerTeacher</th>\n",
       "      <td>14241.000000</td>\n",
       "      <td>14.874517</td>\n",
       "      <td>1.751620</td>\n",
       "      <td>10.000000</td>\n",
       "      <td>14.000000</td>\n",
       "      <td>15.000000</td>\n",
       "      <td>16.000000</td>\n",
       "      <td>19.000000</td>\n",
       "    </tr>\n",
       "    <tr>\n",
       "      <th>numOfBathrooms</th>\n",
       "      <td>14241.000000</td>\n",
       "      <td>2.702440</td>\n",
       "      <td>1.035486</td>\n",
       "      <td>0.000000</td>\n",
       "      <td>2.000000</td>\n",
       "      <td>3.000000</td>\n",
       "      <td>3.000000</td>\n",
       "      <td>27.000000</td>\n",
       "    </tr>\n",
       "    <tr>\n",
       "      <th>numOfBedrooms</th>\n",
       "      <td>14241.000000</td>\n",
       "      <td>3.480163</td>\n",
       "      <td>0.780046</td>\n",
       "      <td>0.000000</td>\n",
       "      <td>3.000000</td>\n",
       "      <td>3.000000</td>\n",
       "      <td>4.000000</td>\n",
       "      <td>8.000000</td>\n",
       "    </tr>\n",
       "    <tr>\n",
       "      <th>numOfStories</th>\n",
       "      <td>14241.000000</td>\n",
       "      <td>1.456920</td>\n",
       "      <td>0.516839</td>\n",
       "      <td>1.000000</td>\n",
       "      <td>1.000000</td>\n",
       "      <td>1.000000</td>\n",
       "      <td>2.000000</td>\n",
       "      <td>4.000000</td>\n",
       "    </tr>\n",
       "    <tr>\n",
       "      <th>hasAssociation_int</th>\n",
       "      <td>14241.000000</td>\n",
       "      <td>0.516818</td>\n",
       "      <td>0.499735</td>\n",
       "      <td>0.000000</td>\n",
       "      <td>0.000000</td>\n",
       "      <td>1.000000</td>\n",
       "      <td>1.000000</td>\n",
       "      <td>1.000000</td>\n",
       "    </tr>\n",
       "    <tr>\n",
       "      <th>hasCooling_int</th>\n",
       "      <td>14241.000000</td>\n",
       "      <td>0.984130</td>\n",
       "      <td>0.124976</td>\n",
       "      <td>0.000000</td>\n",
       "      <td>1.000000</td>\n",
       "      <td>1.000000</td>\n",
       "      <td>1.000000</td>\n",
       "      <td>1.000000</td>\n",
       "    </tr>\n",
       "    <tr>\n",
       "      <th>hasGarage_int</th>\n",
       "      <td>14241.000000</td>\n",
       "      <td>0.550242</td>\n",
       "      <td>0.497487</td>\n",
       "      <td>0.000000</td>\n",
       "      <td>0.000000</td>\n",
       "      <td>1.000000</td>\n",
       "      <td>1.000000</td>\n",
       "      <td>1.000000</td>\n",
       "    </tr>\n",
       "    <tr>\n",
       "      <th>hasHeating_int</th>\n",
       "      <td>14241.000000</td>\n",
       "      <td>0.991574</td>\n",
       "      <td>0.091411</td>\n",
       "      <td>0.000000</td>\n",
       "      <td>1.000000</td>\n",
       "      <td>1.000000</td>\n",
       "      <td>1.000000</td>\n",
       "      <td>1.000000</td>\n",
       "    </tr>\n",
       "    <tr>\n",
       "      <th>hasSpa_int</th>\n",
       "      <td>14241.000000</td>\n",
       "      <td>0.081455</td>\n",
       "      <td>0.273542</td>\n",
       "      <td>0.000000</td>\n",
       "      <td>0.000000</td>\n",
       "      <td>0.000000</td>\n",
       "      <td>0.000000</td>\n",
       "      <td>1.000000</td>\n",
       "    </tr>\n",
       "    <tr>\n",
       "      <th>hasView_int</th>\n",
       "      <td>14241.000000</td>\n",
       "      <td>0.224844</td>\n",
       "      <td>0.417494</td>\n",
       "      <td>0.000000</td>\n",
       "      <td>0.000000</td>\n",
       "      <td>0.000000</td>\n",
       "      <td>0.000000</td>\n",
       "      <td>1.000000</td>\n",
       "    </tr>\n",
       "  </tbody>\n",
       "</table>\n",
       "</div>"
      ],
      "text/plain": [
       "                                   count           mean              std  \\\n",
       "zipcode                     14241.000000   78736.186785        18.721340   \n",
       "latitude                    14241.000000      30.291740         0.098383   \n",
       "longitude                   14241.000000     -97.780411         0.085880   \n",
       "propertyTaxRate             14241.000000       1.994731         0.054207   \n",
       "garageSpaces                14241.000000       1.236851         1.343474   \n",
       "parkingSpaces               14241.000000       1.236219         1.343612   \n",
       "yearBuilt                   14241.000000    1988.408749        21.555337   \n",
       "latestPrice                 14241.000000  516387.884629    446969.176124   \n",
       "numPriceChanges             14241.000000       3.044730         2.491960   \n",
       "latest_salemonth            14241.000000       6.728039         3.134325   \n",
       "latest_saleyear             14241.000000    2019.076469         0.812202   \n",
       "numOfPhotos                 14241.000000      30.882733        21.202598   \n",
       "numOfAccessibilityFeatures  14241.000000       0.013412         0.184063   \n",
       "numOfAppliances             14241.000000       3.469770         1.864573   \n",
       "numOfParkingFeatures        14241.000000       1.713503         0.776005   \n",
       "numOfPatioAndPorchFeatures  14241.000000       0.671793         0.987633   \n",
       "numOfSecurityFeatures       14241.000000       0.472790         0.829313   \n",
       "numOfWaterfrontFeatures     14241.000000       0.002739         0.060946   \n",
       "numOfWindowFeatures         14241.000000       0.210378         0.491194   \n",
       "numOfCommunityFeatures      14241.000000       0.011867         0.114593   \n",
       "lotSizeSqFt                 14241.000000  121761.473955  12641347.597454   \n",
       "livingAreaSqFt              14241.000000    2234.634506      1386.511828   \n",
       "numOfPrimarySchools         14241.000000       0.941437         0.235113   \n",
       "numOfElementarySchools      14241.000000       0.048171         0.233884   \n",
       "numOfMiddleSchools          14241.000000       1.036163         0.264253   \n",
       "numOfHighSchools            14241.000000       0.977389         0.297310   \n",
       "avgSchoolDistance           14241.000000       1.861457         1.075312   \n",
       "avgSchoolRating             14241.000000       5.808799         1.868319   \n",
       "avgSchoolSize               14241.000000    1244.773682       326.388760   \n",
       "MedianStudentsPerTeacher    14241.000000      14.874517         1.751620   \n",
       "numOfBathrooms              14241.000000       2.702440         1.035486   \n",
       "numOfBedrooms               14241.000000       3.480163         0.780046   \n",
       "numOfStories                14241.000000       1.456920         0.516839   \n",
       "hasAssociation_int          14241.000000       0.516818         0.499735   \n",
       "hasCooling_int              14241.000000       0.984130         0.124976   \n",
       "hasGarage_int               14241.000000       0.550242         0.497487   \n",
       "hasHeating_int              14241.000000       0.991574         0.091411   \n",
       "hasSpa_int                  14241.000000       0.081455         0.273542   \n",
       "hasView_int                 14241.000000       0.224844         0.417494   \n",
       "\n",
       "                                     min            25%            50%  \\\n",
       "zipcode                     78617.000000   78727.000000   78739.000000   \n",
       "latitude                       30.085030      30.201195      30.284163   \n",
       "longitude                     -98.022057     -97.841804     -97.771988   \n",
       "propertyTaxRate                 1.980000       1.980000       1.980000   \n",
       "garageSpaces                    0.000000       0.000000       1.000000   \n",
       "parkingSpaces                   0.000000       0.000000       1.000000   \n",
       "yearBuilt                    1905.000000    1974.000000    1993.000000   \n",
       "latestPrice                  5500.000000  310000.000000  409900.000000   \n",
       "numPriceChanges                 1.000000       1.000000       2.000000   \n",
       "latest_salemonth                1.000000       4.000000       7.000000   \n",
       "latest_saleyear              2018.000000    2018.000000    2019.000000   \n",
       "numOfPhotos                     1.000000      20.000000      29.000000   \n",
       "numOfAccessibilityFeatures      0.000000       0.000000       0.000000   \n",
       "numOfAppliances                 0.000000       2.000000       3.000000   \n",
       "numOfParkingFeatures            0.000000       1.000000       2.000000   \n",
       "numOfPatioAndPorchFeatures      0.000000       0.000000       0.000000   \n",
       "numOfSecurityFeatures           0.000000       0.000000       0.000000   \n",
       "numOfWaterfrontFeatures         0.000000       0.000000       0.000000   \n",
       "numOfWindowFeatures             0.000000       0.000000       0.000000   \n",
       "numOfCommunityFeatures          0.000000       0.000000       0.000000   \n",
       "lotSizeSqFt                   113.000000    6621.000000    8319.000000   \n",
       "livingAreaSqFt                300.000000    1501.000000    2011.000000   \n",
       "numOfPrimarySchools             0.000000       1.000000       1.000000   \n",
       "numOfElementarySchools          0.000000       0.000000       0.000000   \n",
       "numOfMiddleSchools              0.000000       1.000000       1.000000   \n",
       "numOfHighSchools                0.000000       1.000000       1.000000   \n",
       "avgSchoolDistance               0.200000       1.100000       1.566667   \n",
       "avgSchoolRating                 2.333333       4.000000       6.000000   \n",
       "avgSchoolSize                 396.000000    1002.000000    1298.000000   \n",
       "MedianStudentsPerTeacher       10.000000      14.000000      15.000000   \n",
       "numOfBathrooms                  0.000000       2.000000       3.000000   \n",
       "numOfBedrooms                   0.000000       3.000000       3.000000   \n",
       "numOfStories                    1.000000       1.000000       1.000000   \n",
       "hasAssociation_int              0.000000       0.000000       1.000000   \n",
       "hasCooling_int                  0.000000       1.000000       1.000000   \n",
       "hasGarage_int                   0.000000       0.000000       1.000000   \n",
       "hasHeating_int                  0.000000       1.000000       1.000000   \n",
       "hasSpa_int                      0.000000       0.000000       0.000000   \n",
       "hasView_int                     0.000000       0.000000       0.000000   \n",
       "\n",
       "                                      75%                max  \n",
       "zipcode                      78749.000000       78759.000000  \n",
       "latitude                        30.367920          30.517174  \n",
       "longitude                      -97.718689         -97.569504  \n",
       "propertyTaxRate                  1.980000           2.210000  \n",
       "garageSpaces                     2.000000          20.000000  \n",
       "parkingSpaces                    2.000000          20.000000  \n",
       "yearBuilt                     2006.000000        2020.000000  \n",
       "latestPrice                 575000.000000    13500000.000000  \n",
       "numPriceChanges                  4.000000          23.000000  \n",
       "latest_salemonth                 9.000000          12.000000  \n",
       "latest_saleyear               2020.000000        2021.000000  \n",
       "numOfPhotos                     39.000000         179.000000  \n",
       "numOfAccessibilityFeatures       0.000000           8.000000  \n",
       "numOfAppliances                  4.000000          10.000000  \n",
       "numOfParkingFeatures             2.000000           6.000000  \n",
       "numOfPatioAndPorchFeatures       1.000000           8.000000  \n",
       "numOfSecurityFeatures            1.000000           6.000000  \n",
       "numOfWaterfrontFeatures          0.000000           2.000000  \n",
       "numOfWindowFeatures              0.000000           4.000000  \n",
       "numOfCommunityFeatures           0.000000           3.000000  \n",
       "lotSizeSqFt                  10890.000000  1508482800.000000  \n",
       "livingAreaSqFt                2725.000000      109292.000000  \n",
       "numOfPrimarySchools              1.000000           2.000000  \n",
       "numOfElementarySchools           0.000000           2.000000  \n",
       "numOfMiddleSchools               1.000000           3.000000  \n",
       "numOfHighSchools                 1.000000           2.000000  \n",
       "avgSchoolDistance                2.300000           9.000000  \n",
       "avgSchoolRating                  7.000000           9.500000  \n",
       "avgSchoolSize                 1506.000000        1913.000000  \n",
       "MedianStudentsPerTeacher        16.000000          19.000000  \n",
       "numOfBathrooms                   3.000000          27.000000  \n",
       "numOfBedrooms                    4.000000           8.000000  \n",
       "numOfStories                     2.000000           4.000000  \n",
       "hasAssociation_int               1.000000           1.000000  \n",
       "hasCooling_int                   1.000000           1.000000  \n",
       "hasGarage_int                    1.000000           1.000000  \n",
       "hasHeating_int                   1.000000           1.000000  \n",
       "hasSpa_int                       0.000000           1.000000  \n",
       "hasView_int                      0.000000           1.000000  "
      ]
     },
     "execution_count": 9,
     "metadata": {},
     "output_type": "execute_result"
    }
   ],
   "source": [
    "#Now we should have a dataset that is all Single Family homes w/ integer values\n",
    "#Lets look at the home prices we are predicting\n",
    "df.describe().transpose().apply(lambda x: x.apply('{0:f}'.format))"
   ]
  },
  {
   "cell_type": "markdown",
   "metadata": {},
   "source": [
    "From the previous table the price ranges wildly between 5500 and 13Milion"
   ]
  },
  {
   "cell_type": "code",
   "execution_count": 10,
   "metadata": {},
   "outputs": [
    {
     "data": {
      "image/png": "[encoded data removed]",
      "text/plain": [
       "<Figure size 640x480 with 1 Axes>"
      ]
     },
     "metadata": {},
     "output_type": "display_data"
    }
   ],
   "source": [
    "# Plot latestPrice\n",
    "plt.hist(df['latestPrice'], bins=20)\n",
    "plt.xlabel('Price')\n",
    "plt.ylabel('Number of houses')\n",
    "plt.title('All houses')\n",
    "plt.show()"
   ]
  },
  {
   "cell_type": "code",
   "execution_count": 11,
   "metadata": {
    "colab": {
     "base_uri": "https://localhost:8080/"
    },
    "id": "ncsM2YMdJadn",
    "outputId": "062e9f13-2c3a-45db-c4d8-7b341f1af956"
   },
   "outputs": [
    {
     "name": "stdout",
     "output_type": "stream",
     "text": [
      "Middle 90 are values between 207000.0 and 1175000.0\n"
     ]
    }
   ],
   "source": [
    "#Narrowing this down can help our model. Lets look at the mid 5 & 95%\n",
    "upper = np.percentile(df.latestPrice, 95)\n",
    "lower = np.percentile(df.latestPrice, 5)\n",
    "\n",
    "print('Middle 90 are values between {} and {}'.format(lower, upper))"
   ]
  },
  {
   "cell_type": "markdown",
   "metadata": {
    "id": "M_9eZ-rSNURz"
   },
   "source": [
    "The middle 95% of the home values are between 207,000 and 1,175,000. If we move the lower bound down I think we should be looking at home from 200,000 to 1.1 million, covering roughly 95% of our data"
   ]
  },
  {
   "cell_type": "code",
   "execution_count": 12,
   "metadata": {
    "colab": {
     "base_uri": "https://localhost:8080/"
    },
    "id": "Drl4huWXNlyJ",
    "outputId": "b6d2bda5-f3b3-4ad9-ddf9-90bd7175bbd4"
   },
   "outputs": [
    {
     "data": {
      "text/plain": [
       "(12907, 39)"
      ]
     },
     "execution_count": 12,
     "metadata": {},
     "output_type": "execute_result"
    }
   ],
   "source": [
    "df = df.drop(df[df['latestPrice'] < 200000].index)\n",
    "df = df.drop(df[df['latestPrice'] > 1175000].index)\n",
    "df.shape"
   ]
  },
  {
   "cell_type": "markdown",
   "metadata": {
    "id": "TWxP3ulAPU6y"
   },
   "source": [
    "Now the data should be at the point where we want it. Let's try to run a new model and see where it get's us. I think running something similar to the last one should work fine."
   ]
  },
  {
   "cell_type": "markdown",
   "metadata": {
    "id": "_sxLdyJoWGYL"
   },
   "source": [
    "## Analysis\n",
    "We will start looking the correlation of variables with our dependen variable (latestPrice) and then we will see if we have a symmetric distribution."
   ]
  },
  {
   "cell_type": "markdown",
   "metadata": {},
   "source": [
    "#### Check corelation with latestPrice"
   ]
  },
  {
   "cell_type": "code",
   "execution_count": 13,
   "metadata": {},
   "outputs": [
    {
     "data": {
      "text/plain": [
       "zipcode                      -0.188523\n",
       "latitude                      0.114658\n",
       "longitude                    -0.263563\n",
       "propertyTaxRate              -0.068051\n",
       "garageSpaces                  0.150064\n",
       "parkingSpaces                 0.149677\n",
       "yearBuilt                    -0.039928\n",
       "latestPrice                   1.000000\n",
       "numPriceChanges               0.034400\n",
       "latest_salemonth              0.050514\n",
       "latest_saleyear               0.068581\n",
       "numOfPhotos                   0.172712\n",
       "numOfAccessibilityFeatures    0.022540\n",
       "numOfAppliances               0.042001\n",
       "numOfParkingFeatures          0.096584\n",
       "numOfPatioAndPorchFeatures    0.110987\n",
       "numOfSecurityFeatures         0.078760\n",
       "numOfWaterfrontFeatures       0.031016\n",
       "numOfWindowFeatures           0.109137\n",
       "numOfCommunityFeatures        0.004434\n",
       "lotSizeSqFt                   0.039251\n",
       "livingAreaSqFt                0.369748\n",
       "numOfPrimarySchools          -0.173300\n",
       "numOfElementarySchools        0.136677\n",
       "numOfMiddleSchools            0.130154\n",
       "numOfHighSchools             -0.230479\n",
       "avgSchoolDistance             0.042492\n",
       "avgSchoolRating               0.439170\n",
       "avgSchoolSize                 0.114228\n",
       "MedianStudentsPerTeacher      0.339065\n",
       "numOfBathrooms                0.436495\n",
       "numOfBedrooms                 0.314928\n",
       "numOfStories                  0.213283\n",
       "hasAssociation_int            0.010607\n",
       "hasCooling_int                0.024580\n",
       "hasGarage_int                 0.091878\n",
       "hasHeating_int                0.022357\n",
       "hasSpa_int                    0.153930\n",
       "hasView_int                   0.140287\n",
       "Name: latestPrice, dtype: float64"
      ]
     },
     "execution_count": 13,
     "metadata": {},
     "output_type": "execute_result"
    }
   ],
   "source": [
    "df.corr()['latestPrice']"
   ]
  },
  {
   "cell_type": "markdown",
   "metadata": {},
   "source": [
    "We dont have multicollinearity"
   ]
  },
  {
   "cell_type": "markdown",
   "metadata": {},
   "source": [
    "#### Display distribution"
   ]
  },
  {
   "cell_type": "code",
   "execution_count": 14,
   "metadata": {},
   "outputs": [
    {
     "data": {
      "image/png": "[encoded data removed]",
      "text/plain": [
       "<Figure size 640x480 with 1 Axes>"
      ]
     },
     "metadata": {},
     "output_type": "display_data"
    }
   ],
   "source": [
    "plt.hist(df['latestPrice'], bins=20)\n",
    "plt.xlabel('Price')\n",
    "plt.ylabel('Number of houses')\n",
    "plt.title('Asymmetric distribution')\n",
    "plt.show()"
   ]
  },
  {
   "cell_type": "markdown",
   "metadata": {},
   "source": [
    "We can see an asymmetric distribution and could apply a logarithmic function to deal with this"
   ]
  },
  {
   "cell_type": "code",
   "execution_count": 15,
   "metadata": {},
   "outputs": [
    {
     "name": "stderr",
     "output_type": "stream",
     "text": [
      "C:\\Users\\gyanezarvizu\\Anaconda3\\lib\\site-packages\\sklearn\\base.py:443: UserWarning: X has feature names, but FunctionTransformer was fitted without feature names\n",
      "  warnings.warn(\n",
      "C:\\Users\\gyanezarvizu\\Anaconda3\\lib\\site-packages\\sklearn\\preprocessing\\_function_transformer.py:205: RuntimeWarning: invalid value encountered in log1p\n",
      "  return func(X, **(kw_args if kw_args else {}))\n"
     ]
    }
   ],
   "source": [
    "# Applying logarithmic funtion\n",
    "from sklearn.preprocessing import FunctionTransformer\n",
    "\n",
    "transformer = FunctionTransformer(np.log1p, validate=True)\n",
    "df_log = transformer.transform(df)"
   ]
  },
  {
   "cell_type": "code",
   "execution_count": 16,
   "metadata": {},
   "outputs": [
    {
     "data": {
      "text/html": [
       "<div>\n",
       "<style scoped>\n",
       "    .dataframe tbody tr th:only-of-type {\n",
       "        vertical-align: middle;\n",
       "    }\n",
       "\n",
       "    .dataframe tbody tr th {\n",
       "        vertical-align: top;\n",
       "    }\n",
       "\n",
       "    .dataframe thead th {\n",
       "        text-align: right;\n",
       "    }\n",
       "</style>\n",
       "<table border=\"1\" class=\"dataframe\">\n",
       "  <thead>\n",
       "    <tr style=\"text-align: right;\">\n",
       "      <th></th>\n",
       "      <th>zipcode</th>\n",
       "      <th>latitude</th>\n",
       "      <th>longitude</th>\n",
       "      <th>propertyTaxRate</th>\n",
       "      <th>garageSpaces</th>\n",
       "      <th>parkingSpaces</th>\n",
       "      <th>yearBuilt</th>\n",
       "      <th>latestPrice</th>\n",
       "      <th>numPriceChanges</th>\n",
       "      <th>latest_salemonth</th>\n",
       "      <th>...</th>\n",
       "      <th>MedianStudentsPerTeacher</th>\n",
       "      <th>numOfBathrooms</th>\n",
       "      <th>numOfBedrooms</th>\n",
       "      <th>numOfStories</th>\n",
       "      <th>hasAssociation_int</th>\n",
       "      <th>hasCooling_int</th>\n",
       "      <th>hasGarage_int</th>\n",
       "      <th>hasHeating_int</th>\n",
       "      <th>hasSpa_int</th>\n",
       "      <th>hasView_int</th>\n",
       "    </tr>\n",
       "  </thead>\n",
       "  <tbody>\n",
       "    <tr>\n",
       "      <th>0</th>\n",
       "      <td>11.272903</td>\n",
       "      <td>3.447783</td>\n",
       "      <td>NaN</td>\n",
       "      <td>1.091923</td>\n",
       "      <td>1.098612</td>\n",
       "      <td>1.098612</td>\n",
       "      <td>7.607381</td>\n",
       "      <td>12.628070</td>\n",
       "      <td>1.791759</td>\n",
       "      <td>2.302585</td>\n",
       "      <td>...</td>\n",
       "      <td>2.70805</td>\n",
       "      <td>1.386294</td>\n",
       "      <td>1.609438</td>\n",
       "      <td>1.098612</td>\n",
       "      <td>0.693147</td>\n",
       "      <td>0.693147</td>\n",
       "      <td>0.693147</td>\n",
       "      <td>0.693147</td>\n",
       "      <td>0.0</td>\n",
       "      <td>0.0</td>\n",
       "    </tr>\n",
       "    <tr>\n",
       "      <th>1</th>\n",
       "      <td>11.272903</td>\n",
       "      <td>3.447848</td>\n",
       "      <td>NaN</td>\n",
       "      <td>1.091923</td>\n",
       "      <td>1.098612</td>\n",
       "      <td>1.098612</td>\n",
       "      <td>7.607878</td>\n",
       "      <td>12.594734</td>\n",
       "      <td>0.693147</td>\n",
       "      <td>2.397895</td>\n",
       "      <td>...</td>\n",
       "      <td>2.70805</td>\n",
       "      <td>1.098612</td>\n",
       "      <td>1.609438</td>\n",
       "      <td>0.693147</td>\n",
       "      <td>0.693147</td>\n",
       "      <td>0.693147</td>\n",
       "      <td>0.693147</td>\n",
       "      <td>0.693147</td>\n",
       "      <td>0.0</td>\n",
       "      <td>0.0</td>\n",
       "    </tr>\n",
       "    <tr>\n",
       "      <th>2</th>\n",
       "      <td>11.272903</td>\n",
       "      <td>3.447118</td>\n",
       "      <td>NaN</td>\n",
       "      <td>1.091923</td>\n",
       "      <td>0.000000</td>\n",
       "      <td>0.000000</td>\n",
       "      <td>7.610358</td>\n",
       "      <td>12.453425</td>\n",
       "      <td>0.693147</td>\n",
       "      <td>2.079442</td>\n",
       "      <td>...</td>\n",
       "      <td>2.70805</td>\n",
       "      <td>1.098612</td>\n",
       "      <td>1.386294</td>\n",
       "      <td>0.693147</td>\n",
       "      <td>0.693147</td>\n",
       "      <td>0.693147</td>\n",
       "      <td>0.000000</td>\n",
       "      <td>0.693147</td>\n",
       "      <td>0.0</td>\n",
       "      <td>0.0</td>\n",
       "    </tr>\n",
       "  </tbody>\n",
       "</table>\n",
       "<p>3 rows × 39 columns</p>\n",
       "</div>"
      ],
      "text/plain": [
       "     zipcode  latitude  longitude  propertyTaxRate  garageSpaces  \\\n",
       "0  11.272903  3.447783        NaN         1.091923      1.098612   \n",
       "1  11.272903  3.447848        NaN         1.091923      1.098612   \n",
       "2  11.272903  3.447118        NaN         1.091923      0.000000   \n",
       "\n",
       "   parkingSpaces  yearBuilt  latestPrice  numPriceChanges  latest_salemonth  \\\n",
       "0       1.098612   7.607381    12.628070         1.791759          2.302585   \n",
       "1       1.098612   7.607878    12.594734         0.693147          2.397895   \n",
       "2       0.000000   7.610358    12.453425         0.693147          2.079442   \n",
       "\n",
       "   ...  MedianStudentsPerTeacher  numOfBathrooms  numOfBedrooms  numOfStories  \\\n",
       "0  ...                   2.70805        1.386294       1.609438      1.098612   \n",
       "1  ...                   2.70805        1.098612       1.609438      0.693147   \n",
       "2  ...                   2.70805        1.098612       1.386294      0.693147   \n",
       "\n",
       "   hasAssociation_int  hasCooling_int  hasGarage_int  hasHeating_int  \\\n",
       "0            0.693147        0.693147       0.693147        0.693147   \n",
       "1            0.693147        0.693147       0.693147        0.693147   \n",
       "2            0.693147        0.693147       0.000000        0.693147   \n",
       "\n",
       "   hasSpa_int  hasView_int  \n",
       "0         0.0          0.0  \n",
       "1         0.0          0.0  \n",
       "2         0.0          0.0  \n",
       "\n",
       "[3 rows x 39 columns]"
      ]
     },
     "execution_count": 16,
     "metadata": {},
     "output_type": "execute_result"
    }
   ],
   "source": [
    "# Making a new dataframe with logarithmic data\n",
    "columns_names = df.columns\n",
    "\n",
    "df_log = pd.DataFrame(df_log, columns= columns_names)\n",
    "df_log.head(3)"
   ]
  },
  {
   "cell_type": "markdown",
   "metadata": {},
   "source": [
    " Column 'longitude' has negative numbers, after applying the logarithmic function data became NaN, so we have to delete it"
   ]
  },
  {
   "cell_type": "code",
   "execution_count": 17,
   "metadata": {},
   "outputs": [
    {
     "data": {
      "text/html": [
       "<div>\n",
       "<style scoped>\n",
       "    .dataframe tbody tr th:only-of-type {\n",
       "        vertical-align: middle;\n",
       "    }\n",
       "\n",
       "    .dataframe tbody tr th {\n",
       "        vertical-align: top;\n",
       "    }\n",
       "\n",
       "    .dataframe thead th {\n",
       "        text-align: right;\n",
       "    }\n",
       "</style>\n",
       "<table border=\"1\" class=\"dataframe\">\n",
       "  <thead>\n",
       "    <tr style=\"text-align: right;\">\n",
       "      <th></th>\n",
       "      <th>zipcode</th>\n",
       "      <th>latitude</th>\n",
       "      <th>longitude</th>\n",
       "      <th>propertyTaxRate</th>\n",
       "      <th>garageSpaces</th>\n",
       "      <th>parkingSpaces</th>\n",
       "      <th>yearBuilt</th>\n",
       "      <th>latestPrice</th>\n",
       "      <th>numPriceChanges</th>\n",
       "      <th>latest_salemonth</th>\n",
       "      <th>...</th>\n",
       "      <th>MedianStudentsPerTeacher</th>\n",
       "      <th>numOfBathrooms</th>\n",
       "      <th>numOfBedrooms</th>\n",
       "      <th>numOfStories</th>\n",
       "      <th>hasAssociation_int</th>\n",
       "      <th>hasCooling_int</th>\n",
       "      <th>hasGarage_int</th>\n",
       "      <th>hasHeating_int</th>\n",
       "      <th>hasSpa_int</th>\n",
       "      <th>hasView_int</th>\n",
       "    </tr>\n",
       "  </thead>\n",
       "  <tbody>\n",
       "    <tr>\n",
       "      <th>0</th>\n",
       "      <td>78660</td>\n",
       "      <td>30.430632</td>\n",
       "      <td>-97.663078</td>\n",
       "      <td>1.98</td>\n",
       "      <td>2</td>\n",
       "      <td>2</td>\n",
       "      <td>2012</td>\n",
       "      <td>305000</td>\n",
       "      <td>5</td>\n",
       "      <td>9</td>\n",
       "      <td>...</td>\n",
       "      <td>14</td>\n",
       "      <td>3.0</td>\n",
       "      <td>4</td>\n",
       "      <td>2</td>\n",
       "      <td>1</td>\n",
       "      <td>1</td>\n",
       "      <td>1</td>\n",
       "      <td>1</td>\n",
       "      <td>0</td>\n",
       "      <td>0</td>\n",
       "    </tr>\n",
       "    <tr>\n",
       "      <th>1</th>\n",
       "      <td>78660</td>\n",
       "      <td>30.432672</td>\n",
       "      <td>-97.661697</td>\n",
       "      <td>1.98</td>\n",
       "      <td>2</td>\n",
       "      <td>2</td>\n",
       "      <td>2013</td>\n",
       "      <td>295000</td>\n",
       "      <td>1</td>\n",
       "      <td>10</td>\n",
       "      <td>...</td>\n",
       "      <td>14</td>\n",
       "      <td>2.0</td>\n",
       "      <td>4</td>\n",
       "      <td>1</td>\n",
       "      <td>1</td>\n",
       "      <td>1</td>\n",
       "      <td>1</td>\n",
       "      <td>1</td>\n",
       "      <td>0</td>\n",
       "      <td>0</td>\n",
       "    </tr>\n",
       "    <tr>\n",
       "      <th>2</th>\n",
       "      <td>78660</td>\n",
       "      <td>30.409748</td>\n",
       "      <td>-97.639771</td>\n",
       "      <td>1.98</td>\n",
       "      <td>0</td>\n",
       "      <td>0</td>\n",
       "      <td>2018</td>\n",
       "      <td>256125</td>\n",
       "      <td>1</td>\n",
       "      <td>7</td>\n",
       "      <td>...</td>\n",
       "      <td>14</td>\n",
       "      <td>2.0</td>\n",
       "      <td>3</td>\n",
       "      <td>1</td>\n",
       "      <td>1</td>\n",
       "      <td>1</td>\n",
       "      <td>0</td>\n",
       "      <td>1</td>\n",
       "      <td>0</td>\n",
       "      <td>0</td>\n",
       "    </tr>\n",
       "  </tbody>\n",
       "</table>\n",
       "<p>3 rows × 39 columns</p>\n",
       "</div>"
      ],
      "text/plain": [
       "   zipcode   latitude  longitude  propertyTaxRate  garageSpaces  \\\n",
       "0    78660  30.430632 -97.663078             1.98             2   \n",
       "1    78660  30.432672 -97.661697             1.98             2   \n",
       "2    78660  30.409748 -97.639771             1.98             0   \n",
       "\n",
       "   parkingSpaces  yearBuilt  latestPrice  numPriceChanges  latest_salemonth  \\\n",
       "0              2       2012       305000                5                 9   \n",
       "1              2       2013       295000                1                10   \n",
       "2              0       2018       256125                1                 7   \n",
       "\n",
       "   ...  MedianStudentsPerTeacher  numOfBathrooms  numOfBedrooms  numOfStories  \\\n",
       "0  ...                        14             3.0              4             2   \n",
       "1  ...                        14             2.0              4             1   \n",
       "2  ...                        14             2.0              3             1   \n",
       "\n",
       "   hasAssociation_int  hasCooling_int  hasGarage_int  hasHeating_int  \\\n",
       "0                   1               1              1               1   \n",
       "1                   1               1              1               1   \n",
       "2                   1               1              0               1   \n",
       "\n",
       "   hasSpa_int  hasView_int  \n",
       "0           0            0  \n",
       "1           0            0  \n",
       "2           0            0  \n",
       "\n",
       "[3 rows x 39 columns]"
      ]
     },
     "execution_count": 17,
     "metadata": {},
     "output_type": "execute_result"
    }
   ],
   "source": [
    "# Delete longitude column\n",
    "df_log = df_log.drop('longitude', axis=1)\n",
    "df.head(3)"
   ]
  },
  {
   "cell_type": "code",
   "execution_count": 18,
   "metadata": {},
   "outputs": [
    {
     "data": {
      "image/png": "[encoded data removed]",
      "text/plain": [
       "<Figure size 640x480 with 1 Axes>"
      ]
     },
     "metadata": {},
     "output_type": "display_data"
    }
   ],
   "source": [
    "plt.hist(df_log['latestPrice'], bins=20)\n",
    "plt.xlabel('log(Price')\n",
    "plt.ylabel('Number of houses')\n",
    "plt.title('Symmetric distribution')\n",
    "plt.show()"
   ]
  },
  {
   "cell_type": "markdown",
   "metadata": {},
   "source": [
    "### Creating testing and training data"
   ]
  },
  {
   "cell_type": "code",
   "execution_count": 19,
   "metadata": {},
   "outputs": [],
   "source": [
    "# Getting column names\n",
    "column_names=df_log.columns.tolist()\n",
    "\n",
    "# Deleting the name of the dependent name 'latestPrice'\n",
    "column_names.remove('latestPrice')"
   ]
  },
  {
   "cell_type": "code",
   "execution_count": 20,
   "metadata": {},
   "outputs": [],
   "source": [
    "# Independent values\n",
    "X = df_log[column_names]\n",
    "\n",
    "# Dependent values\n",
    "y = df_log['latestPrice']"
   ]
  },
  {
   "cell_type": "code",
   "execution_count": 21,
   "metadata": {},
   "outputs": [],
   "source": [
    "# importing train_test_split to create testing and trainin data\n",
    "\n",
    "from sklearn.model_selection import train_test_split\n",
    "X_train, X_test, y_train, y_test = train_test_split(X, y, test_size=0.2, random_state=42)"
   ]
  },
  {
   "cell_type": "code",
   "execution_count": 22,
   "metadata": {},
   "outputs": [
    {
     "name": "stdout",
     "output_type": "stream",
     "text": [
      "(12907, 37) (10325, 37) (2582, 37)\n"
     ]
    }
   ],
   "source": [
    "# Comparing size of X sets\n",
    "print(X.shape, X_train.shape, X_test.shape)"
   ]
  },
  {
   "cell_type": "markdown",
   "metadata": {},
   "source": [
    "### Linear regression with StatsModels"
   ]
  },
  {
   "cell_type": "code",
   "execution_count": 23,
   "metadata": {},
   "outputs": [],
   "source": [
    "import statsmodels.api as sm"
   ]
  },
  {
   "cell_type": "code",
   "execution_count": 24,
   "metadata": {},
   "outputs": [],
   "source": [
    "# Creating the model\n",
    "model = sm.OLS(endog=y_train, exog=sm.add_constant(X_train))"
   ]
  },
  {
   "cell_type": "code",
   "execution_count": 25,
   "metadata": {},
   "outputs": [],
   "source": [
    "# Get model results\n",
    "results = model.fit()"
   ]
  },
  {
   "cell_type": "code",
   "execution_count": 26,
   "metadata": {},
   "outputs": [
    {
     "name": "stdout",
     "output_type": "stream",
     "text": [
      "                            OLS Regression Results                            \n",
      "==============================================================================\n",
      "Dep. Variable:            latestPrice   R-squared:                       0.619\n",
      "Model:                            OLS   Adj. R-squared:                  0.618\n",
      "Method:                 Least Squares   F-statistic:                     451.6\n",
      "Date:                Fri, 28 Jul 2023   Prob (F-statistic):               0.00\n",
      "Time:                        12:23:43   Log-Likelihood:                 148.22\n",
      "No. Observations:               10325   AIC:                            -220.4\n",
      "Df Residuals:                   10287   BIC:                             54.76\n",
      "Df Model:                          37                                         \n",
      "Covariance Type:            nonrobust                                         \n",
      "==============================================================================================\n",
      "                                 coef    std err          t      P>|t|      [0.025      0.975]\n",
      "----------------------------------------------------------------------------------------------\n",
      "const                       3128.3815    143.807     21.754      0.000    2846.493    3410.270\n",
      "zipcode                     -325.8507     11.384    -28.624      0.000    -348.165    -303.536\n",
      "latitude                       1.4043      0.963      1.459      0.145      -0.483       3.291\n",
      "propertyTaxRate               -4.1315      0.172    -23.989      0.000      -4.469      -3.794\n",
      "garageSpaces                   0.0042      0.108      0.039      0.969      -0.207       0.215\n",
      "parkingSpaces                 -0.0422      0.106     -0.397      0.691      -0.250       0.166\n",
      "yearBuilt                     -6.2717      0.339    -18.496      0.000      -6.936      -5.607\n",
      "numPriceChanges               -0.0736      0.005    -15.326      0.000      -0.083      -0.064\n",
      "latest_salemonth               0.0271      0.005      5.228      0.000       0.017       0.037\n",
      "latest_saleyear               78.9945      8.061      9.800      0.000      63.193      94.796\n",
      "numOfPhotos                    0.0093      0.002      3.941      0.000       0.005       0.014\n",
      "numOfAccessibilityFeatures     0.0561      0.027      2.092      0.036       0.004       0.109\n",
      "numOfAppliances                0.0148      0.005      2.898      0.004       0.005       0.025\n",
      "numOfParkingFeatures           0.0418      0.013      3.282      0.001       0.017       0.067\n",
      "numOfPatioAndPorchFeatures     0.0146      0.007      2.124      0.034       0.001       0.028\n",
      "numOfSecurityFeatures          0.0109      0.007      1.544      0.123      -0.003       0.025\n",
      "numOfWaterfrontFeatures        0.1512      0.081      1.878      0.060      -0.007       0.309\n",
      "numOfWindowFeatures            0.0112      0.009      1.262      0.207      -0.006       0.029\n",
      "numOfCommunityFeatures        -0.1291      0.032     -4.073      0.000      -0.191      -0.067\n",
      "lotSizeSqFt                    0.0620      0.005     12.134      0.000       0.052       0.072\n",
      "livingAreaSqFt                 0.5997      0.013     44.568      0.000       0.573       0.626\n",
      "numOfPrimarySchools            0.3986      0.034     11.631      0.000       0.331       0.466\n",
      "numOfElementarySchools         0.4193      0.031     13.415      0.000       0.358       0.481\n",
      "numOfMiddleSchools            -0.1445      0.030     -4.830      0.000      -0.203      -0.086\n",
      "numOfHighSchools              -0.1702      0.021     -7.988      0.000      -0.212      -0.128\n",
      "avgSchoolDistance             -0.1133      0.008    -13.831      0.000      -0.129      -0.097\n",
      "avgSchoolRating                0.5289      0.015     34.501      0.000       0.499       0.559\n",
      "avgSchoolSize                 -0.2391      0.012    -19.480      0.000      -0.263      -0.215\n",
      "MedianStudentsPerTeacher       0.0701      0.038      1.852      0.064      -0.004       0.144\n",
      "numOfBathrooms                 0.1868      0.018     10.580      0.000       0.152       0.221\n",
      "numOfBedrooms                 -0.2895      0.019    -14.900      0.000      -0.328      -0.251\n",
      "numOfStories                  -0.0614      0.015     -4.006      0.000      -0.092      -0.031\n",
      "hasAssociation_int            -0.1918      0.010    -18.622      0.000      -0.212      -0.172\n",
      "hasCooling_int                -0.1619      0.038     -4.246      0.000      -0.237      -0.087\n",
      "hasGarage_int                  0.0551      0.025      2.219      0.027       0.006       0.104\n",
      "hasHeating_int                 0.1332      0.052      2.567      0.010       0.032       0.235\n",
      "hasSpa_int                     0.0814      0.014      5.885      0.000       0.054       0.109\n",
      "hasView_int                    0.0240      0.009      2.796      0.005       0.007       0.041\n",
      "==============================================================================\n",
      "Omnibus:                      249.898   Durbin-Watson:                   1.994\n",
      "Prob(Omnibus):                  0.000   Jarque-Bera (JB):              571.937\n",
      "Skew:                           0.068   Prob(JB):                    6.39e-125\n",
      "Kurtosis:                       4.145   Cond. No.                     1.35e+06\n",
      "==============================================================================\n",
      "\n",
      "Notes:\n",
      "[1] Standard Errors assume that the covariance matrix of the errors is correctly specified.\n",
      "[2] The condition number is large, 1.35e+06. This might indicate that there are\n",
      "strong multicollinearity or other numerical problems.\n"
     ]
    }
   ],
   "source": [
    "# Displey results summary\n",
    "print(results.summary())"
   ]
  },
  {
   "cell_type": "markdown",
   "metadata": {},
   "source": [
    "#### Coeffincient of determination is 0.619, the better is close to 1\n",
    "In other words this model is explaining only the 61.9% of data"
   ]
  },
  {
   "cell_type": "markdown",
   "metadata": {},
   "source": [
    "### Evaluation"
   ]
  },
  {
   "cell_type": "markdown",
   "metadata": {},
   "source": [
    "#### Using train"
   ]
  },
  {
   "cell_type": "code",
   "execution_count": 27,
   "metadata": {},
   "outputs": [
    {
     "data": {
      "text/plain": [
       "(10325,)"
      ]
     },
     "execution_count": 27,
     "metadata": {},
     "output_type": "execute_result"
    }
   ],
   "source": [
    "# Get y_train prediction with X_train using the model\n",
    "y_train_pred = results.predict(sm.add_constant(X_train))\n",
    "y_train_pred.shape"
   ]
  },
  {
   "cell_type": "code",
   "execution_count": 28,
   "metadata": {},
   "outputs": [
    {
     "data": {
      "text/plain": [
       "123086.43509159947"
      ]
     },
     "execution_count": 28,
     "metadata": {},
     "output_type": "execute_result"
    }
   ],
   "source": [
    "# RMSE between y_train and y_train_pred\n",
    "from sklearn.metrics import mean_squared_error\n",
    "RMSE_train=mean_squared_error(np.expm1(y_train), np.expm1(y_train_pred), squared=False)\n",
    "RMSE_train"
   ]
  },
  {
   "cell_type": "markdown",
   "metadata": {},
   "source": [
    "Our model is off by about 123,086 dollars in a given prediction"
   ]
  },
  {
   "cell_type": "markdown",
   "metadata": {},
   "source": [
    "#### Using test"
   ]
  },
  {
   "cell_type": "code",
   "execution_count": 29,
   "metadata": {},
   "outputs": [],
   "source": [
    "# Get y_test prediction with X_test using the model\n",
    "y_test_pred = results.predict(sm.add_constant(X_test))"
   ]
  },
  {
   "cell_type": "code",
   "execution_count": 30,
   "metadata": {},
   "outputs": [
    {
     "data": {
      "text/plain": [
       "138073.84478346285"
      ]
     },
     "execution_count": 30,
     "metadata": {},
     "output_type": "execute_result"
    }
   ],
   "source": [
    "# RMSE between y_test and y_test_pred\n",
    "RMSE_test=mean_squared_error(np.expm1(y_test), np.expm1(y_test_pred), squared=False)\n",
    "RMSE_test"
   ]
  },
  {
   "cell_type": "markdown",
   "metadata": {},
   "source": [
    "Our model is off by about 138073 dollars in a given prediction"
   ]
  },
  {
   "cell_type": "code",
   "execution_count": 31,
   "metadata": {},
   "outputs": [
    {
     "data": {
      "text/plain": [
       "10.854633414002258"
      ]
     },
     "execution_count": 31,
     "metadata": {},
     "output_type": "execute_result"
    }
   ],
   "source": [
    "# as long as the difference is small the model is consistent\n",
    "diff = (RMSE_test - RMSE_train)/ RMSE_test *100\n",
    "diff"
   ]
  },
  {
   "cell_type": "markdown",
   "metadata": {},
   "source": [
    "10.85% of difference between RMSE_train and RMSE_test"
   ]
  },
  {
   "cell_type": "code",
   "execution_count": null,
   "metadata": {},
   "outputs": [],
   "source": []
  }
 ],
 "metadata": {
  "colab": {
   "provenance": []
  },
  "kernelspec": {
   "display_name": "Python 3 (ipykernel)",
   "language": "python",
   "name": "python3"
  },
  "language_info": {
   "codemirror_mode": {
    "name": "ipython",
    "version": 3
   },
   "file_extension": ".py",
   "mimetype": "text/x-python",
   "name": "python",
   "nbconvert_exporter": "python",
   "pygments_lexer": "ipython3",
   "version": "3.9.13"
  }
 },
 "nbformat": 4,
 "nbformat_minor": 1
}
