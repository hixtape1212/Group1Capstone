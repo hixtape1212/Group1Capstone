{
 "cells": [
  {
   "cell_type": "markdown",
   "metadata": {},
   "source": [
    "# Predicting Home Value\n",
    "Due to our dataset find, our team has changed our scope from predicting home features to predicting home price using different statistical approaches. Together we will trial and error multiple algorithms and explore there utility in predicting home prices. Across these different algorithms we will use similar metrics such as MSE to determine the relative success of the model."
   ]
  },
  {
   "cell_type": "markdown",
   "metadata": {},
   "source": [
    "## Our Scope\n",
    "A real estate investment firm has tasked our Group1 consulting team to develop a model to predict home prices based on a set of given parameters. Obviously we know location is the biggest idicator of home prices, but our team will use a combination of other home features to figure out the value of a home\n",
    "\n",
    "## Our Data\n",
    "We will be using the a publically availble dataset from Kaggle. The data contained in the set Austin, TX House Listings. It was scraped in January 2021 and is highly ranked on Kaggle for being clean and usable. Below is the link to the dataset.\n",
    "https://www.kaggle.com/datasets/ericpierce/austinhousingprices?resource=download"
   ]
  },
  {
   "cell_type": "markdown",
   "metadata": {},
   "source": [
    "# Familiarizing with Dataset"
   ]
  },
  {
   "cell_type": "code",
   "execution_count": 1,
   "metadata": {},
   "outputs": [],
   "source": [
    "# import pandas for EDA\n",
    "import pandas as pd"
   ]
  },
  {
   "cell_type": "code",
   "execution_count": 2,
   "metadata": {},
   "outputs": [
    {
     "data": {
      "text/html": [
       "<div>\n",
       "<style scoped>\n",
       "    .dataframe tbody tr th:only-of-type {\n",
       "        vertical-align: middle;\n",
       "    }\n",
       "\n",
       "    .dataframe tbody tr th {\n",
       "        vertical-align: top;\n",
       "    }\n",
       "\n",
       "    .dataframe thead th {\n",
       "        text-align: right;\n",
       "    }\n",
       "</style>\n",
       "<table border=\"1\" class=\"dataframe\">\n",
       "  <thead>\n",
       "    <tr style=\"text-align: right;\">\n",
       "      <th></th>\n",
       "      <th>zpid</th>\n",
       "      <th>city</th>\n",
       "      <th>streetAddress</th>\n",
       "      <th>zipcode</th>\n",
       "      <th>description</th>\n",
       "      <th>latitude</th>\n",
       "      <th>longitude</th>\n",
       "      <th>propertyTaxRate</th>\n",
       "      <th>garageSpaces</th>\n",
       "      <th>hasAssociation</th>\n",
       "      <th>...</th>\n",
       "      <th>numOfMiddleSchools</th>\n",
       "      <th>numOfHighSchools</th>\n",
       "      <th>avgSchoolDistance</th>\n",
       "      <th>avgSchoolRating</th>\n",
       "      <th>avgSchoolSize</th>\n",
       "      <th>MedianStudentsPerTeacher</th>\n",
       "      <th>numOfBathrooms</th>\n",
       "      <th>numOfBedrooms</th>\n",
       "      <th>numOfStories</th>\n",
       "      <th>homeImage</th>\n",
       "    </tr>\n",
       "  </thead>\n",
       "  <tbody>\n",
       "    <tr>\n",
       "      <th>0</th>\n",
       "      <td>111373431</td>\n",
       "      <td>pflugerville</td>\n",
       "      <td>14424 Lake Victor Dr</td>\n",
       "      <td>78660</td>\n",
       "      <td>14424 Lake Victor Dr, Pflugerville, TX 78660 i...</td>\n",
       "      <td>30.430632</td>\n",
       "      <td>-97.663078</td>\n",
       "      <td>1.98</td>\n",
       "      <td>2</td>\n",
       "      <td>True</td>\n",
       "      <td>...</td>\n",
       "      <td>1</td>\n",
       "      <td>1</td>\n",
       "      <td>1.266667</td>\n",
       "      <td>2.666667</td>\n",
       "      <td>1063</td>\n",
       "      <td>14</td>\n",
       "      <td>3.0</td>\n",
       "      <td>4</td>\n",
       "      <td>2</td>\n",
       "      <td>111373431_ffce26843283d3365c11d81b8e6bdc6f-p_f...</td>\n",
       "    </tr>\n",
       "    <tr>\n",
       "      <th>1</th>\n",
       "      <td>120900430</td>\n",
       "      <td>pflugerville</td>\n",
       "      <td>1104 Strickling Dr</td>\n",
       "      <td>78660</td>\n",
       "      <td>Absolutely GORGEOUS 4 Bedroom home with 2 full...</td>\n",
       "      <td>30.432672</td>\n",
       "      <td>-97.661697</td>\n",
       "      <td>1.98</td>\n",
       "      <td>2</td>\n",
       "      <td>True</td>\n",
       "      <td>...</td>\n",
       "      <td>1</td>\n",
       "      <td>1</td>\n",
       "      <td>1.400000</td>\n",
       "      <td>2.666667</td>\n",
       "      <td>1063</td>\n",
       "      <td>14</td>\n",
       "      <td>2.0</td>\n",
       "      <td>4</td>\n",
       "      <td>1</td>\n",
       "      <td>120900430_8255c127be8dcf0a1a18b7563d987088-p_f...</td>\n",
       "    </tr>\n",
       "    <tr>\n",
       "      <th>2</th>\n",
       "      <td>2084491383</td>\n",
       "      <td>pflugerville</td>\n",
       "      <td>1408 Fort Dessau Rd</td>\n",
       "      <td>78660</td>\n",
       "      <td>Under construction - estimated completion in A...</td>\n",
       "      <td>30.409748</td>\n",
       "      <td>-97.639771</td>\n",
       "      <td>1.98</td>\n",
       "      <td>0</td>\n",
       "      <td>True</td>\n",
       "      <td>...</td>\n",
       "      <td>1</td>\n",
       "      <td>1</td>\n",
       "      <td>1.200000</td>\n",
       "      <td>3.000000</td>\n",
       "      <td>1108</td>\n",
       "      <td>14</td>\n",
       "      <td>2.0</td>\n",
       "      <td>3</td>\n",
       "      <td>1</td>\n",
       "      <td>2084491383_a2ad649e1a7a098111dcea084a11c855-p_...</td>\n",
       "    </tr>\n",
       "  </tbody>\n",
       "</table>\n",
       "<p>3 rows × 47 columns</p>\n",
       "</div>"
      ],
      "text/plain": [
       "         zpid          city         streetAddress  zipcode  \\\n",
       "0   111373431  pflugerville  14424 Lake Victor Dr    78660   \n",
       "1   120900430  pflugerville    1104 Strickling Dr    78660   \n",
       "2  2084491383  pflugerville   1408 Fort Dessau Rd    78660   \n",
       "\n",
       "                                         description   latitude  longitude  \\\n",
       "0  14424 Lake Victor Dr, Pflugerville, TX 78660 i...  30.430632 -97.663078   \n",
       "1  Absolutely GORGEOUS 4 Bedroom home with 2 full...  30.432672 -97.661697   \n",
       "2  Under construction - estimated completion in A...  30.409748 -97.639771   \n",
       "\n",
       "   propertyTaxRate  garageSpaces  hasAssociation  ...  numOfMiddleSchools  \\\n",
       "0             1.98             2            True  ...                   1   \n",
       "1             1.98             2            True  ...                   1   \n",
       "2             1.98             0            True  ...                   1   \n",
       "\n",
       "   numOfHighSchools  avgSchoolDistance  avgSchoolRating  avgSchoolSize  \\\n",
       "0                 1           1.266667         2.666667           1063   \n",
       "1                 1           1.400000         2.666667           1063   \n",
       "2                 1           1.200000         3.000000           1108   \n",
       "\n",
       "  MedianStudentsPerTeacher  numOfBathrooms  numOfBedrooms  numOfStories  \\\n",
       "0                       14             3.0              4             2   \n",
       "1                       14             2.0              4             1   \n",
       "2                       14             2.0              3             1   \n",
       "\n",
       "                                           homeImage  \n",
       "0  111373431_ffce26843283d3365c11d81b8e6bdc6f-p_f...  \n",
       "1  120900430_8255c127be8dcf0a1a18b7563d987088-p_f...  \n",
       "2  2084491383_a2ad649e1a7a098111dcea084a11c855-p_...  \n",
       "\n",
       "[3 rows x 47 columns]"
      ]
     },
     "execution_count": 2,
     "metadata": {},
     "output_type": "execute_result"
    }
   ],
   "source": [
    "file_path = 'austinHousingData.csv'\n",
    "df = pd.read_csv(file_path)\n",
    "df.head(3)"
   ]
  },
  {
   "cell_type": "code",
   "execution_count": 3,
   "metadata": {},
   "outputs": [
    {
     "name": "stdout",
     "output_type": "stream",
     "text": [
      "<class 'pandas.core.frame.DataFrame'>\n",
      "RangeIndex: 15171 entries, 0 to 15170\n",
      "Data columns (total 47 columns):\n",
      " #   Column                      Non-Null Count  Dtype  \n",
      "---  ------                      --------------  -----  \n",
      " 0   zpid                        15171 non-null  int64  \n",
      " 1   city                        15171 non-null  object \n",
      " 2   streetAddress               15171 non-null  object \n",
      " 3   zipcode                     15171 non-null  int64  \n",
      " 4   description                 15171 non-null  object \n",
      " 5   latitude                    15171 non-null  float64\n",
      " 6   longitude                   15171 non-null  float64\n",
      " 7   propertyTaxRate             15171 non-null  float64\n",
      " 8   garageSpaces                15171 non-null  int64  \n",
      " 9   hasAssociation              15171 non-null  bool   \n",
      " 10  hasCooling                  15171 non-null  bool   \n",
      " 11  hasGarage                   15171 non-null  bool   \n",
      " 12  hasHeating                  15171 non-null  bool   \n",
      " 13  hasSpa                      15171 non-null  bool   \n",
      " 14  hasView                     15171 non-null  bool   \n",
      " 15  homeType                    15171 non-null  object \n",
      " 16  parkingSpaces               15171 non-null  int64  \n",
      " 17  yearBuilt                   15171 non-null  int64  \n",
      " 18  latestPrice                 15171 non-null  int64  \n",
      " 19  numPriceChanges             15171 non-null  int64  \n",
      " 20  latest_saledate             15171 non-null  object \n",
      " 21  latest_salemonth            15171 non-null  int64  \n",
      " 22  latest_saleyear             15171 non-null  int64  \n",
      " 23  latestPriceSource           15171 non-null  object \n",
      " 24  numOfPhotos                 15171 non-null  int64  \n",
      " 25  numOfAccessibilityFeatures  15171 non-null  int64  \n",
      " 26  numOfAppliances             15171 non-null  int64  \n",
      " 27  numOfParkingFeatures        15171 non-null  int64  \n",
      " 28  numOfPatioAndPorchFeatures  15171 non-null  int64  \n",
      " 29  numOfSecurityFeatures       15171 non-null  int64  \n",
      " 30  numOfWaterfrontFeatures     15171 non-null  int64  \n",
      " 31  numOfWindowFeatures         15171 non-null  int64  \n",
      " 32  numOfCommunityFeatures      15171 non-null  int64  \n",
      " 33  lotSizeSqFt                 15171 non-null  float64\n",
      " 34  livingAreaSqFt              15171 non-null  int64  \n",
      " 35  numOfPrimarySchools         15171 non-null  int64  \n",
      " 36  numOfElementarySchools      15171 non-null  int64  \n",
      " 37  numOfMiddleSchools          15171 non-null  int64  \n",
      " 38  numOfHighSchools            15171 non-null  int64  \n",
      " 39  avgSchoolDistance           15171 non-null  float64\n",
      " 40  avgSchoolRating             15171 non-null  float64\n",
      " 41  avgSchoolSize               15171 non-null  int64  \n",
      " 42  MedianStudentsPerTeacher    15171 non-null  int64  \n",
      " 43  numOfBathrooms              15171 non-null  float64\n",
      " 44  numOfBedrooms               15171 non-null  int64  \n",
      " 45  numOfStories                15171 non-null  int64  \n",
      " 46  homeImage                   15171 non-null  object \n",
      "dtypes: bool(6), float64(7), int64(27), object(7)\n",
      "memory usage: 4.8+ MB\n"
     ]
    }
   ],
   "source": [
    "df.info()"
   ]
  },
  {
   "cell_type": "markdown",
   "metadata": {},
   "source": [
    "As you can see from the initial info() method, the dataset itself is very clean and usable. There isn't much data pre-processing needed in order to clean the data since there are no null values, and the majority of features are in a usable format."
   ]
  },
  {
   "cell_type": "markdown",
   "metadata": {},
   "source": [
    "### Dropping non-int and changing booleans\n",
    "The only pre-processing we will need to do is to drop any d-type that is not an integer, like columns city, streetAddress, and description. We still have longitute and latitude so location is still within the dataset. Also we want to change the true and false values to 1's and 0's to make the entire dataset numerical."
   ]
  },
  {
   "cell_type": "code",
   "execution_count": 4,
   "metadata": {},
   "outputs": [
    {
     "data": {
      "text/plain": [
       "(15171, 40)"
      ]
     },
     "execution_count": 4,
     "metadata": {},
     "output_type": "execute_result"
    }
   ],
   "source": [
    "#Droping the columns that are strings\n",
    "col_drop_list = ['city', 'streetAddress', 'description', 'homeType','latest_saledate', 'latestPriceSource', 'homeImage' ]\n",
    "df = df.drop(col_drop_list, axis=1)\n",
    "\n",
    "df.shape"
   ]
  },
  {
   "cell_type": "code",
   "execution_count": 5,
   "metadata": {},
   "outputs": [
    {
     "data": {
      "text/plain": [
       "(15171, 46)"
      ]
     },
     "execution_count": 5,
     "metadata": {},
     "output_type": "execute_result"
    }
   ],
   "source": [
    "#Changing bool to int\n",
    "col_bool_list = ['hasAssociation', 'hasCooling', \n",
    "                 'hasGarage', 'hasHeating', 'hasSpa', 'hasView']\n",
    "\n",
    "for col in col_bool_list:\n",
    "    name = col + '_int'\n",
    "    df[name] = df[col].astype(int)\n",
    "\n",
    "df.shape"
   ]
  },
  {
   "cell_type": "code",
   "execution_count": 6,
   "metadata": {},
   "outputs": [
    {
     "data": {
      "text/plain": [
       "1    8007\n",
       "0    7164\n",
       "Name: hasAssociation_int, dtype: int64"
      ]
     },
     "execution_count": 6,
     "metadata": {},
     "output_type": "execute_result"
    }
   ],
   "source": [
    "df.hasAssociation_int.value_counts()"
   ]
  },
  {
   "cell_type": "code",
   "execution_count": 7,
   "metadata": {},
   "outputs": [
    {
     "data": {
      "text/plain": [
       "(15171, 40)"
      ]
     },
     "execution_count": 7,
     "metadata": {},
     "output_type": "execute_result"
    }
   ],
   "source": [
    "#Drop the bool columns\n",
    "df = df.drop(col_bool_list, axis=1)\n",
    "df.shape"
   ]
  },
  {
   "cell_type": "code",
   "execution_count": 8,
   "metadata": {},
   "outputs": [
    {
     "name": "stdout",
     "output_type": "stream",
     "text": [
      "<class 'pandas.core.frame.DataFrame'>\n",
      "RangeIndex: 15171 entries, 0 to 15170\n",
      "Data columns (total 40 columns):\n",
      " #   Column                      Non-Null Count  Dtype  \n",
      "---  ------                      --------------  -----  \n",
      " 0   zpid                        15171 non-null  int64  \n",
      " 1   zipcode                     15171 non-null  int64  \n",
      " 2   latitude                    15171 non-null  float64\n",
      " 3   longitude                   15171 non-null  float64\n",
      " 4   propertyTaxRate             15171 non-null  float64\n",
      " 5   garageSpaces                15171 non-null  int64  \n",
      " 6   parkingSpaces               15171 non-null  int64  \n",
      " 7   yearBuilt                   15171 non-null  int64  \n",
      " 8   latestPrice                 15171 non-null  int64  \n",
      " 9   numPriceChanges             15171 non-null  int64  \n",
      " 10  latest_salemonth            15171 non-null  int64  \n",
      " 11  latest_saleyear             15171 non-null  int64  \n",
      " 12  numOfPhotos                 15171 non-null  int64  \n",
      " 13  numOfAccessibilityFeatures  15171 non-null  int64  \n",
      " 14  numOfAppliances             15171 non-null  int64  \n",
      " 15  numOfParkingFeatures        15171 non-null  int64  \n",
      " 16  numOfPatioAndPorchFeatures  15171 non-null  int64  \n",
      " 17  numOfSecurityFeatures       15171 non-null  int64  \n",
      " 18  numOfWaterfrontFeatures     15171 non-null  int64  \n",
      " 19  numOfWindowFeatures         15171 non-null  int64  \n",
      " 20  numOfCommunityFeatures      15171 non-null  int64  \n",
      " 21  lotSizeSqFt                 15171 non-null  float64\n",
      " 22  livingAreaSqFt              15171 non-null  int64  \n",
      " 23  numOfPrimarySchools         15171 non-null  int64  \n",
      " 24  numOfElementarySchools      15171 non-null  int64  \n",
      " 25  numOfMiddleSchools          15171 non-null  int64  \n",
      " 26  numOfHighSchools            15171 non-null  int64  \n",
      " 27  avgSchoolDistance           15171 non-null  float64\n",
      " 28  avgSchoolRating             15171 non-null  float64\n",
      " 29  avgSchoolSize               15171 non-null  int64  \n",
      " 30  MedianStudentsPerTeacher    15171 non-null  int64  \n",
      " 31  numOfBathrooms              15171 non-null  float64\n",
      " 32  numOfBedrooms               15171 non-null  int64  \n",
      " 33  numOfStories                15171 non-null  int64  \n",
      " 34  hasAssociation_int          15171 non-null  int32  \n",
      " 35  hasCooling_int              15171 non-null  int32  \n",
      " 36  hasGarage_int               15171 non-null  int32  \n",
      " 37  hasHeating_int              15171 non-null  int32  \n",
      " 38  hasSpa_int                  15171 non-null  int32  \n",
      " 39  hasView_int                 15171 non-null  int32  \n",
      "dtypes: float64(7), int32(6), int64(27)\n",
      "memory usage: 4.3 MB\n"
     ]
    }
   ],
   "source": [
    "df.info()"
   ]
  },
  {
   "cell_type": "markdown",
   "metadata": {},
   "source": [
    "Now the data should be cleaned, all numeric, and ready to be used in the analysis."
   ]
  },
  {
   "cell_type": "markdown",
   "metadata": {},
   "source": [
    "## Analysis\n",
    "In this lineal regression model We will work all features."
   ]
  },
  {
   "cell_type": "markdown",
   "metadata": {},
   "source": [
    "### Creating testing and training data\n",
    "In this next step we will be creating the testing and training data for our algorithm. "
   ]
  },
  {
   "cell_type": "code",
   "execution_count": 9,
   "metadata": {},
   "outputs": [
    {
     "data": {
      "text/plain": [
       "list"
      ]
     },
     "execution_count": 9,
     "metadata": {},
     "output_type": "execute_result"
    }
   ],
   "source": [
    "# Getting column names\n",
    "column_names=df.columns.tolist()\n",
    "type(column_names)"
   ]
  },
  {
   "cell_type": "code",
   "execution_count": 11,
   "metadata": {},
   "outputs": [],
   "source": [
    "# Deleting the name of the dependent name 'latestPrice'\n",
    "column_names.remove('latestPrice')"
   ]
  },
  {
   "cell_type": "code",
   "execution_count": 12,
   "metadata": {},
   "outputs": [],
   "source": [
    "# Independent values\n",
    "X = df[column_names]\n",
    "\n",
    "# Dependent values\n",
    "y = df['latestPrice']"
   ]
  },
  {
   "cell_type": "code",
   "execution_count": 13,
   "metadata": {},
   "outputs": [],
   "source": [
    "# importing train_test_split to create testing and trainin data\n",
    "from sklearn.model_selection import train_test_split\n",
    "X_train, X_test, y_train, y_test = train_test_split(X, y, test_size=0.2, random_state=42)"
   ]
  },
  {
   "cell_type": "code",
   "execution_count": 14,
   "metadata": {},
   "outputs": [
    {
     "name": "stdout",
     "output_type": "stream",
     "text": [
      "(15171, 39) (12136, 39) (3035, 39)\n"
     ]
    }
   ],
   "source": [
    "# Comparing size of X sets\n",
    "print(X.shape, X_train.shape, X_test.shape)"
   ]
  },
  {
   "cell_type": "markdown",
   "metadata": {},
   "source": [
    "### Linear regression with StatsModels"
   ]
  },
  {
   "cell_type": "code",
   "execution_count": 15,
   "metadata": {},
   "outputs": [],
   "source": [
    "import statsmodels.api as sm"
   ]
  },
  {
   "cell_type": "code",
   "execution_count": 16,
   "metadata": {},
   "outputs": [],
   "source": [
    "# Creating the model\n",
    "model = sm.OLS(endog=y_train, exog=sm.add_constant(X_train))"
   ]
  },
  {
   "cell_type": "code",
   "execution_count": 17,
   "metadata": {},
   "outputs": [],
   "source": [
    "# Get model results\n",
    "results = model.fit()"
   ]
  },
  {
   "cell_type": "code",
   "execution_count": 18,
   "metadata": {
    "scrolled": false
   },
   "outputs": [
    {
     "name": "stdout",
     "output_type": "stream",
     "text": [
      "                            OLS Regression Results                            \n",
      "==============================================================================\n",
      "Dep. Variable:            latestPrice   R-squared:                       0.443\n",
      "Model:                            OLS   Adj. R-squared:                  0.442\n",
      "Method:                 Least Squares   F-statistic:                     247.1\n",
      "Date:                Tue, 25 Jul 2023   Prob (F-statistic):               0.00\n",
      "Time:                        15:14:59   Log-Likelihood:            -1.7149e+05\n",
      "No. Observations:               12136   AIC:                         3.431e+05\n",
      "Df Residuals:                   12096   BIC:                         3.434e+05\n",
      "Df Model:                          39                                         \n",
      "Covariance Type:            nonrobust                                         \n",
      "==============================================================================================\n",
      "                                 coef    std err          t      P>|t|      [0.025      0.975]\n",
      "----------------------------------------------------------------------------------------------\n",
      "const                       2.494e+08   1.73e+07     14.443      0.000    2.16e+08    2.83e+08\n",
      "zpid                        1.466e-05      1e-05      1.460      0.144   -5.02e-06    3.43e-05\n",
      "zipcode                    -3021.4276    171.741    -17.593      0.000   -3358.067   -2684.788\n",
      "latitude                   -1.154e+05   4.97e+04     -2.322      0.020   -2.13e+05    -1.8e+04\n",
      "longitude                   4.043e+05   6.81e+04      5.939      0.000    2.71e+05    5.38e+05\n",
      "propertyTaxRate            -1.124e+06   7.79e+04    -14.414      0.000   -1.28e+06   -9.71e+05\n",
      "garageSpaces                3.437e+04   4.12e+04      0.834      0.404   -4.64e+04    1.15e+05\n",
      "parkingSpaces              -1.953e+04   4.08e+04     -0.478      0.632   -9.96e+04    6.05e+04\n",
      "yearBuilt                   -934.8553    203.337     -4.598      0.000   -1333.429    -536.282\n",
      "numPriceChanges            -8099.5723   1254.441     -6.457      0.000   -1.06e+04   -5640.667\n",
      "latest_salemonth            -193.7741   1030.878     -0.188      0.851   -2214.460    1826.912\n",
      "latest_saleyear             1.766e+04   4934.511      3.579      0.000    7986.402    2.73e+04\n",
      "numOfPhotos                  768.5547    160.927      4.776      0.000     453.111    1083.998\n",
      "numOfAccessibilityFeatures  4508.8764   1.74e+04      0.259      0.796   -2.96e+04    3.87e+04\n",
      "numOfAppliances            -2479.9794   1708.197     -1.452      0.147   -5828.320     868.361\n",
      "numOfParkingFeatures         4.32e+04   6314.749      6.841      0.000    3.08e+04    5.56e+04\n",
      "numOfPatioAndPorchFeatures  9719.3121   4219.676      2.303      0.021    1448.072     1.8e+04\n",
      "numOfSecurityFeatures       2070.3476   4545.413      0.455      0.649   -6839.389     1.1e+04\n",
      "numOfWaterfrontFeatures     6.266e+05   4.94e+04     12.686      0.000     5.3e+05    7.23e+05\n",
      "numOfWindowFeatures        -2648.5728   6972.677     -0.380      0.704   -1.63e+04     1.1e+04\n",
      "numOfCommunityFeatures     -3.562e+04   1.81e+04     -1.963      0.050   -7.12e+04     -58.677\n",
      "lotSizeSqFt                    0.0004      0.000      1.664      0.096   -6.53e-05       0.001\n",
      "livingAreaSqFt                77.8208      2.629     29.602      0.000      72.668      82.974\n",
      "numOfPrimarySchools         1.069e+05   2.88e+04      3.719      0.000    5.06e+04    1.63e+05\n",
      "numOfElementarySchools      1.801e+05   2.49e+04      7.243      0.000    1.31e+05    2.29e+05\n",
      "numOfMiddleSchools         -5.463e+04   1.47e+04     -3.713      0.000   -8.35e+04   -2.58e+04\n",
      "numOfHighSchools           -8.948e+04   1.54e+04     -5.803      0.000    -1.2e+05   -5.93e+04\n",
      "avgSchoolDistance           2302.4137   3225.179      0.714      0.475   -4019.454    8624.282\n",
      "avgSchoolRating             5.926e+04   3503.343     16.914      0.000    5.24e+04    6.61e+04\n",
      "avgSchoolSize                -88.3410     14.784     -5.976      0.000    -117.319     -59.363\n",
      "MedianStudentsPerTeacher   -5644.9453   3449.764     -1.636      0.102   -1.24e+04    1117.145\n",
      "numOfBathrooms              1.961e+05   4513.745     43.446      0.000    1.87e+05    2.05e+05\n",
      "numOfBedrooms               -3.32e+04   4691.084     -7.077      0.000   -4.24e+04    -2.4e+04\n",
      "numOfStories               -6.967e+04   7255.485     -9.603      0.000   -8.39e+04   -5.55e+04\n",
      "hasAssociation_int         -1.594e+05   8405.177    -18.969      0.000   -1.76e+05   -1.43e+05\n",
      "hasCooling_int              -8.18e+04   3.18e+04     -2.575      0.010   -1.44e+05   -1.95e+04\n",
      "hasGarage_int              -9.422e+04   1.31e+04     -7.194      0.000    -1.2e+05   -6.85e+04\n",
      "hasHeating_int             -3.857e+04   4.22e+04     -0.913      0.361   -1.21e+05    4.42e+04\n",
      "hasSpa_int                  6.722e+04   1.21e+04      5.553      0.000    4.35e+04     9.1e+04\n",
      "hasView_int                 3.179e+04   7622.535      4.171      0.000    1.68e+04    4.67e+04\n",
      "==============================================================================\n",
      "Omnibus:                    18380.030   Durbin-Watson:                   2.006\n",
      "Prob(Omnibus):                  0.000   Jarque-Bera (JB):         40792797.893\n",
      "Skew:                           8.768   Prob(JB):                         0.00\n",
      "Kurtosis:                     286.485   Cond. No.                     1.90e+12\n",
      "==============================================================================\n",
      "\n",
      "Notes:\n",
      "[1] Standard Errors assume that the covariance matrix of the errors is correctly specified.\n",
      "[2] The condition number is large, 1.9e+12. This might indicate that there are\n",
      "strong multicollinearity or other numerical problems.\n"
     ]
    }
   ],
   "source": [
    "# Displey results summary\n",
    "print(results.summary())"
   ]
  },
  {
   "cell_type": "markdown",
   "metadata": {},
   "source": [
    "#### Coeffincient of determination is 0.44 that's not a good number, the better is close to 1\n",
    "this model is explainin only the 44% of data"
   ]
  },
  {
   "cell_type": "markdown",
   "metadata": {},
   "source": [
    "### Evaluation"
   ]
  },
  {
   "cell_type": "code",
   "execution_count": 19,
   "metadata": {},
   "outputs": [
    {
     "data": {
      "text/plain": [
       "(12136,)"
      ]
     },
     "execution_count": 19,
     "metadata": {},
     "output_type": "execute_result"
    }
   ],
   "source": [
    "# Get prediction with X_train using the model\n",
    "y_train_pred = results.predict(sm.add_constant(X_train))\n",
    "y_train_pred.shape"
   ]
  },
  {
   "cell_type": "code",
   "execution_count": 20,
   "metadata": {},
   "outputs": [
    {
     "data": {
      "text/plain": [
       "331574.1996992208"
      ]
     },
     "execution_count": 20,
     "metadata": {},
     "output_type": "execute_result"
    }
   ],
   "source": [
    "# RMSE\n",
    "from sklearn.metrics import mean_squared_error\n",
    "RMSE_train=mean_squared_error(y_train, y_train_pred, squared=False)\n",
    "RMSE_train"
   ]
  },
  {
   "cell_type": "markdown",
   "metadata": {},
   "source": [
    "Our model is off by about 331574 dollars in a given prediction\n",
    "\n",
    "it's a bad number"
   ]
  },
  {
   "cell_type": "code",
   "execution_count": 21,
   "metadata": {},
   "outputs": [],
   "source": [
    "# Get prediction with X_train using the model\n",
    "y_test_pred = results.predict(sm.add_constant(X_test))"
   ]
  },
  {
   "cell_type": "code",
   "execution_count": 22,
   "metadata": {},
   "outputs": [
    {
     "data": {
      "text/plain": [
       "375425.40475539543"
      ]
     },
     "execution_count": 22,
     "metadata": {},
     "output_type": "execute_result"
    }
   ],
   "source": [
    "RMSE_test=mean_squared_error(y_test, y_test_pred, squared=False)\n",
    "RMSE_test"
   ]
  },
  {
   "cell_type": "code",
   "execution_count": 23,
   "metadata": {},
   "outputs": [
    {
     "data": {
      "text/plain": [
       "11.680404282908201"
      ]
     },
     "execution_count": 23,
     "metadata": {},
     "output_type": "execute_result"
    }
   ],
   "source": [
    "# as long as the difference is small the model is consistent\n",
    "diff = (RMSE_test - RMSE_train)/ RMSE_test *100\n",
    "diff"
   ]
  },
  {
   "cell_type": "code",
   "execution_count": null,
   "metadata": {},
   "outputs": [],
   "source": []
  }
 ],
 "metadata": {
  "kernelspec": {
   "display_name": "Python 3 (ipykernel)",
   "language": "python",
   "name": "python3"
  },
  "language_info": {
   "codemirror_mode": {
    "name": "ipython",
    "version": 3
   },
   "file_extension": ".py",
   "mimetype": "text/x-python",
   "name": "python",
   "nbconvert_exporter": "python",
   "pygments_lexer": "ipython3",
   "version": "3.9.13"
  }
 },
 "nbformat": 4,
 "nbformat_minor": 4
}
