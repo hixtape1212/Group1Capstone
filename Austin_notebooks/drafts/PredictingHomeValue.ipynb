{
 "cells": [
  {
   "cell_type": "markdown",
   "metadata": {},
   "source": [
    "# Predicting Home Value\n",
    "Due to our dataset find, our team has changed our scope from predicting home features to predicting home price using different statistical approaches. Together we will trial and error multiple algorithms and explore there utility in predicting home prices. Across these different algorithms we will use similar metrics such as MSE to determine the relative success of the model."
   ]
  },
  {
   "cell_type": "markdown",
   "metadata": {},
   "source": [
    "## Our Scope\n",
    "A real estate investment firm has tasked our Group1 consulting team to develop a model to predict home prices based on a set of given parameters. Obviously we know location is the biggest idicator of home prices, but our team will use a combination of other home features to figure out the value of a home\n",
    "\n",
    "## Our Data\n",
    "We will be using the a publically availble dataset from Kaggle. The data contained in the set Austin, TX House Listings. It was scraped in January 2021 and is highly ranked on Kaggle for being clean and usable. Below is the link to the dataset.\n",
    "https://www.kaggle.com/datasets/ericpierce/austinhousingprices?resource=download"
   ]
  },
  {
   "cell_type": "markdown",
   "metadata": {},
   "source": [
    "# Familiarizing with Dataset"
   ]
  },
  {
   "cell_type": "code",
   "execution_count": 1,
   "metadata": {},
   "outputs": [],
   "source": [
    "# import pandas for EDA\n",
    "import pandas as pd"
   ]
  },
  {
   "cell_type": "code",
   "execution_count": 86,
   "metadata": {},
   "outputs": [
    {
     "data": {
      "text/html": [
       "<div>\n",
       "<style scoped>\n",
       "    .dataframe tbody tr th:only-of-type {\n",
       "        vertical-align: middle;\n",
       "    }\n",
       "\n",
       "    .dataframe tbody tr th {\n",
       "        vertical-align: top;\n",
       "    }\n",
       "\n",
       "    .dataframe thead th {\n",
       "        text-align: right;\n",
       "    }\n",
       "</style>\n",
       "<table border=\"1\" class=\"dataframe\">\n",
       "  <thead>\n",
       "    <tr style=\"text-align: right;\">\n",
       "      <th></th>\n",
       "      <th>zpid</th>\n",
       "      <th>city</th>\n",
       "      <th>streetAddress</th>\n",
       "      <th>zipcode</th>\n",
       "      <th>description</th>\n",
       "      <th>latitude</th>\n",
       "      <th>longitude</th>\n",
       "      <th>propertyTaxRate</th>\n",
       "      <th>garageSpaces</th>\n",
       "      <th>hasAssociation</th>\n",
       "      <th>...</th>\n",
       "      <th>numOfMiddleSchools</th>\n",
       "      <th>numOfHighSchools</th>\n",
       "      <th>avgSchoolDistance</th>\n",
       "      <th>avgSchoolRating</th>\n",
       "      <th>avgSchoolSize</th>\n",
       "      <th>MedianStudentsPerTeacher</th>\n",
       "      <th>numOfBathrooms</th>\n",
       "      <th>numOfBedrooms</th>\n",
       "      <th>numOfStories</th>\n",
       "      <th>homeImage</th>\n",
       "    </tr>\n",
       "  </thead>\n",
       "  <tbody>\n",
       "    <tr>\n",
       "      <th>0</th>\n",
       "      <td>111373431</td>\n",
       "      <td>pflugerville</td>\n",
       "      <td>14424 Lake Victor Dr</td>\n",
       "      <td>78660</td>\n",
       "      <td>14424 Lake Victor Dr, Pflugerville, TX 78660 i...</td>\n",
       "      <td>30.430632</td>\n",
       "      <td>-97.663078</td>\n",
       "      <td>1.98</td>\n",
       "      <td>2</td>\n",
       "      <td>True</td>\n",
       "      <td>...</td>\n",
       "      <td>1</td>\n",
       "      <td>1</td>\n",
       "      <td>1.266667</td>\n",
       "      <td>2.666667</td>\n",
       "      <td>1063</td>\n",
       "      <td>14</td>\n",
       "      <td>3.0</td>\n",
       "      <td>4</td>\n",
       "      <td>2</td>\n",
       "      <td>111373431_ffce26843283d3365c11d81b8e6bdc6f-p_f...</td>\n",
       "    </tr>\n",
       "    <tr>\n",
       "      <th>1</th>\n",
       "      <td>120900430</td>\n",
       "      <td>pflugerville</td>\n",
       "      <td>1104 Strickling Dr</td>\n",
       "      <td>78660</td>\n",
       "      <td>Absolutely GORGEOUS 4 Bedroom home with 2 full...</td>\n",
       "      <td>30.432672</td>\n",
       "      <td>-97.661697</td>\n",
       "      <td>1.98</td>\n",
       "      <td>2</td>\n",
       "      <td>True</td>\n",
       "      <td>...</td>\n",
       "      <td>1</td>\n",
       "      <td>1</td>\n",
       "      <td>1.400000</td>\n",
       "      <td>2.666667</td>\n",
       "      <td>1063</td>\n",
       "      <td>14</td>\n",
       "      <td>2.0</td>\n",
       "      <td>4</td>\n",
       "      <td>1</td>\n",
       "      <td>120900430_8255c127be8dcf0a1a18b7563d987088-p_f...</td>\n",
       "    </tr>\n",
       "    <tr>\n",
       "      <th>2</th>\n",
       "      <td>2084491383</td>\n",
       "      <td>pflugerville</td>\n",
       "      <td>1408 Fort Dessau Rd</td>\n",
       "      <td>78660</td>\n",
       "      <td>Under construction - estimated completion in A...</td>\n",
       "      <td>30.409748</td>\n",
       "      <td>-97.639771</td>\n",
       "      <td>1.98</td>\n",
       "      <td>0</td>\n",
       "      <td>True</td>\n",
       "      <td>...</td>\n",
       "      <td>1</td>\n",
       "      <td>1</td>\n",
       "      <td>1.200000</td>\n",
       "      <td>3.000000</td>\n",
       "      <td>1108</td>\n",
       "      <td>14</td>\n",
       "      <td>2.0</td>\n",
       "      <td>3</td>\n",
       "      <td>1</td>\n",
       "      <td>2084491383_a2ad649e1a7a098111dcea084a11c855-p_...</td>\n",
       "    </tr>\n",
       "  </tbody>\n",
       "</table>\n",
       "<p>3 rows × 47 columns</p>\n",
       "</div>"
      ],
      "text/plain": [
       "         zpid          city         streetAddress  zipcode  \\\n",
       "0   111373431  pflugerville  14424 Lake Victor Dr    78660   \n",
       "1   120900430  pflugerville    1104 Strickling Dr    78660   \n",
       "2  2084491383  pflugerville   1408 Fort Dessau Rd    78660   \n",
       "\n",
       "                                         description   latitude  longitude  \\\n",
       "0  14424 Lake Victor Dr, Pflugerville, TX 78660 i...  30.430632 -97.663078   \n",
       "1  Absolutely GORGEOUS 4 Bedroom home with 2 full...  30.432672 -97.661697   \n",
       "2  Under construction - estimated completion in A...  30.409748 -97.639771   \n",
       "\n",
       "   propertyTaxRate  garageSpaces  hasAssociation  ...  numOfMiddleSchools  \\\n",
       "0             1.98             2            True  ...                   1   \n",
       "1             1.98             2            True  ...                   1   \n",
       "2             1.98             0            True  ...                   1   \n",
       "\n",
       "   numOfHighSchools  avgSchoolDistance  avgSchoolRating  avgSchoolSize  \\\n",
       "0                 1           1.266667         2.666667           1063   \n",
       "1                 1           1.400000         2.666667           1063   \n",
       "2                 1           1.200000         3.000000           1108   \n",
       "\n",
       "  MedianStudentsPerTeacher  numOfBathrooms  numOfBedrooms  numOfStories  \\\n",
       "0                       14             3.0              4             2   \n",
       "1                       14             2.0              4             1   \n",
       "2                       14             2.0              3             1   \n",
       "\n",
       "                                           homeImage  \n",
       "0  111373431_ffce26843283d3365c11d81b8e6bdc6f-p_f...  \n",
       "1  120900430_8255c127be8dcf0a1a18b7563d987088-p_f...  \n",
       "2  2084491383_a2ad649e1a7a098111dcea084a11c855-p_...  \n",
       "\n",
       "[3 rows x 47 columns]"
      ]
     },
     "execution_count": 86,
     "metadata": {},
     "output_type": "execute_result"
    }
   ],
   "source": [
    "file_path = 'austinHousingData.csv'\n",
    "df = pd.read_csv(file_path)\n",
    "df.head(3)"
   ]
  },
  {
   "cell_type": "code",
   "execution_count": 3,
   "metadata": {},
   "outputs": [
    {
     "name": "stdout",
     "output_type": "stream",
     "text": [
      "<class 'pandas.core.frame.DataFrame'>\n",
      "RangeIndex: 15171 entries, 0 to 15170\n",
      "Data columns (total 47 columns):\n",
      " #   Column                      Non-Null Count  Dtype  \n",
      "---  ------                      --------------  -----  \n",
      " 0   zpid                        15171 non-null  int64  \n",
      " 1   city                        15171 non-null  object \n",
      " 2   streetAddress               15171 non-null  object \n",
      " 3   zipcode                     15171 non-null  int64  \n",
      " 4   description                 15171 non-null  object \n",
      " 5   latitude                    15171 non-null  float64\n",
      " 6   longitude                   15171 non-null  float64\n",
      " 7   propertyTaxRate             15171 non-null  float64\n",
      " 8   garageSpaces                15171 non-null  int64  \n",
      " 9   hasAssociation              15171 non-null  bool   \n",
      " 10  hasCooling                  15171 non-null  bool   \n",
      " 11  hasGarage                   15171 non-null  bool   \n",
      " 12  hasHeating                  15171 non-null  bool   \n",
      " 13  hasSpa                      15171 non-null  bool   \n",
      " 14  hasView                     15171 non-null  bool   \n",
      " 15  homeType                    15171 non-null  object \n",
      " 16  parkingSpaces               15171 non-null  int64  \n",
      " 17  yearBuilt                   15171 non-null  int64  \n",
      " 18  latestPrice                 15171 non-null  int64  \n",
      " 19  numPriceChanges             15171 non-null  int64  \n",
      " 20  latest_saledate             15171 non-null  object \n",
      " 21  latest_salemonth            15171 non-null  int64  \n",
      " 22  latest_saleyear             15171 non-null  int64  \n",
      " 23  latestPriceSource           15171 non-null  object \n",
      " 24  numOfPhotos                 15171 non-null  int64  \n",
      " 25  numOfAccessibilityFeatures  15171 non-null  int64  \n",
      " 26  numOfAppliances             15171 non-null  int64  \n",
      " 27  numOfParkingFeatures        15171 non-null  int64  \n",
      " 28  numOfPatioAndPorchFeatures  15171 non-null  int64  \n",
      " 29  numOfSecurityFeatures       15171 non-null  int64  \n",
      " 30  numOfWaterfrontFeatures     15171 non-null  int64  \n",
      " 31  numOfWindowFeatures         15171 non-null  int64  \n",
      " 32  numOfCommunityFeatures      15171 non-null  int64  \n",
      " 33  lotSizeSqFt                 15171 non-null  float64\n",
      " 34  livingAreaSqFt              15171 non-null  int64  \n",
      " 35  numOfPrimarySchools         15171 non-null  int64  \n",
      " 36  numOfElementarySchools      15171 non-null  int64  \n",
      " 37  numOfMiddleSchools          15171 non-null  int64  \n",
      " 38  numOfHighSchools            15171 non-null  int64  \n",
      " 39  avgSchoolDistance           15171 non-null  float64\n",
      " 40  avgSchoolRating             15171 non-null  float64\n",
      " 41  avgSchoolSize               15171 non-null  int64  \n",
      " 42  MedianStudentsPerTeacher    15171 non-null  int64  \n",
      " 43  numOfBathrooms              15171 non-null  float64\n",
      " 44  numOfBedrooms               15171 non-null  int64  \n",
      " 45  numOfStories                15171 non-null  int64  \n",
      " 46  homeImage                   15171 non-null  object \n",
      "dtypes: bool(6), float64(7), int64(27), object(7)\n",
      "memory usage: 4.8+ MB\n"
     ]
    }
   ],
   "source": [
    "df.info()"
   ]
  },
  {
   "cell_type": "code",
   "execution_count": 88,
   "metadata": {
    "scrolled": true
   },
   "outputs": [
    {
     "data": {
      "text/plain": [
       "Single Family            14241\n",
       "Condo                      470\n",
       "Townhouse                  174\n",
       "Multiple Occupancy          96\n",
       "Vacant Land                 83\n",
       "Residential                 37\n",
       "Apartment                   37\n",
       "Mobile / Manufactured       17\n",
       "MultiFamily                 10\n",
       "Other                        6\n",
       "Name: homeType, dtype: int64"
      ]
     },
     "execution_count": 88,
     "metadata": {},
     "output_type": "execute_result"
    }
   ],
   "source": [
    "# identifyng types of houses\n",
    "df['homeType'].value_counts()"
   ]
  },
  {
   "cell_type": "code",
   "execution_count": 105,
   "metadata": {},
   "outputs": [
    {
     "data": {
      "text/html": [
       "<div>\n",
       "<style scoped>\n",
       "    .dataframe tbody tr th:only-of-type {\n",
       "        vertical-align: middle;\n",
       "    }\n",
       "\n",
       "    .dataframe tbody tr th {\n",
       "        vertical-align: top;\n",
       "    }\n",
       "\n",
       "    .dataframe thead th {\n",
       "        text-align: right;\n",
       "    }\n",
       "</style>\n",
       "<table border=\"1\" class=\"dataframe\">\n",
       "  <thead>\n",
       "    <tr style=\"text-align: right;\">\n",
       "      <th></th>\n",
       "      <th>homeType</th>\n",
       "      <th>latestPrice</th>\n",
       "    </tr>\n",
       "  </thead>\n",
       "  <tbody>\n",
       "    <tr>\n",
       "      <th>290</th>\n",
       "      <td>Single Family</td>\n",
       "      <td>8999000</td>\n",
       "    </tr>\n",
       "    <tr>\n",
       "      <th>1298</th>\n",
       "      <td>Single Family</td>\n",
       "      <td>8750000</td>\n",
       "    </tr>\n",
       "    <tr>\n",
       "      <th>1399</th>\n",
       "      <td>Vacant Land</td>\n",
       "      <td>12720000</td>\n",
       "    </tr>\n",
       "    <tr>\n",
       "      <th>2316</th>\n",
       "      <td>Single Family</td>\n",
       "      <td>13500000</td>\n",
       "    </tr>\n",
       "    <tr>\n",
       "      <th>14275</th>\n",
       "      <td>Single Family</td>\n",
       "      <td>13000000</td>\n",
       "    </tr>\n",
       "    <tr>\n",
       "      <th>14376</th>\n",
       "      <td>Single Family</td>\n",
       "      <td>8750000</td>\n",
       "    </tr>\n",
       "    <tr>\n",
       "      <th>14639</th>\n",
       "      <td>Single Family</td>\n",
       "      <td>8799000</td>\n",
       "    </tr>\n",
       "  </tbody>\n",
       "</table>\n",
       "</div>"
      ],
      "text/plain": [
       "            homeType  latestPrice\n",
       "290    Single Family      8999000\n",
       "1298   Single Family      8750000\n",
       "1399     Vacant Land     12720000\n",
       "2316   Single Family     13500000\n",
       "14275  Single Family     13000000\n",
       "14376  Single Family      8750000\n",
       "14639  Single Family      8799000"
      ]
     },
     "execution_count": 105,
     "metadata": {},
     "output_type": "execute_result"
    }
   ],
   "source": [
    "# identifyng expensive houses\n",
    "price=df[df['latestPrice']>8000000]\n",
    "price[['homeType','latestPrice']]"
   ]
  },
  {
   "cell_type": "markdown",
   "metadata": {},
   "source": [
    "As you can see from the initial info() method, the dataset itself is very clean and usable. There isn't much data pre-processing needed in order to clean the data since there are no null values, and the majority of features are in a usable format."
   ]
  },
  {
   "cell_type": "markdown",
   "metadata": {},
   "source": [
    "### Dropping non-int and changing booleans\n",
    "The only pre-processing we will need to do is to drop any d-type that is not an integer, like columns city, streetAddress, and description. We still have longitute and latitude so location is still within the dataset. Also we want to change the true and false values to 1's and 0's to make the entire dataset numerical."
   ]
  },
  {
   "cell_type": "code",
   "execution_count": 4,
   "metadata": {},
   "outputs": [
    {
     "data": {
      "text/plain": [
       "(15171, 40)"
      ]
     },
     "execution_count": 4,
     "metadata": {},
     "output_type": "execute_result"
    }
   ],
   "source": [
    "#Droping the columns that are strings\n",
    "col_drop_list = ['city', 'streetAddress', 'description', 'homeType','latest_saledate', 'latestPriceSource', 'homeImage' ]\n",
    "df = df.drop(col_drop_list, axis=1)\n",
    "\n",
    "df.shape"
   ]
  },
  {
   "cell_type": "code",
   "execution_count": 5,
   "metadata": {},
   "outputs": [
    {
     "data": {
      "text/plain": [
       "(15171, 46)"
      ]
     },
     "execution_count": 5,
     "metadata": {},
     "output_type": "execute_result"
    }
   ],
   "source": [
    "#Changing bool to int\n",
    "col_bool_list = ['hasAssociation', 'hasCooling', \n",
    "                 'hasGarage', 'hasHeating', 'hasSpa', 'hasView']\n",
    "\n",
    "for col in col_bool_list:\n",
    "    name = col + '_int'\n",
    "    df[name] = df[col].astype(int)\n",
    "\n",
    "df.shape"
   ]
  },
  {
   "cell_type": "code",
   "execution_count": 6,
   "metadata": {},
   "outputs": [
    {
     "name": "stdout",
     "output_type": "stream",
     "text": [
      "<class 'pandas.core.frame.DataFrame'>\n",
      "RangeIndex: 15171 entries, 0 to 15170\n",
      "Data columns (total 46 columns):\n",
      " #   Column                      Non-Null Count  Dtype  \n",
      "---  ------                      --------------  -----  \n",
      " 0   zpid                        15171 non-null  int64  \n",
      " 1   zipcode                     15171 non-null  int64  \n",
      " 2   latitude                    15171 non-null  float64\n",
      " 3   longitude                   15171 non-null  float64\n",
      " 4   propertyTaxRate             15171 non-null  float64\n",
      " 5   garageSpaces                15171 non-null  int64  \n",
      " 6   hasAssociation              15171 non-null  bool   \n",
      " 7   hasCooling                  15171 non-null  bool   \n",
      " 8   hasGarage                   15171 non-null  bool   \n",
      " 9   hasHeating                  15171 non-null  bool   \n",
      " 10  hasSpa                      15171 non-null  bool   \n",
      " 11  hasView                     15171 non-null  bool   \n",
      " 12  parkingSpaces               15171 non-null  int64  \n",
      " 13  yearBuilt                   15171 non-null  int64  \n",
      " 14  latestPrice                 15171 non-null  int64  \n",
      " 15  numPriceChanges             15171 non-null  int64  \n",
      " 16  latest_salemonth            15171 non-null  int64  \n",
      " 17  latest_saleyear             15171 non-null  int64  \n",
      " 18  numOfPhotos                 15171 non-null  int64  \n",
      " 19  numOfAccessibilityFeatures  15171 non-null  int64  \n",
      " 20  numOfAppliances             15171 non-null  int64  \n",
      " 21  numOfParkingFeatures        15171 non-null  int64  \n",
      " 22  numOfPatioAndPorchFeatures  15171 non-null  int64  \n",
      " 23  numOfSecurityFeatures       15171 non-null  int64  \n",
      " 24  numOfWaterfrontFeatures     15171 non-null  int64  \n",
      " 25  numOfWindowFeatures         15171 non-null  int64  \n",
      " 26  numOfCommunityFeatures      15171 non-null  int64  \n",
      " 27  lotSizeSqFt                 15171 non-null  float64\n",
      " 28  livingAreaSqFt              15171 non-null  int64  \n",
      " 29  numOfPrimarySchools         15171 non-null  int64  \n",
      " 30  numOfElementarySchools      15171 non-null  int64  \n",
      " 31  numOfMiddleSchools          15171 non-null  int64  \n",
      " 32  numOfHighSchools            15171 non-null  int64  \n",
      " 33  avgSchoolDistance           15171 non-null  float64\n",
      " 34  avgSchoolRating             15171 non-null  float64\n",
      " 35  avgSchoolSize               15171 non-null  int64  \n",
      " 36  MedianStudentsPerTeacher    15171 non-null  int64  \n",
      " 37  numOfBathrooms              15171 non-null  float64\n",
      " 38  numOfBedrooms               15171 non-null  int64  \n",
      " 39  numOfStories                15171 non-null  int64  \n",
      " 40  hasAssociation_int          15171 non-null  int32  \n",
      " 41  hasCooling_int              15171 non-null  int32  \n",
      " 42  hasGarage_int               15171 non-null  int32  \n",
      " 43  hasHeating_int              15171 non-null  int32  \n",
      " 44  hasSpa_int                  15171 non-null  int32  \n",
      " 45  hasView_int                 15171 non-null  int32  \n",
      "dtypes: bool(6), float64(7), int32(6), int64(27)\n",
      "memory usage: 4.4 MB\n"
     ]
    }
   ],
   "source": [
    "df.info()"
   ]
  },
  {
   "cell_type": "code",
   "execution_count": 7,
   "metadata": {},
   "outputs": [
    {
     "data": {
      "text/plain": [
       "1    8007\n",
       "0    7164\n",
       "Name: hasAssociation_int, dtype: int64"
      ]
     },
     "execution_count": 7,
     "metadata": {},
     "output_type": "execute_result"
    }
   ],
   "source": [
    "df.hasAssociation_int.value_counts()"
   ]
  },
  {
   "cell_type": "code",
   "execution_count": 8,
   "metadata": {},
   "outputs": [
    {
     "data": {
      "text/plain": [
       "(15171, 40)"
      ]
     },
     "execution_count": 8,
     "metadata": {},
     "output_type": "execute_result"
    }
   ],
   "source": [
    "#Drop the bool columns\n",
    "df = df.drop(col_bool_list, axis=1)\n",
    "df.shape"
   ]
  },
  {
   "cell_type": "code",
   "execution_count": 9,
   "metadata": {},
   "outputs": [
    {
     "name": "stdout",
     "output_type": "stream",
     "text": [
      "<class 'pandas.core.frame.DataFrame'>\n",
      "RangeIndex: 15171 entries, 0 to 15170\n",
      "Data columns (total 40 columns):\n",
      " #   Column                      Non-Null Count  Dtype  \n",
      "---  ------                      --------------  -----  \n",
      " 0   zpid                        15171 non-null  int64  \n",
      " 1   zipcode                     15171 non-null  int64  \n",
      " 2   latitude                    15171 non-null  float64\n",
      " 3   longitude                   15171 non-null  float64\n",
      " 4   propertyTaxRate             15171 non-null  float64\n",
      " 5   garageSpaces                15171 non-null  int64  \n",
      " 6   parkingSpaces               15171 non-null  int64  \n",
      " 7   yearBuilt                   15171 non-null  int64  \n",
      " 8   latestPrice                 15171 non-null  int64  \n",
      " 9   numPriceChanges             15171 non-null  int64  \n",
      " 10  latest_salemonth            15171 non-null  int64  \n",
      " 11  latest_saleyear             15171 non-null  int64  \n",
      " 12  numOfPhotos                 15171 non-null  int64  \n",
      " 13  numOfAccessibilityFeatures  15171 non-null  int64  \n",
      " 14  numOfAppliances             15171 non-null  int64  \n",
      " 15  numOfParkingFeatures        15171 non-null  int64  \n",
      " 16  numOfPatioAndPorchFeatures  15171 non-null  int64  \n",
      " 17  numOfSecurityFeatures       15171 non-null  int64  \n",
      " 18  numOfWaterfrontFeatures     15171 non-null  int64  \n",
      " 19  numOfWindowFeatures         15171 non-null  int64  \n",
      " 20  numOfCommunityFeatures      15171 non-null  int64  \n",
      " 21  lotSizeSqFt                 15171 non-null  float64\n",
      " 22  livingAreaSqFt              15171 non-null  int64  \n",
      " 23  numOfPrimarySchools         15171 non-null  int64  \n",
      " 24  numOfElementarySchools      15171 non-null  int64  \n",
      " 25  numOfMiddleSchools          15171 non-null  int64  \n",
      " 26  numOfHighSchools            15171 non-null  int64  \n",
      " 27  avgSchoolDistance           15171 non-null  float64\n",
      " 28  avgSchoolRating             15171 non-null  float64\n",
      " 29  avgSchoolSize               15171 non-null  int64  \n",
      " 30  MedianStudentsPerTeacher    15171 non-null  int64  \n",
      " 31  numOfBathrooms              15171 non-null  float64\n",
      " 32  numOfBedrooms               15171 non-null  int64  \n",
      " 33  numOfStories                15171 non-null  int64  \n",
      " 34  hasAssociation_int          15171 non-null  int32  \n",
      " 35  hasCooling_int              15171 non-null  int32  \n",
      " 36  hasGarage_int               15171 non-null  int32  \n",
      " 37  hasHeating_int              15171 non-null  int32  \n",
      " 38  hasSpa_int                  15171 non-null  int32  \n",
      " 39  hasView_int                 15171 non-null  int32  \n",
      "dtypes: float64(7), int32(6), int64(27)\n",
      "memory usage: 4.3 MB\n"
     ]
    }
   ],
   "source": [
    "df.info()"
   ]
  },
  {
   "cell_type": "markdown",
   "metadata": {},
   "source": [
    "Now the data should be cleaned, all numeric, and ready to be used in the analysis."
   ]
  },
  {
   "cell_type": "markdown",
   "metadata": {},
   "source": [
    "## Analysis\n",
    "In this model We will work with physics features of houses and the lastPrice, trying to find a model to predict the price using n number of bathrooms, bedrooms, stories and garage spaces, Size of land and size of living area."
   ]
  },
  {
   "cell_type": "markdown",
   "metadata": {},
   "source": [
    "# Selecting phisic features from houses\n",
    "independent: latestPrice \n",
    "\n",
    "dependent: garageSpaces, lotSizeSqFt, livingAreaSqFt, numOfBathrooms, numOfBedrooms, numOfStories"
   ]
  },
  {
   "cell_type": "code",
   "execution_count": 10,
   "metadata": {},
   "outputs": [
    {
     "data": {
      "text/html": [
       "<div>\n",
       "<style scoped>\n",
       "    .dataframe tbody tr th:only-of-type {\n",
       "        vertical-align: middle;\n",
       "    }\n",
       "\n",
       "    .dataframe tbody tr th {\n",
       "        vertical-align: top;\n",
       "    }\n",
       "\n",
       "    .dataframe thead th {\n",
       "        text-align: right;\n",
       "    }\n",
       "</style>\n",
       "<table border=\"1\" class=\"dataframe\">\n",
       "  <thead>\n",
       "    <tr style=\"text-align: right;\">\n",
       "      <th></th>\n",
       "      <th>latestPrice</th>\n",
       "      <th>garageSpaces</th>\n",
       "      <th>lotSizeSqFt</th>\n",
       "      <th>livingAreaSqFt</th>\n",
       "      <th>numOfBathrooms</th>\n",
       "      <th>numOfBedrooms</th>\n",
       "      <th>numOfStories</th>\n",
       "    </tr>\n",
       "  </thead>\n",
       "  <tbody>\n",
       "    <tr>\n",
       "      <th>0</th>\n",
       "      <td>305000</td>\n",
       "      <td>2</td>\n",
       "      <td>6011.0</td>\n",
       "      <td>2601</td>\n",
       "      <td>3.0</td>\n",
       "      <td>4</td>\n",
       "      <td>2</td>\n",
       "    </tr>\n",
       "    <tr>\n",
       "      <th>1</th>\n",
       "      <td>295000</td>\n",
       "      <td>2</td>\n",
       "      <td>6185.0</td>\n",
       "      <td>1768</td>\n",
       "      <td>2.0</td>\n",
       "      <td>4</td>\n",
       "      <td>1</td>\n",
       "    </tr>\n",
       "    <tr>\n",
       "      <th>2</th>\n",
       "      <td>256125</td>\n",
       "      <td>0</td>\n",
       "      <td>7840.0</td>\n",
       "      <td>1478</td>\n",
       "      <td>2.0</td>\n",
       "      <td>3</td>\n",
       "      <td>1</td>\n",
       "    </tr>\n",
       "  </tbody>\n",
       "</table>\n",
       "</div>"
      ],
      "text/plain": [
       "   latestPrice  garageSpaces  lotSizeSqFt  livingAreaSqFt  numOfBathrooms  \\\n",
       "0       305000             2       6011.0            2601             3.0   \n",
       "1       295000             2       6185.0            1768             2.0   \n",
       "2       256125             0       7840.0            1478             2.0   \n",
       "\n",
       "   numOfBedrooms  numOfStories  \n",
       "0              4             2  \n",
       "1              4             1  \n",
       "2              3             1  "
      ]
     },
     "execution_count": 10,
     "metadata": {},
     "output_type": "execute_result"
    }
   ],
   "source": [
    "df_houses = df[['latestPrice', 'garageSpaces', 'lotSizeSqFt', 'livingAreaSqFt', 'numOfBathrooms', 'numOfBedrooms', 'numOfStories']]\n",
    "df_houses.head(3)"
   ]
  },
  {
   "cell_type": "markdown",
   "metadata": {},
   "source": [
    "### Creating testing and training data\n",
    "In this next step we will be creating the testing and training data for our algorithm. "
   ]
  },
  {
   "cell_type": "code",
   "execution_count": 11,
   "metadata": {},
   "outputs": [],
   "source": [
    "# Independent values\n",
    "X = df[['garageSpaces', 'lotSizeSqFt', 'livingAreaSqFt', 'numOfBathrooms', 'numOfBedrooms', 'numOfStories']]\n",
    "\n",
    "# Dependent values\n",
    "y = df['latestPrice']"
   ]
  },
  {
   "cell_type": "code",
   "execution_count": 12,
   "metadata": {},
   "outputs": [],
   "source": [
    "# importing train_test_split to create testing and trainin data\n",
    "from sklearn.model_selection import train_test_split\n",
    "X_train, X_test, y_train, y_test = train_test_split(X, y, test_size=0.2, random_state=42)"
   ]
  },
  {
   "cell_type": "code",
   "execution_count": 13,
   "metadata": {},
   "outputs": [
    {
     "name": "stdout",
     "output_type": "stream",
     "text": [
      "(15171, 6) (12136, 6) (3035, 6)\n"
     ]
    }
   ],
   "source": [
    "# Comparing size of X sets\n",
    "print(X.shape, X_train.shape, X_test.shape)"
   ]
  },
  {
   "cell_type": "markdown",
   "metadata": {},
   "source": [
    "### Linear regression with StatsModels"
   ]
  },
  {
   "cell_type": "code",
   "execution_count": 14,
   "metadata": {},
   "outputs": [],
   "source": [
    "import statsmodels.api as sm"
   ]
  },
  {
   "cell_type": "code",
   "execution_count": 15,
   "metadata": {},
   "outputs": [],
   "source": [
    "# Creating the model\n",
    "model = sm.OLS(endog=y_train, exog=sm.add_constant(X_train))"
   ]
  },
  {
   "cell_type": "code",
   "execution_count": 16,
   "metadata": {},
   "outputs": [],
   "source": [
    "# Get model results\n",
    "results = model.fit()"
   ]
  },
  {
   "cell_type": "code",
   "execution_count": 17,
   "metadata": {
    "scrolled": false
   },
   "outputs": [
    {
     "name": "stdout",
     "output_type": "stream",
     "text": [
      "                            OLS Regression Results                            \n",
      "==============================================================================\n",
      "Dep. Variable:            latestPrice   R-squared:                       0.325\n",
      "Model:                            OLS   Adj. R-squared:                  0.324\n",
      "Method:                 Least Squares   F-statistic:                     972.4\n",
      "Date:                Wed, 26 Jul 2023   Prob (F-statistic):               0.00\n",
      "Time:                        10:13:16   Log-Likelihood:            -1.7266e+05\n",
      "No. Observations:               12136   AIC:                         3.453e+05\n",
      "Df Residuals:                   12129   BIC:                         3.454e+05\n",
      "Df Model:                           6                                         \n",
      "Covariance Type:            nonrobust                                         \n",
      "==================================================================================\n",
      "                     coef    std err          t      P>|t|      [0.025      0.975]\n",
      "----------------------------------------------------------------------------------\n",
      "const           8.464e+04   1.51e+04      5.592      0.000     5.5e+04    1.14e+05\n",
      "garageSpaces    1.505e+04   2526.438      5.958      0.000    1.01e+04       2e+04\n",
      "lotSizeSqFt        0.0005      0.000      2.256      0.024    7.16e-05       0.001\n",
      "livingAreaSqFt    84.9357      2.775     30.603      0.000      79.495      90.376\n",
      "numOfBathrooms  1.992e+05   4683.980     42.539      0.000     1.9e+05    2.08e+05\n",
      "numOfBedrooms  -4.635e+04   5063.615     -9.153      0.000   -5.63e+04   -3.64e+04\n",
      "numOfStories   -1.046e+05   7610.850    -13.742      0.000    -1.2e+05   -8.97e+04\n",
      "==============================================================================\n",
      "Omnibus:                    16618.816   Durbin-Watson:                   2.013\n",
      "Prob(Omnibus):                  0.000   Jarque-Bera (JB):         22697285.822\n",
      "Skew:                           7.240   Prob(JB):                         0.00\n",
      "Kurtosis:                     214.367   Cond. No.                     6.58e+07\n",
      "==============================================================================\n",
      "\n",
      "Notes:\n",
      "[1] Standard Errors assume that the covariance matrix of the errors is correctly specified.\n",
      "[2] The condition number is large, 6.58e+07. This might indicate that there are\n",
      "strong multicollinearity or other numerical problems.\n"
     ]
    }
   ],
   "source": [
    "# Displey results summary\n",
    "print(results.summary())"
   ]
  },
  {
   "cell_type": "markdown",
   "metadata": {},
   "source": [
    "#### Coeffincient of determination is 0.32 that's not a good number, the better is close to 1\n",
    "this model is explainin only the 32% of data"
   ]
  },
  {
   "cell_type": "markdown",
   "metadata": {},
   "source": [
    "### Evaluation"
   ]
  },
  {
   "cell_type": "code",
   "execution_count": 18,
   "metadata": {},
   "outputs": [
    {
     "data": {
      "text/plain": [
       "(12136,)"
      ]
     },
     "execution_count": 18,
     "metadata": {},
     "output_type": "execute_result"
    }
   ],
   "source": [
    "# Get prediction with X_train using the model\n",
    "y_train_pred = results.predict(sm.add_constant(X_train))\n",
    "y_train_pred.shape"
   ]
  },
  {
   "cell_type": "code",
   "execution_count": 19,
   "metadata": {},
   "outputs": [
    {
     "data": {
      "text/plain": [
       "365204.1086243755"
      ]
     },
     "execution_count": 19,
     "metadata": {},
     "output_type": "execute_result"
    }
   ],
   "source": [
    "# RMSE\n",
    "from sklearn.metrics import mean_squared_error\n",
    "RMSE_train=mean_squared_error(y_train, y_train_pred, squared=False)\n",
    "RMSE_train"
   ]
  },
  {
   "cell_type": "markdown",
   "metadata": {},
   "source": [
    "Our model is off by about 365204 dollars in a given prediction\n",
    "\n",
    "it's a bad number"
   ]
  },
  {
   "cell_type": "code",
   "execution_count": 20,
   "metadata": {},
   "outputs": [],
   "source": [
    "# Get prediction with X_train using the model\n",
    "y_test_pred = results.predict(sm.add_constant(X_test))"
   ]
  },
  {
   "cell_type": "code",
   "execution_count": 21,
   "metadata": {},
   "outputs": [
    {
     "data": {
      "text/plain": [
       "405801.72456635174"
      ]
     },
     "execution_count": 21,
     "metadata": {},
     "output_type": "execute_result"
    }
   ],
   "source": [
    "RMSE_test=mean_squared_error(y_test, y_test_pred, squared=False)\n",
    "RMSE_test"
   ]
  },
  {
   "cell_type": "code",
   "execution_count": 22,
   "metadata": {},
   "outputs": [
    {
     "data": {
      "text/plain": [
       "10.004298524201621"
      ]
     },
     "execution_count": 22,
     "metadata": {},
     "output_type": "execute_result"
    }
   ],
   "source": [
    "# as long as the difference is small the model is consistent\n",
    "diff = (RMSE_test - RMSE_train)/ RMSE_test *100\n",
    "diff"
   ]
  },
  {
   "cell_type": "markdown",
   "metadata": {},
   "source": [
    "## Correlations and checkin data"
   ]
  },
  {
   "cell_type": "code",
   "execution_count": 23,
   "metadata": {},
   "outputs": [],
   "source": [
    "import numpy as np"
   ]
  },
  {
   "cell_type": "code",
   "execution_count": 24,
   "metadata": {},
   "outputs": [
    {
     "data": {
      "text/plain": [
       "Index(['latestPrice', 'garageSpaces', 'lotSizeSqFt', 'livingAreaSqFt',\n",
       "       'numOfBathrooms', 'numOfBedrooms', 'numOfStories'],\n",
       "      dtype='object')"
      ]
     },
     "execution_count": 24,
     "metadata": {},
     "output_type": "execute_result"
    }
   ],
   "source": [
    "df_houses.columns"
   ]
  },
  {
   "cell_type": "code",
   "execution_count": 25,
   "metadata": {},
   "outputs": [
    {
     "data": {
      "text/plain": [
       "array([[1.        , 0.02093965],\n",
       "       [0.02093965, 1.        ]])"
      ]
     },
     "execution_count": 25,
     "metadata": {},
     "output_type": "execute_result"
    }
   ],
   "source": [
    "np.corrcoef(df_houses['latestPrice'], df_houses['lotSizeSqFt'])"
   ]
  },
  {
   "cell_type": "code",
   "execution_count": 26,
   "metadata": {},
   "outputs": [
    {
     "data": {
      "text/plain": [
       "array([[1.        , 0.29983879],\n",
       "       [0.29983879, 1.        ]])"
      ]
     },
     "execution_count": 26,
     "metadata": {},
     "output_type": "execute_result"
    }
   ],
   "source": [
    "np.corrcoef(df_houses['latestPrice'], df_houses['numOfBedrooms'])"
   ]
  },
  {
   "cell_type": "markdown",
   "metadata": {},
   "source": [
    "I don't see any reation, so I will plot data"
   ]
  },
  {
   "cell_type": "markdown",
   "metadata": {},
   "source": [
    "### Plot"
   ]
  },
  {
   "cell_type": "markdown",
   "metadata": {},
   "source": [
    "The data doenst have order, and there are outliers, so lets check in  a scatter"
   ]
  },
  {
   "cell_type": "code",
   "execution_count": 27,
   "metadata": {},
   "outputs": [
    {
     "data": {
      "text/plain": [
       "(15171,)"
      ]
     },
     "execution_count": 27,
     "metadata": {},
     "output_type": "execute_result"
    }
   ],
   "source": [
    "# Getting serires of number of houses, x\n",
    "x_houses = len(df_houses[['latestPrice']])\n",
    "x=range(x_houses)\n",
    "len(x)\n",
    "\n",
    "# Setting prices in y\n",
    "y=df_houses['latestPrice'].values\n",
    "y.shape"
   ]
  },
  {
   "cell_type": "code",
   "execution_count": 28,
   "metadata": {},
   "outputs": [
    {
     "data": {
      "image/png": "[encoded data removed]",
      "text/plain": [
       "<Figure size 640x480 with 1 Axes>"
      ]
     },
     "metadata": {},
     "output_type": "display_data"
    }
   ],
   "source": [
    "# Plotting data in scatter\n",
    "import matplotlib.pyplot as plt\n",
    "plt.scatter(x, y)\n",
    "plt.show()"
   ]
  },
  {
   "cell_type": "markdown",
   "metadata": {},
   "source": [
    "I can see outliers\n",
    "\n",
    "the data it's in disorder"
   ]
  },
  {
   "cell_type": "code",
   "execution_count": 29,
   "metadata": {},
   "outputs": [
    {
     "data": {
      "text/html": [
       "<div>\n",
       "<style scoped>\n",
       "    .dataframe tbody tr th:only-of-type {\n",
       "        vertical-align: middle;\n",
       "    }\n",
       "\n",
       "    .dataframe tbody tr th {\n",
       "        vertical-align: top;\n",
       "    }\n",
       "\n",
       "    .dataframe thead th {\n",
       "        text-align: right;\n",
       "    }\n",
       "</style>\n",
       "<table border=\"1\" class=\"dataframe\">\n",
       "  <thead>\n",
       "    <tr style=\"text-align: right;\">\n",
       "      <th></th>\n",
       "      <th>latestPrice</th>\n",
       "      <th>garageSpaces</th>\n",
       "      <th>lotSizeSqFt</th>\n",
       "      <th>livingAreaSqFt</th>\n",
       "      <th>numOfBathrooms</th>\n",
       "      <th>numOfBedrooms</th>\n",
       "      <th>numOfStories</th>\n",
       "    </tr>\n",
       "  </thead>\n",
       "  <tbody>\n",
       "    <tr>\n",
       "      <th>2316</th>\n",
       "      <td>13500000</td>\n",
       "      <td>5</td>\n",
       "      <td>710899.2</td>\n",
       "      <td>15394</td>\n",
       "      <td>13.0</td>\n",
       "      <td>6</td>\n",
       "      <td>1</td>\n",
       "    </tr>\n",
       "    <tr>\n",
       "      <th>14275</th>\n",
       "      <td>13000000</td>\n",
       "      <td>2</td>\n",
       "      <td>10454.0</td>\n",
       "      <td>4441</td>\n",
       "      <td>4.0</td>\n",
       "      <td>5</td>\n",
       "      <td>2</td>\n",
       "    </tr>\n",
       "    <tr>\n",
       "      <th>1399</th>\n",
       "      <td>12720000</td>\n",
       "      <td>0</td>\n",
       "      <td>466963.2</td>\n",
       "      <td>11683</td>\n",
       "      <td>0.0</td>\n",
       "      <td>0</td>\n",
       "      <td>2</td>\n",
       "    </tr>\n",
       "    <tr>\n",
       "      <th>290</th>\n",
       "      <td>8999000</td>\n",
       "      <td>3</td>\n",
       "      <td>87120.0</td>\n",
       "      <td>7745</td>\n",
       "      <td>8.0</td>\n",
       "      <td>7</td>\n",
       "      <td>2</td>\n",
       "    </tr>\n",
       "    <tr>\n",
       "      <th>14639</th>\n",
       "      <td>8799000</td>\n",
       "      <td>0</td>\n",
       "      <td>26136.0</td>\n",
       "      <td>6596</td>\n",
       "      <td>6.0</td>\n",
       "      <td>5</td>\n",
       "      <td>2</td>\n",
       "    </tr>\n",
       "    <tr>\n",
       "      <th>1298</th>\n",
       "      <td>8750000</td>\n",
       "      <td>0</td>\n",
       "      <td>204296.4</td>\n",
       "      <td>9210</td>\n",
       "      <td>7.0</td>\n",
       "      <td>6</td>\n",
       "      <td>2</td>\n",
       "    </tr>\n",
       "    <tr>\n",
       "      <th>14376</th>\n",
       "      <td>8750000</td>\n",
       "      <td>2</td>\n",
       "      <td>79714.8</td>\n",
       "      <td>6046</td>\n",
       "      <td>7.0</td>\n",
       "      <td>5</td>\n",
       "      <td>2</td>\n",
       "    </tr>\n",
       "    <tr>\n",
       "      <th>14395</th>\n",
       "      <td>6499000</td>\n",
       "      <td>0</td>\n",
       "      <td>48787.2</td>\n",
       "      <td>7904</td>\n",
       "      <td>8.0</td>\n",
       "      <td>5</td>\n",
       "      <td>2</td>\n",
       "    </tr>\n",
       "    <tr>\n",
       "      <th>14627</th>\n",
       "      <td>6250000</td>\n",
       "      <td>4</td>\n",
       "      <td>37026.0</td>\n",
       "      <td>5775</td>\n",
       "      <td>7.0</td>\n",
       "      <td>5</td>\n",
       "      <td>1</td>\n",
       "    </tr>\n",
       "    <tr>\n",
       "      <th>1360</th>\n",
       "      <td>6200000</td>\n",
       "      <td>0</td>\n",
       "      <td>257004.0</td>\n",
       "      <td>11622</td>\n",
       "      <td>8.0</td>\n",
       "      <td>5</td>\n",
       "      <td>2</td>\n",
       "    </tr>\n",
       "  </tbody>\n",
       "</table>\n",
       "</div>"
      ],
      "text/plain": [
       "       latestPrice  garageSpaces  lotSizeSqFt  livingAreaSqFt  numOfBathrooms  \\\n",
       "2316      13500000             5     710899.2           15394            13.0   \n",
       "14275     13000000             2      10454.0            4441             4.0   \n",
       "1399      12720000             0     466963.2           11683             0.0   \n",
       "290        8999000             3      87120.0            7745             8.0   \n",
       "14639      8799000             0      26136.0            6596             6.0   \n",
       "1298       8750000             0     204296.4            9210             7.0   \n",
       "14376      8750000             2      79714.8            6046             7.0   \n",
       "14395      6499000             0      48787.2            7904             8.0   \n",
       "14627      6250000             4      37026.0            5775             7.0   \n",
       "1360       6200000             0     257004.0           11622             8.0   \n",
       "\n",
       "       numOfBedrooms  numOfStories  \n",
       "2316               6             1  \n",
       "14275              5             2  \n",
       "1399               0             2  \n",
       "290                7             2  \n",
       "14639              5             2  \n",
       "1298               6             2  \n",
       "14376              5             2  \n",
       "14395              5             2  \n",
       "14627              5             1  \n",
       "1360               5             2  "
      ]
     },
     "execution_count": 29,
     "metadata": {},
     "output_type": "execute_result"
    }
   ],
   "source": [
    "# order prices\n",
    "df_houses= df_houses.sort_values(by='latestPrice', ascending= False)\n",
    "df_houses.head(10)"
   ]
  },
  {
   "cell_type": "code",
   "execution_count": 30,
   "metadata": {},
   "outputs": [
    {
     "name": "stdout",
     "output_type": "stream",
     "text": [
      "mean 512767.7437215741\n",
      "median 405000.0\n",
      "std desv 453170.37797141203\n"
     ]
    }
   ],
   "source": [
    "print('mean', np.mean(df_houses['latestPrice']))\n",
    "print('median', np.median(df_houses['latestPrice']))\n",
    "print('std desv', np.std(df_houses['latestPrice']))"
   ]
  },
  {
   "cell_type": "markdown",
   "metadata": {},
   "source": [
    "I will delete outliers above 7000000"
   ]
  },
  {
   "cell_type": "code",
   "execution_count": 82,
   "metadata": {},
   "outputs": [],
   "source": [
    "# prices below 1 000 000\n",
    "df_houses = df_houses[df_houses['latestPrice']<2000000]\n",
    "df_houses = df_houses.sort_values(by='latestPrice')"
   ]
  },
  {
   "cell_type": "code",
   "execution_count": 83,
   "metadata": {},
   "outputs": [
    {
     "data": {
      "text/html": [
       "<div>\n",
       "<style scoped>\n",
       "    .dataframe tbody tr th:only-of-type {\n",
       "        vertical-align: middle;\n",
       "    }\n",
       "\n",
       "    .dataframe tbody tr th {\n",
       "        vertical-align: top;\n",
       "    }\n",
       "\n",
       "    .dataframe thead th {\n",
       "        text-align: right;\n",
       "    }\n",
       "</style>\n",
       "<table border=\"1\" class=\"dataframe\">\n",
       "  <thead>\n",
       "    <tr style=\"text-align: right;\">\n",
       "      <th></th>\n",
       "      <th>latestPrice</th>\n",
       "      <th>garageSpaces</th>\n",
       "      <th>lotSizeSqFt</th>\n",
       "      <th>livingAreaSqFt</th>\n",
       "      <th>numOfBathrooms</th>\n",
       "      <th>numOfBedrooms</th>\n",
       "      <th>numOfStories</th>\n",
       "    </tr>\n",
       "  </thead>\n",
       "  <tbody>\n",
       "    <tr>\n",
       "      <th>8896</th>\n",
       "      <td>99950</td>\n",
       "      <td>0</td>\n",
       "      <td>5009.0</td>\n",
       "      <td>1118</td>\n",
       "      <td>2.0</td>\n",
       "      <td>3</td>\n",
       "      <td>1</td>\n",
       "    </tr>\n",
       "    <tr>\n",
       "      <th>4379</th>\n",
       "      <td>99900</td>\n",
       "      <td>2</td>\n",
       "      <td>3615.0</td>\n",
       "      <td>2021</td>\n",
       "      <td>3.0</td>\n",
       "      <td>4</td>\n",
       "      <td>2</td>\n",
       "    </tr>\n",
       "    <tr>\n",
       "      <th>11425</th>\n",
       "      <td>99900</td>\n",
       "      <td>1</td>\n",
       "      <td>10759.0</td>\n",
       "      <td>2251</td>\n",
       "      <td>4.0</td>\n",
       "      <td>4</td>\n",
       "      <td>1</td>\n",
       "    </tr>\n",
       "  </tbody>\n",
       "</table>\n",
       "</div>"
      ],
      "text/plain": [
       "       latestPrice  garageSpaces  lotSizeSqFt  livingAreaSqFt  numOfBathrooms  \\\n",
       "8896         99950             0       5009.0            1118             2.0   \n",
       "4379         99900             2       3615.0            2021             3.0   \n",
       "11425        99900             1      10759.0            2251             4.0   \n",
       "\n",
       "       numOfBedrooms  numOfStories  \n",
       "8896               3             1  \n",
       "4379               4             2  \n",
       "11425              4             1  "
      ]
     },
     "execution_count": 83,
     "metadata": {},
     "output_type": "execute_result"
    }
   ],
   "source": [
    "# order prices\n",
    "df_houses= df_houses.sort_values(by='latestPrice', ascending= False)\n",
    "df_houses.head(3)"
   ]
  },
  {
   "cell_type": "code",
   "execution_count": 84,
   "metadata": {},
   "outputs": [
    {
     "name": "stdout",
     "output_type": "stream",
     "text": [
      "mean 66845.7\n",
      "median 78250.0\n",
      "std desv 32315.06638824477\n"
     ]
    }
   ],
   "source": [
    "print('mean', np.mean(df_houses['latestPrice']))\n",
    "print('median', np.median(df_houses['latestPrice']))\n",
    "print('std desv', np.std(df_houses['latestPrice']))"
   ]
  },
  {
   "cell_type": "code",
   "execution_count": 81,
   "metadata": {},
   "outputs": [
    {
     "data": {
      "image/png": "[encoded data removed]",
      "text/plain": [
       "<Figure size 640x480 with 1 Axes>"
      ]
     },
     "metadata": {},
     "output_type": "display_data"
    }
   ],
   "source": [
    "# plotting in scatter\n",
    "\n",
    "# Getting serires of number of houses\n",
    "x_houses = len(df_houses[['latestPrice']])\n",
    "x=range(x_houses)\n",
    "len(x)\n",
    "\n",
    "# Setting prices in y\n",
    "y=df_houses['latestPrice'].values\n",
    "y.shape\n",
    "\n",
    "# Plotting data in scatter\n",
    "plt.scatter(x, y)\n",
    "plt.show()"
   ]
  },
  {
   "cell_type": "code",
   "execution_count": 34,
   "metadata": {},
   "outputs": [],
   "source": [
    "# Independent values\n",
    "X = df_houses[['garageSpaces', 'lotSizeSqFt', 'livingAreaSqFt', 'numOfBathrooms', 'numOfBedrooms', 'numOfStories']]\n",
    "\n",
    "# Dependent values\n",
    "y = df_houses['latestPrice']"
   ]
  },
  {
   "cell_type": "code",
   "execution_count": 35,
   "metadata": {},
   "outputs": [],
   "source": [
    "# importing train_test_split to create testing and trainin data\n",
    "from sklearn.model_selection import train_test_split\n",
    "X_train, X_test, y_train, y_test = train_test_split(X, y, test_size=0.2, random_state=42)"
   ]
  },
  {
   "cell_type": "code",
   "execution_count": 36,
   "metadata": {},
   "outputs": [],
   "source": [
    "# Creating the model\n",
    "model = sm.OLS(endog=y_train, exog=sm.add_constant(X_train))"
   ]
  },
  {
   "cell_type": "code",
   "execution_count": 37,
   "metadata": {},
   "outputs": [],
   "source": [
    "# Get model results\n",
    "results = model.fit()"
   ]
  },
  {
   "cell_type": "code",
   "execution_count": 38,
   "metadata": {},
   "outputs": [
    {
     "name": "stdout",
     "output_type": "stream",
     "text": [
      "                            OLS Regression Results                            \n",
      "==============================================================================\n",
      "Dep. Variable:            latestPrice   R-squared:                       0.207\n",
      "Model:                            OLS   Adj. R-squared:                  0.206\n",
      "Method:                 Least Squares   F-statistic:                     493.6\n",
      "Date:                Wed, 26 Jul 2023   Prob (F-statistic):               0.00\n",
      "Time:                        10:13:18   Log-Likelihood:            -1.5248e+05\n",
      "No. Observations:               11374   AIC:                         3.050e+05\n",
      "Df Residuals:                   11367   BIC:                         3.050e+05\n",
      "Df Model:                           6                                         \n",
      "Covariance Type:            nonrobust                                         \n",
      "==================================================================================\n",
      "                     coef    std err          t      P>|t|      [0.025      0.975]\n",
      "----------------------------------------------------------------------------------\n",
      "const           2.033e+05   6923.091     29.371      0.000     1.9e+05    2.17e+05\n",
      "garageSpaces    1.064e+04   1166.770      9.122      0.000    8355.990    1.29e+04\n",
      "lotSizeSqFt       -0.0010      0.003     -0.289      0.773      -0.008       0.006\n",
      "livingAreaSqFt    27.7217      1.286     21.559      0.000      25.201      30.242\n",
      "numOfBathrooms  6.105e+04   2366.076     25.803      0.000    5.64e+04    6.57e+04\n",
      "numOfBedrooms   7732.1316   2300.545      3.361      0.001    3222.666    1.22e+04\n",
      "numOfStories   -1.776e+04   3579.552     -4.962      0.000   -2.48e+04   -1.07e+04\n",
      "==============================================================================\n",
      "Omnibus:                     2057.392   Durbin-Watson:                   1.995\n",
      "Prob(Omnibus):                  0.000   Jarque-Bera (JB):            44052.357\n",
      "Skew:                           0.249   Prob(JB):                         0.00\n",
      "Kurtosis:                      12.628   Cond. No.                     2.08e+06\n",
      "==============================================================================\n",
      "\n",
      "Notes:\n",
      "[1] Standard Errors assume that the covariance matrix of the errors is correctly specified.\n",
      "[2] The condition number is large, 2.08e+06. This might indicate that there are\n",
      "strong multicollinearity or other numerical problems.\n"
     ]
    }
   ],
   "source": [
    "# Displey results summary\n",
    "print(results.summary())"
   ]
  },
  {
   "cell_type": "markdown",
   "metadata": {},
   "source": [
    "Adding more features:"
   ]
  },
  {
   "cell_type": "code",
   "execution_count": 39,
   "metadata": {},
   "outputs": [],
   "source": [
    "# prices below 1 000 000\n",
    "df = df[df['latestPrice']<1000000]\n",
    "df = df.sort_values(by='latestPrice')"
   ]
  },
  {
   "cell_type": "code",
   "execution_count": 40,
   "metadata": {},
   "outputs": [],
   "source": [
    "# Independent values\n",
    "X = df[['numOfBathrooms', 'livingAreaSqFt', 'numOfBedrooms', 'avgSchoolRating', 'numOfStories','MedianStudentsPerTeacher',\n",
    "        'hasSpa_int','garageSpaces','parkingSpaces','numOfElementarySchools','numOfPhotos','hasView_int','numOfMiddleSchools']]\n",
    "\n",
    "# Dependent values\n",
    "y = df['latestPrice']"
   ]
  },
  {
   "cell_type": "code",
   "execution_count": 41,
   "metadata": {},
   "outputs": [],
   "source": [
    "# importing train_test_split to create testing and trainin data\n",
    "from sklearn.model_selection import train_test_split\n",
    "X_train, X_test, y_train, y_test = train_test_split(X, y, test_size=0.2, random_state=42)"
   ]
  },
  {
   "cell_type": "code",
   "execution_count": 42,
   "metadata": {},
   "outputs": [],
   "source": [
    "# Creating the model\n",
    "model = sm.OLS(endog=y_train, exog=sm.add_constant(X_train))"
   ]
  },
  {
   "cell_type": "code",
   "execution_count": 43,
   "metadata": {},
   "outputs": [],
   "source": [
    "# Get model results\n",
    "results = model.fit()"
   ]
  },
  {
   "cell_type": "code",
   "execution_count": 44,
   "metadata": {},
   "outputs": [
    {
     "name": "stdout",
     "output_type": "stream",
     "text": [
      "                            OLS Regression Results                            \n",
      "==============================================================================\n",
      "Dep. Variable:            latestPrice   R-squared:                       0.321\n",
      "Model:                            OLS   Adj. R-squared:                  0.320\n",
      "Method:                 Least Squares   F-statistic:                     412.2\n",
      "Date:                Wed, 26 Jul 2023   Prob (F-statistic):               0.00\n",
      "Time:                        10:13:18   Log-Likelihood:            -1.5160e+05\n",
      "No. Observations:               11374   AIC:                         3.032e+05\n",
      "Df Residuals:                   11360   BIC:                         3.033e+05\n",
      "Df Model:                          13                                         \n",
      "Covariance Type:            nonrobust                                         \n",
      "============================================================================================\n",
      "                               coef    std err          t      P>|t|      [0.025      0.975]\n",
      "--------------------------------------------------------------------------------------------\n",
      "const                     7.275e+04   1.72e+04      4.221      0.000     3.9e+04    1.07e+05\n",
      "numOfBathrooms            4.783e+04   2234.955     21.401      0.000    4.34e+04    5.22e+04\n",
      "livingAreaSqFt              16.5094      1.214     13.601      0.000      14.130      18.889\n",
      "numOfBedrooms            -1433.1129   2155.109     -0.665      0.506   -5657.500    2791.274\n",
      "avgSchoolRating           3.107e+04   1226.572     25.327      0.000    2.87e+04    3.35e+04\n",
      "numOfStories             -2.254e+04   3337.843     -6.753      0.000   -2.91e+04    -1.6e+04\n",
      "MedianStudentsPerTeacher  1954.6880   1241.792      1.574      0.115    -479.440    4388.816\n",
      "hasSpa_int                4.957e+04   5734.805      8.643      0.000    3.83e+04    6.08e+04\n",
      "garageSpaces              2.212e+04   1.39e+04      1.588      0.112   -5177.513    4.94e+04\n",
      "parkingSpaces            -1.701e+04   1.39e+04     -1.222      0.222   -4.43e+04    1.03e+04\n",
      "numOfElementarySchools     3.49e+04   6940.941      5.029      0.000    2.13e+04    4.85e+04\n",
      "numOfPhotos                560.3076     71.263      7.863      0.000     420.620     699.995\n",
      "hasView_int               1.447e+04   3514.279      4.117      0.000    7578.279    2.14e+04\n",
      "numOfMiddleSchools        1153.3470   6641.228      0.174      0.862   -1.19e+04    1.42e+04\n",
      "==============================================================================\n",
      "Omnibus:                     1676.324   Durbin-Watson:                   1.984\n",
      "Prob(Omnibus):                  0.000   Jarque-Bera (JB):             5681.701\n",
      "Skew:                           0.740   Prob(JB):                         0.00\n",
      "Kurtosis:                       6.130   Cond. No.                     3.51e+04\n",
      "==============================================================================\n",
      "\n",
      "Notes:\n",
      "[1] Standard Errors assume that the covariance matrix of the errors is correctly specified.\n",
      "[2] The condition number is large, 3.51e+04. This might indicate that there are\n",
      "strong multicollinearity or other numerical problems.\n"
     ]
    }
   ],
   "source": [
    "# Displey results summary\n",
    "print(results.summary())"
   ]
  },
  {
   "cell_type": "code",
   "execution_count": 45,
   "metadata": {},
   "outputs": [
    {
     "data": {
      "image/png": "[encoded data removed]",
      "text/plain": [
       "<Figure size 640x480 with 1 Axes>"
      ]
     },
     "metadata": {},
     "output_type": "display_data"
    }
   ],
   "source": [
    "import matplotlib.pyplot as plt\n",
    "plt.scatter(df['numOfBathrooms'],df['latestPrice'])\n",
    "plt.show()"
   ]
  },
  {
   "cell_type": "code",
   "execution_count": null,
   "metadata": {},
   "outputs": [],
   "source": []
  }
 ],
 "metadata": {
  "kernelspec": {
   "display_name": "Python 3 (ipykernel)",
   "language": "python",
   "name": "python3"
  },
  "language_info": {
   "codemirror_mode": {
    "name": "ipython",
    "version": 3
   },
   "file_extension": ".py",
   "mimetype": "text/x-python",
   "name": "python",
   "nbconvert_exporter": "python",
   "pygments_lexer": "ipython3",
   "version": "3.9.13"
  }
 },
 "nbformat": 4,
 "nbformat_minor": 4
}
