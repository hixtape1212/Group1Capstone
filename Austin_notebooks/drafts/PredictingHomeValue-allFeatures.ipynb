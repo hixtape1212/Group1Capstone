{
 "cells": [
  {
   "cell_type": "markdown",
   "metadata": {},
   "source": [
    "# Predicting Home Value\n",
    "Due to our dataset find, our team has changed our scope from predicting home features to predicting home price using different statistical approaches. Together we will trial and error multiple algorithms and explore there utility in predicting home prices. Across these different algorithms we will use similar metrics such as MSE to determine the relative success of the model."
   ]
  },
  {
   "cell_type": "markdown",
   "metadata": {},
   "source": [
    "## Our Scope\n",
    "A real estate investment firm has tasked our Group1 consulting team to develop a model to predict home prices based on a set of given parameters. Obviously we know location is the biggest idicator of home prices, but our team will use a combination of other home features to figure out the value of a home\n",
    "\n",
    "## Our Data\n",
    "We will be using the a publically availble dataset from Kaggle. The data contained in the set Austin, TX House Listings. It was scraped in January 2021 and is highly ranked on Kaggle for being clean and usable. Below is the link to the dataset.\n",
    "https://www.kaggle.com/datasets/ericpierce/austinhousingprices?resource=download"
   ]
  },
  {
   "cell_type": "markdown",
   "metadata": {},
   "source": [
    "# Familiarizing with Dataset"
   ]
  },
  {
   "cell_type": "code",
   "execution_count": 1,
   "metadata": {},
   "outputs": [],
   "source": [
    "# import pandas for EDA\n",
    "import pandas as pd"
   ]
  },
  {
   "cell_type": "code",
   "execution_count": 71,
   "metadata": {},
   "outputs": [
    {
     "data": {
      "text/html": [
       "<div>\n",
       "<style scoped>\n",
       "    .dataframe tbody tr th:only-of-type {\n",
       "        vertical-align: middle;\n",
       "    }\n",
       "\n",
       "    .dataframe tbody tr th {\n",
       "        vertical-align: top;\n",
       "    }\n",
       "\n",
       "    .dataframe thead th {\n",
       "        text-align: right;\n",
       "    }\n",
       "</style>\n",
       "<table border=\"1\" class=\"dataframe\">\n",
       "  <thead>\n",
       "    <tr style=\"text-align: right;\">\n",
       "      <th></th>\n",
       "      <th>zpid</th>\n",
       "      <th>city</th>\n",
       "      <th>streetAddress</th>\n",
       "      <th>zipcode</th>\n",
       "      <th>description</th>\n",
       "      <th>latitude</th>\n",
       "      <th>longitude</th>\n",
       "      <th>propertyTaxRate</th>\n",
       "      <th>garageSpaces</th>\n",
       "      <th>hasAssociation</th>\n",
       "      <th>...</th>\n",
       "      <th>numOfMiddleSchools</th>\n",
       "      <th>numOfHighSchools</th>\n",
       "      <th>avgSchoolDistance</th>\n",
       "      <th>avgSchoolRating</th>\n",
       "      <th>avgSchoolSize</th>\n",
       "      <th>MedianStudentsPerTeacher</th>\n",
       "      <th>numOfBathrooms</th>\n",
       "      <th>numOfBedrooms</th>\n",
       "      <th>numOfStories</th>\n",
       "      <th>homeImage</th>\n",
       "    </tr>\n",
       "  </thead>\n",
       "  <tbody>\n",
       "    <tr>\n",
       "      <th>0</th>\n",
       "      <td>111373431</td>\n",
       "      <td>pflugerville</td>\n",
       "      <td>14424 Lake Victor Dr</td>\n",
       "      <td>78660</td>\n",
       "      <td>14424 Lake Victor Dr, Pflugerville, TX 78660 i...</td>\n",
       "      <td>30.430632</td>\n",
       "      <td>-97.663078</td>\n",
       "      <td>1.98</td>\n",
       "      <td>2</td>\n",
       "      <td>True</td>\n",
       "      <td>...</td>\n",
       "      <td>1</td>\n",
       "      <td>1</td>\n",
       "      <td>1.266667</td>\n",
       "      <td>2.666667</td>\n",
       "      <td>1063</td>\n",
       "      <td>14</td>\n",
       "      <td>3.0</td>\n",
       "      <td>4</td>\n",
       "      <td>2</td>\n",
       "      <td>111373431_ffce26843283d3365c11d81b8e6bdc6f-p_f...</td>\n",
       "    </tr>\n",
       "    <tr>\n",
       "      <th>1</th>\n",
       "      <td>120900430</td>\n",
       "      <td>pflugerville</td>\n",
       "      <td>1104 Strickling Dr</td>\n",
       "      <td>78660</td>\n",
       "      <td>Absolutely GORGEOUS 4 Bedroom home with 2 full...</td>\n",
       "      <td>30.432672</td>\n",
       "      <td>-97.661697</td>\n",
       "      <td>1.98</td>\n",
       "      <td>2</td>\n",
       "      <td>True</td>\n",
       "      <td>...</td>\n",
       "      <td>1</td>\n",
       "      <td>1</td>\n",
       "      <td>1.400000</td>\n",
       "      <td>2.666667</td>\n",
       "      <td>1063</td>\n",
       "      <td>14</td>\n",
       "      <td>2.0</td>\n",
       "      <td>4</td>\n",
       "      <td>1</td>\n",
       "      <td>120900430_8255c127be8dcf0a1a18b7563d987088-p_f...</td>\n",
       "    </tr>\n",
       "    <tr>\n",
       "      <th>2</th>\n",
       "      <td>2084491383</td>\n",
       "      <td>pflugerville</td>\n",
       "      <td>1408 Fort Dessau Rd</td>\n",
       "      <td>78660</td>\n",
       "      <td>Under construction - estimated completion in A...</td>\n",
       "      <td>30.409748</td>\n",
       "      <td>-97.639771</td>\n",
       "      <td>1.98</td>\n",
       "      <td>0</td>\n",
       "      <td>True</td>\n",
       "      <td>...</td>\n",
       "      <td>1</td>\n",
       "      <td>1</td>\n",
       "      <td>1.200000</td>\n",
       "      <td>3.000000</td>\n",
       "      <td>1108</td>\n",
       "      <td>14</td>\n",
       "      <td>2.0</td>\n",
       "      <td>3</td>\n",
       "      <td>1</td>\n",
       "      <td>2084491383_a2ad649e1a7a098111dcea084a11c855-p_...</td>\n",
       "    </tr>\n",
       "  </tbody>\n",
       "</table>\n",
       "<p>3 rows × 47 columns</p>\n",
       "</div>"
      ],
      "text/plain": [
       "         zpid          city         streetAddress  zipcode  \\\n",
       "0   111373431  pflugerville  14424 Lake Victor Dr    78660   \n",
       "1   120900430  pflugerville    1104 Strickling Dr    78660   \n",
       "2  2084491383  pflugerville   1408 Fort Dessau Rd    78660   \n",
       "\n",
       "                                         description   latitude  longitude  \\\n",
       "0  14424 Lake Victor Dr, Pflugerville, TX 78660 i...  30.430632 -97.663078   \n",
       "1  Absolutely GORGEOUS 4 Bedroom home with 2 full...  30.432672 -97.661697   \n",
       "2  Under construction - estimated completion in A...  30.409748 -97.639771   \n",
       "\n",
       "   propertyTaxRate  garageSpaces  hasAssociation  ...  numOfMiddleSchools  \\\n",
       "0             1.98             2            True  ...                   1   \n",
       "1             1.98             2            True  ...                   1   \n",
       "2             1.98             0            True  ...                   1   \n",
       "\n",
       "   numOfHighSchools  avgSchoolDistance  avgSchoolRating  avgSchoolSize  \\\n",
       "0                 1           1.266667         2.666667           1063   \n",
       "1                 1           1.400000         2.666667           1063   \n",
       "2                 1           1.200000         3.000000           1108   \n",
       "\n",
       "  MedianStudentsPerTeacher  numOfBathrooms  numOfBedrooms  numOfStories  \\\n",
       "0                       14             3.0              4             2   \n",
       "1                       14             2.0              4             1   \n",
       "2                       14             2.0              3             1   \n",
       "\n",
       "                                           homeImage  \n",
       "0  111373431_ffce26843283d3365c11d81b8e6bdc6f-p_f...  \n",
       "1  120900430_8255c127be8dcf0a1a18b7563d987088-p_f...  \n",
       "2  2084491383_a2ad649e1a7a098111dcea084a11c855-p_...  \n",
       "\n",
       "[3 rows x 47 columns]"
      ]
     },
     "execution_count": 71,
     "metadata": {},
     "output_type": "execute_result"
    }
   ],
   "source": [
    "file_path = 'austinHousingData.csv'\n",
    "df = pd.read_csv(file_path)\n",
    "df.head(3)"
   ]
  },
  {
   "cell_type": "code",
   "execution_count": 72,
   "metadata": {},
   "outputs": [
    {
     "name": "stdout",
     "output_type": "stream",
     "text": [
      "<class 'pandas.core.frame.DataFrame'>\n",
      "RangeIndex: 15171 entries, 0 to 15170\n",
      "Data columns (total 47 columns):\n",
      " #   Column                      Non-Null Count  Dtype  \n",
      "---  ------                      --------------  -----  \n",
      " 0   zpid                        15171 non-null  int64  \n",
      " 1   city                        15171 non-null  object \n",
      " 2   streetAddress               15171 non-null  object \n",
      " 3   zipcode                     15171 non-null  int64  \n",
      " 4   description                 15171 non-null  object \n",
      " 5   latitude                    15171 non-null  float64\n",
      " 6   longitude                   15171 non-null  float64\n",
      " 7   propertyTaxRate             15171 non-null  float64\n",
      " 8   garageSpaces                15171 non-null  int64  \n",
      " 9   hasAssociation              15171 non-null  bool   \n",
      " 10  hasCooling                  15171 non-null  bool   \n",
      " 11  hasGarage                   15171 non-null  bool   \n",
      " 12  hasHeating                  15171 non-null  bool   \n",
      " 13  hasSpa                      15171 non-null  bool   \n",
      " 14  hasView                     15171 non-null  bool   \n",
      " 15  homeType                    15171 non-null  object \n",
      " 16  parkingSpaces               15171 non-null  int64  \n",
      " 17  yearBuilt                   15171 non-null  int64  \n",
      " 18  latestPrice                 15171 non-null  int64  \n",
      " 19  numPriceChanges             15171 non-null  int64  \n",
      " 20  latest_saledate             15171 non-null  object \n",
      " 21  latest_salemonth            15171 non-null  int64  \n",
      " 22  latest_saleyear             15171 non-null  int64  \n",
      " 23  latestPriceSource           15171 non-null  object \n",
      " 24  numOfPhotos                 15171 non-null  int64  \n",
      " 25  numOfAccessibilityFeatures  15171 non-null  int64  \n",
      " 26  numOfAppliances             15171 non-null  int64  \n",
      " 27  numOfParkingFeatures        15171 non-null  int64  \n",
      " 28  numOfPatioAndPorchFeatures  15171 non-null  int64  \n",
      " 29  numOfSecurityFeatures       15171 non-null  int64  \n",
      " 30  numOfWaterfrontFeatures     15171 non-null  int64  \n",
      " 31  numOfWindowFeatures         15171 non-null  int64  \n",
      " 32  numOfCommunityFeatures      15171 non-null  int64  \n",
      " 33  lotSizeSqFt                 15171 non-null  float64\n",
      " 34  livingAreaSqFt              15171 non-null  int64  \n",
      " 35  numOfPrimarySchools         15171 non-null  int64  \n",
      " 36  numOfElementarySchools      15171 non-null  int64  \n",
      " 37  numOfMiddleSchools          15171 non-null  int64  \n",
      " 38  numOfHighSchools            15171 non-null  int64  \n",
      " 39  avgSchoolDistance           15171 non-null  float64\n",
      " 40  avgSchoolRating             15171 non-null  float64\n",
      " 41  avgSchoolSize               15171 non-null  int64  \n",
      " 42  MedianStudentsPerTeacher    15171 non-null  int64  \n",
      " 43  numOfBathrooms              15171 non-null  float64\n",
      " 44  numOfBedrooms               15171 non-null  int64  \n",
      " 45  numOfStories                15171 non-null  int64  \n",
      " 46  homeImage                   15171 non-null  object \n",
      "dtypes: bool(6), float64(7), int64(27), object(7)\n",
      "memory usage: 4.8+ MB\n"
     ]
    }
   ],
   "source": [
    "df.info()"
   ]
  },
  {
   "cell_type": "markdown",
   "metadata": {},
   "source": [
    "As you can see from the initial info() method, the dataset itself is very clean and usable. There isn't much data pre-processing needed in order to clean the data since there are no null values, and the majority of features are in a usable format."
   ]
  },
  {
   "cell_type": "markdown",
   "metadata": {},
   "source": [
    "### Dropping non-int and changing booleans\n",
    "The only pre-processing we will need to do is to drop any d-type that is not an integer, like columns city, streetAddress, and description. We still have longitute and latitude so location is still within the dataset. Also we want to change the true and false values to 1's and 0's to make the entire dataset numerical."
   ]
  },
  {
   "cell_type": "code",
   "execution_count": 73,
   "metadata": {},
   "outputs": [
    {
     "data": {
      "text/plain": [
       "(15171, 40)"
      ]
     },
     "execution_count": 73,
     "metadata": {},
     "output_type": "execute_result"
    }
   ],
   "source": [
    "#Droping the columns that are strings\n",
    "col_drop_list = ['city', 'streetAddress', 'description', 'homeType','latest_saledate', 'latestPriceSource', 'homeImage' ]\n",
    "df = df.drop(col_drop_list, axis=1)\n",
    "\n",
    "df.shape"
   ]
  },
  {
   "cell_type": "code",
   "execution_count": 74,
   "metadata": {},
   "outputs": [
    {
     "data": {
      "text/plain": [
       "(15171, 46)"
      ]
     },
     "execution_count": 74,
     "metadata": {},
     "output_type": "execute_result"
    }
   ],
   "source": [
    "#Changing bool to int\n",
    "col_bool_list = ['hasAssociation', 'hasCooling', \n",
    "                 'hasGarage', 'hasHeating', 'hasSpa', 'hasView']\n",
    "\n",
    "for col in col_bool_list:\n",
    "    name = col + '_int'\n",
    "    df[name] = df[col].astype(int)\n",
    "\n",
    "df.shape"
   ]
  },
  {
   "cell_type": "code",
   "execution_count": 75,
   "metadata": {},
   "outputs": [
    {
     "data": {
      "text/plain": [
       "1    8007\n",
       "0    7164\n",
       "Name: hasAssociation_int, dtype: int64"
      ]
     },
     "execution_count": 75,
     "metadata": {},
     "output_type": "execute_result"
    }
   ],
   "source": [
    "df.hasAssociation_int.value_counts()"
   ]
  },
  {
   "cell_type": "code",
   "execution_count": 76,
   "metadata": {},
   "outputs": [
    {
     "data": {
      "text/plain": [
       "(15171, 40)"
      ]
     },
     "execution_count": 76,
     "metadata": {},
     "output_type": "execute_result"
    }
   ],
   "source": [
    "#Drop the bool columns\n",
    "df = df.drop(col_bool_list, axis=1)\n",
    "df.shape"
   ]
  },
  {
   "cell_type": "code",
   "execution_count": 77,
   "metadata": {},
   "outputs": [
    {
     "name": "stdout",
     "output_type": "stream",
     "text": [
      "<class 'pandas.core.frame.DataFrame'>\n",
      "RangeIndex: 15171 entries, 0 to 15170\n",
      "Data columns (total 40 columns):\n",
      " #   Column                      Non-Null Count  Dtype  \n",
      "---  ------                      --------------  -----  \n",
      " 0   zpid                        15171 non-null  int64  \n",
      " 1   zipcode                     15171 non-null  int64  \n",
      " 2   latitude                    15171 non-null  float64\n",
      " 3   longitude                   15171 non-null  float64\n",
      " 4   propertyTaxRate             15171 non-null  float64\n",
      " 5   garageSpaces                15171 non-null  int64  \n",
      " 6   parkingSpaces               15171 non-null  int64  \n",
      " 7   yearBuilt                   15171 non-null  int64  \n",
      " 8   latestPrice                 15171 non-null  int64  \n",
      " 9   numPriceChanges             15171 non-null  int64  \n",
      " 10  latest_salemonth            15171 non-null  int64  \n",
      " 11  latest_saleyear             15171 non-null  int64  \n",
      " 12  numOfPhotos                 15171 non-null  int64  \n",
      " 13  numOfAccessibilityFeatures  15171 non-null  int64  \n",
      " 14  numOfAppliances             15171 non-null  int64  \n",
      " 15  numOfParkingFeatures        15171 non-null  int64  \n",
      " 16  numOfPatioAndPorchFeatures  15171 non-null  int64  \n",
      " 17  numOfSecurityFeatures       15171 non-null  int64  \n",
      " 18  numOfWaterfrontFeatures     15171 non-null  int64  \n",
      " 19  numOfWindowFeatures         15171 non-null  int64  \n",
      " 20  numOfCommunityFeatures      15171 non-null  int64  \n",
      " 21  lotSizeSqFt                 15171 non-null  float64\n",
      " 22  livingAreaSqFt              15171 non-null  int64  \n",
      " 23  numOfPrimarySchools         15171 non-null  int64  \n",
      " 24  numOfElementarySchools      15171 non-null  int64  \n",
      " 25  numOfMiddleSchools          15171 non-null  int64  \n",
      " 26  numOfHighSchools            15171 non-null  int64  \n",
      " 27  avgSchoolDistance           15171 non-null  float64\n",
      " 28  avgSchoolRating             15171 non-null  float64\n",
      " 29  avgSchoolSize               15171 non-null  int64  \n",
      " 30  MedianStudentsPerTeacher    15171 non-null  int64  \n",
      " 31  numOfBathrooms              15171 non-null  float64\n",
      " 32  numOfBedrooms               15171 non-null  int64  \n",
      " 33  numOfStories                15171 non-null  int64  \n",
      " 34  hasAssociation_int          15171 non-null  int32  \n",
      " 35  hasCooling_int              15171 non-null  int32  \n",
      " 36  hasGarage_int               15171 non-null  int32  \n",
      " 37  hasHeating_int              15171 non-null  int32  \n",
      " 38  hasSpa_int                  15171 non-null  int32  \n",
      " 39  hasView_int                 15171 non-null  int32  \n",
      "dtypes: float64(7), int32(6), int64(27)\n",
      "memory usage: 4.3 MB\n"
     ]
    }
   ],
   "source": [
    "df.info()"
   ]
  },
  {
   "cell_type": "markdown",
   "metadata": {},
   "source": [
    "Now the data should be cleaned, all numeric, and ready to be used in the analysis."
   ]
  },
  {
   "cell_type": "markdown",
   "metadata": {},
   "source": [
    "## Analysis\n",
    "In this lineal regression model We will work all features."
   ]
  },
  {
   "cell_type": "markdown",
   "metadata": {},
   "source": [
    "### Creating testing and training data\n",
    "In this next step we will be creating the testing and training data for our algorithm. "
   ]
  },
  {
   "cell_type": "code",
   "execution_count": 9,
   "metadata": {},
   "outputs": [
    {
     "data": {
      "text/plain": [
       "list"
      ]
     },
     "execution_count": 9,
     "metadata": {},
     "output_type": "execute_result"
    }
   ],
   "source": [
    "# Getting column names\n",
    "column_names=df.columns.tolist()\n",
    "type(column_names)"
   ]
  },
  {
   "cell_type": "code",
   "execution_count": 10,
   "metadata": {},
   "outputs": [],
   "source": [
    "# Deleting the name of the dependent name 'latestPrice'\n",
    "column_names.remove('latestPrice')"
   ]
  },
  {
   "cell_type": "code",
   "execution_count": 11,
   "metadata": {},
   "outputs": [],
   "source": [
    "# Independent values\n",
    "X = df[column_names]\n",
    "\n",
    "# Dependent values\n",
    "y = df['latestPrice']"
   ]
  },
  {
   "cell_type": "code",
   "execution_count": 12,
   "metadata": {},
   "outputs": [],
   "source": [
    "# importing train_test_split to create testing and trainin data\n",
    "from sklearn.model_selection import train_test_split\n",
    "X_train, X_test, y_train, y_test = train_test_split(X, y, test_size=0.2, random_state=42)"
   ]
  },
  {
   "cell_type": "code",
   "execution_count": 13,
   "metadata": {},
   "outputs": [
    {
     "name": "stdout",
     "output_type": "stream",
     "text": [
      "(15171, 39) (12136, 39) (3035, 39)\n"
     ]
    }
   ],
   "source": [
    "# Comparing size of X sets\n",
    "print(X.shape, X_train.shape, X_test.shape)"
   ]
  },
  {
   "cell_type": "markdown",
   "metadata": {},
   "source": [
    "### Linear regression with StatsModels"
   ]
  },
  {
   "cell_type": "code",
   "execution_count": 14,
   "metadata": {},
   "outputs": [],
   "source": [
    "import statsmodels.api as sm"
   ]
  },
  {
   "cell_type": "code",
   "execution_count": 15,
   "metadata": {},
   "outputs": [],
   "source": [
    "# Creating the model\n",
    "model = sm.OLS(endog=y_train, exog=sm.add_constant(X_train))"
   ]
  },
  {
   "cell_type": "code",
   "execution_count": 16,
   "metadata": {},
   "outputs": [],
   "source": [
    "# Get model results\n",
    "results = model.fit()"
   ]
  },
  {
   "cell_type": "code",
   "execution_count": 17,
   "metadata": {
    "scrolled": false
   },
   "outputs": [
    {
     "name": "stdout",
     "output_type": "stream",
     "text": [
      "                            OLS Regression Results                            \n",
      "==============================================================================\n",
      "Dep. Variable:            latestPrice   R-squared:                       0.443\n",
      "Model:                            OLS   Adj. R-squared:                  0.442\n",
      "Method:                 Least Squares   F-statistic:                     247.1\n",
      "Date:                Wed, 26 Jul 2023   Prob (F-statistic):               0.00\n",
      "Time:                        10:42:32   Log-Likelihood:            -1.7149e+05\n",
      "No. Observations:               12136   AIC:                         3.431e+05\n",
      "Df Residuals:                   12096   BIC:                         3.434e+05\n",
      "Df Model:                          39                                         \n",
      "Covariance Type:            nonrobust                                         \n",
      "==============================================================================================\n",
      "                                 coef    std err          t      P>|t|      [0.025      0.975]\n",
      "----------------------------------------------------------------------------------------------\n",
      "const                       2.494e+08   1.73e+07     14.443      0.000    2.16e+08    2.83e+08\n",
      "zpid                        1.466e-05      1e-05      1.460      0.144   -5.02e-06    3.43e-05\n",
      "zipcode                    -3021.4276    171.741    -17.593      0.000   -3358.067   -2684.788\n",
      "latitude                   -1.154e+05   4.97e+04     -2.322      0.020   -2.13e+05    -1.8e+04\n",
      "longitude                   4.043e+05   6.81e+04      5.939      0.000    2.71e+05    5.38e+05\n",
      "propertyTaxRate            -1.124e+06   7.79e+04    -14.414      0.000   -1.28e+06   -9.71e+05\n",
      "garageSpaces                3.437e+04   4.12e+04      0.834      0.404   -4.64e+04    1.15e+05\n",
      "parkingSpaces              -1.953e+04   4.08e+04     -0.478      0.632   -9.96e+04    6.05e+04\n",
      "yearBuilt                   -934.8553    203.337     -4.598      0.000   -1333.429    -536.282\n",
      "numPriceChanges            -8099.5723   1254.441     -6.457      0.000   -1.06e+04   -5640.667\n",
      "latest_salemonth            -193.7741   1030.878     -0.188      0.851   -2214.460    1826.912\n",
      "latest_saleyear             1.766e+04   4934.511      3.579      0.000    7986.402    2.73e+04\n",
      "numOfPhotos                  768.5547    160.927      4.776      0.000     453.111    1083.998\n",
      "numOfAccessibilityFeatures  4508.8764   1.74e+04      0.259      0.796   -2.96e+04    3.87e+04\n",
      "numOfAppliances            -2479.9794   1708.197     -1.452      0.147   -5828.320     868.361\n",
      "numOfParkingFeatures         4.32e+04   6314.749      6.841      0.000    3.08e+04    5.56e+04\n",
      "numOfPatioAndPorchFeatures  9719.3121   4219.676      2.303      0.021    1448.072     1.8e+04\n",
      "numOfSecurityFeatures       2070.3476   4545.413      0.455      0.649   -6839.389     1.1e+04\n",
      "numOfWaterfrontFeatures     6.266e+05   4.94e+04     12.686      0.000     5.3e+05    7.23e+05\n",
      "numOfWindowFeatures        -2648.5728   6972.677     -0.380      0.704   -1.63e+04     1.1e+04\n",
      "numOfCommunityFeatures     -3.562e+04   1.81e+04     -1.963      0.050   -7.12e+04     -58.677\n",
      "lotSizeSqFt                    0.0004      0.000      1.664      0.096   -6.53e-05       0.001\n",
      "livingAreaSqFt                77.8208      2.629     29.602      0.000      72.668      82.974\n",
      "numOfPrimarySchools         1.069e+05   2.88e+04      3.719      0.000    5.06e+04    1.63e+05\n",
      "numOfElementarySchools      1.801e+05   2.49e+04      7.243      0.000    1.31e+05    2.29e+05\n",
      "numOfMiddleSchools         -5.463e+04   1.47e+04     -3.713      0.000   -8.35e+04   -2.58e+04\n",
      "numOfHighSchools           -8.948e+04   1.54e+04     -5.803      0.000    -1.2e+05   -5.93e+04\n",
      "avgSchoolDistance           2302.4137   3225.179      0.714      0.475   -4019.454    8624.282\n",
      "avgSchoolRating             5.926e+04   3503.343     16.914      0.000    5.24e+04    6.61e+04\n",
      "avgSchoolSize                -88.3410     14.784     -5.976      0.000    -117.319     -59.363\n",
      "MedianStudentsPerTeacher   -5644.9453   3449.764     -1.636      0.102   -1.24e+04    1117.145\n",
      "numOfBathrooms              1.961e+05   4513.745     43.446      0.000    1.87e+05    2.05e+05\n",
      "numOfBedrooms               -3.32e+04   4691.084     -7.077      0.000   -4.24e+04    -2.4e+04\n",
      "numOfStories               -6.967e+04   7255.485     -9.603      0.000   -8.39e+04   -5.55e+04\n",
      "hasAssociation_int         -1.594e+05   8405.177    -18.969      0.000   -1.76e+05   -1.43e+05\n",
      "hasCooling_int              -8.18e+04   3.18e+04     -2.575      0.010   -1.44e+05   -1.95e+04\n",
      "hasGarage_int              -9.422e+04   1.31e+04     -7.194      0.000    -1.2e+05   -6.85e+04\n",
      "hasHeating_int             -3.857e+04   4.22e+04     -0.913      0.361   -1.21e+05    4.42e+04\n",
      "hasSpa_int                  6.722e+04   1.21e+04      5.553      0.000    4.35e+04     9.1e+04\n",
      "hasView_int                 3.179e+04   7622.535      4.171      0.000    1.68e+04    4.67e+04\n",
      "==============================================================================\n",
      "Omnibus:                    18380.030   Durbin-Watson:                   2.006\n",
      "Prob(Omnibus):                  0.000   Jarque-Bera (JB):         40792797.893\n",
      "Skew:                           8.768   Prob(JB):                         0.00\n",
      "Kurtosis:                     286.485   Cond. No.                     1.90e+12\n",
      "==============================================================================\n",
      "\n",
      "Notes:\n",
      "[1] Standard Errors assume that the covariance matrix of the errors is correctly specified.\n",
      "[2] The condition number is large, 1.9e+12. This might indicate that there are\n",
      "strong multicollinearity or other numerical problems.\n"
     ]
    }
   ],
   "source": [
    "# Displey results summary\n",
    "print(results.summary())"
   ]
  },
  {
   "cell_type": "markdown",
   "metadata": {},
   "source": [
    "#### Coeffincient of determination is 0.44 that's not a good number, the better is close to 1\n",
    "this model is explainin only the 44% of data"
   ]
  },
  {
   "cell_type": "markdown",
   "metadata": {},
   "source": [
    "### Evaluation"
   ]
  },
  {
   "cell_type": "code",
   "execution_count": 18,
   "metadata": {},
   "outputs": [
    {
     "data": {
      "text/plain": [
       "(12136,)"
      ]
     },
     "execution_count": 18,
     "metadata": {},
     "output_type": "execute_result"
    }
   ],
   "source": [
    "# Get prediction with X_train using the model\n",
    "y_train_pred = results.predict(sm.add_constant(X_train))\n",
    "y_train_pred.shape"
   ]
  },
  {
   "cell_type": "code",
   "execution_count": 19,
   "metadata": {},
   "outputs": [
    {
     "data": {
      "text/plain": [
       "331574.1996992208"
      ]
     },
     "execution_count": 19,
     "metadata": {},
     "output_type": "execute_result"
    }
   ],
   "source": [
    "# RMSE\n",
    "from sklearn.metrics import mean_squared_error\n",
    "RMSE_train=mean_squared_error(y_train, y_train_pred, squared=False)\n",
    "RMSE_train"
   ]
  },
  {
   "cell_type": "markdown",
   "metadata": {},
   "source": [
    "Our model is off by about 331574 dollars in a given prediction\n",
    "\n",
    "it's a bad number"
   ]
  },
  {
   "cell_type": "code",
   "execution_count": 20,
   "metadata": {},
   "outputs": [],
   "source": [
    "# Get prediction with X_train using the model\n",
    "y_test_pred = results.predict(sm.add_constant(X_test))"
   ]
  },
  {
   "cell_type": "code",
   "execution_count": 21,
   "metadata": {},
   "outputs": [
    {
     "data": {
      "text/plain": [
       "375425.40475539543"
      ]
     },
     "execution_count": 21,
     "metadata": {},
     "output_type": "execute_result"
    }
   ],
   "source": [
    "RMSE_test=mean_squared_error(y_test, y_test_pred, squared=False)\n",
    "RMSE_test"
   ]
  },
  {
   "cell_type": "code",
   "execution_count": 22,
   "metadata": {},
   "outputs": [
    {
     "data": {
      "text/plain": [
       "11.680404282908201"
      ]
     },
     "execution_count": 22,
     "metadata": {},
     "output_type": "execute_result"
    }
   ],
   "source": [
    "# as long as the difference is small the model is consistent\n",
    "diff = (RMSE_test - RMSE_train)/ RMSE_test *100\n",
    "diff"
   ]
  },
  {
   "cell_type": "code",
   "execution_count": 23,
   "metadata": {},
   "outputs": [],
   "source": [
    "# Identifying highly correlated predictor\n",
    "correlated_features=df.corr()['latestPrice']"
   ]
  },
  {
   "cell_type": "code",
   "execution_count": 24,
   "metadata": {},
   "outputs": [
    {
     "data": {
      "text/plain": [
       "latestPrice                   1.000000\n",
       "numOfBathrooms                0.504738\n",
       "livingAreaSqFt                0.467034\n",
       "numOfBedrooms                 0.299839\n",
       "avgSchoolRating               0.293101\n",
       "numOfStories                  0.200555\n",
       "MedianStudentsPerTeacher      0.198208\n",
       "hasSpa_int                    0.173084\n",
       "garageSpaces                  0.157443\n",
       "parkingSpaces                 0.156811\n",
       "numOfElementarySchools        0.155988\n",
       "numOfPhotos                   0.154355\n",
       "hasView_int                   0.133969\n",
       "numOfMiddleSchools            0.127838\n",
       "numOfWaterfrontFeatures       0.123979\n",
       "numOfParkingFeatures          0.098384\n",
       "avgSchoolDistance             0.094156\n",
       "numOfPatioAndPorchFeatures    0.087936\n",
       "avgSchoolSize                 0.085167\n",
       "hasGarage_int                 0.074161\n",
       "latitude                      0.071547\n",
       "latest_saleyear               0.059942\n",
       "yearBuilt                     0.059692\n",
       "numOfSecurityFeatures         0.058349\n",
       "numOfWindowFeatures           0.056141\n",
       "numPriceChanges               0.038305\n",
       "latest_salemonth              0.033898\n",
       "numOfAppliances               0.033114\n",
       "lotSizeSqFt                   0.020940\n",
       "numOfAccessibilityFeatures    0.016270\n",
       "hasCooling_int                0.010075\n",
       "zpid                          0.007503\n",
       "hasHeating_int                0.002410\n",
       "numOfCommunityFeatures       -0.001334\n",
       "hasAssociation_int           -0.005043\n",
       "propertyTaxRate              -0.062179\n",
       "zipcode                      -0.145946\n",
       "numOfPrimarySchools          -0.170927\n",
       "longitude                    -0.184079\n",
       "numOfHighSchools             -0.201821\n",
       "Name: latestPrice, dtype: float64"
      ]
     },
     "execution_count": 24,
     "metadata": {},
     "output_type": "execute_result"
    }
   ],
   "source": [
    "# Sorting correlations in features\n",
    "correlated_features.sort_values(ascending=False)"
   ]
  },
  {
   "cell_type": "markdown",
   "metadata": {},
   "source": [
    "We can see that the features with highest correlation with latestPrice are:\n",
    "* numOfBathrooms                0.504738\n",
    "* livingAreaSqFt                0.467034\n",
    "* numOfBedrooms                 0.299839\n",
    "* avgSchoolRating               0.293101\n",
    "* numOfStories                  0.200555\n",
    "\n",
    "We will train a new model using this features\n"
   ]
  },
  {
   "cell_type": "code",
   "execution_count": 25,
   "metadata": {},
   "outputs": [],
   "source": [
    "# Independent values\n",
    "X = df[['numOfBathrooms', 'livingAreaSqFt', 'numOfBedrooms', 'avgSchoolRating', 'numOfStories']]\n",
    "\n",
    "# Dependent values\n",
    "y = df['latestPrice']"
   ]
  },
  {
   "cell_type": "code",
   "execution_count": 26,
   "metadata": {},
   "outputs": [],
   "source": [
    "# importing train_test_split to create testing and trainin data\n",
    "from sklearn.model_selection import train_test_split\n",
    "X_train, X_test, y_train, y_test = train_test_split(X, y, test_size=0.2, random_state=42)"
   ]
  },
  {
   "cell_type": "code",
   "execution_count": 27,
   "metadata": {},
   "outputs": [],
   "source": [
    "# Creating the model\n",
    "model = sm.OLS(endog=y_train, exog=sm.add_constant(X_train))"
   ]
  },
  {
   "cell_type": "code",
   "execution_count": 28,
   "metadata": {},
   "outputs": [],
   "source": [
    "# Get model results\n",
    "results = model.fit()"
   ]
  },
  {
   "cell_type": "code",
   "execution_count": 29,
   "metadata": {},
   "outputs": [
    {
     "name": "stdout",
     "output_type": "stream",
     "text": [
      "                            OLS Regression Results                            \n",
      "==============================================================================\n",
      "Dep. Variable:            latestPrice   R-squared:                       0.330\n",
      "Model:                            OLS   Adj. R-squared:                  0.330\n",
      "Method:                 Least Squares   F-statistic:                     1197.\n",
      "Date:                Wed, 26 Jul 2023   Prob (F-statistic):               0.00\n",
      "Time:                        10:42:32   Log-Likelihood:            -1.7261e+05\n",
      "No. Observations:               12136   AIC:                         3.452e+05\n",
      "Df Residuals:                   12130   BIC:                         3.453e+05\n",
      "Df Model:                           5                                         \n",
      "Covariance Type:            nonrobust                                         \n",
      "===================================================================================\n",
      "                      coef    std err          t      P>|t|      [0.025      0.975]\n",
      "-----------------------------------------------------------------------------------\n",
      "const            6159.5433   1.66e+04      0.371      0.711   -2.64e+04    3.87e+04\n",
      "numOfBathrooms   1.956e+05   4674.872     41.833      0.000    1.86e+05    2.05e+05\n",
      "livingAreaSqFt     79.0261      2.816     28.068      0.000      73.507      84.545\n",
      "numOfBedrooms    -4.96e+04   5051.943     -9.818      0.000   -5.95e+04   -3.97e+04\n",
      "avgSchoolRating  2.324e+04   1945.640     11.946      0.000    1.94e+04    2.71e+04\n",
      "numOfStories    -1.069e+05   7580.585    -14.103      0.000   -1.22e+05    -9.2e+04\n",
      "==============================================================================\n",
      "Omnibus:                    16982.579   Durbin-Watson:                   2.019\n",
      "Prob(Omnibus):                  0.000   Jarque-Bera (JB):         22282746.414\n",
      "Skew:                           7.593   Prob(JB):                         0.00\n",
      "Kurtosis:                     212.369   Cond. No.                     1.38e+04\n",
      "==============================================================================\n",
      "\n",
      "Notes:\n",
      "[1] Standard Errors assume that the covariance matrix of the errors is correctly specified.\n",
      "[2] The condition number is large, 1.38e+04. This might indicate that there are\n",
      "strong multicollinearity or other numerical problems.\n"
     ]
    }
   ],
   "source": [
    "# Displey results summary\n",
    "print(results.summary())"
   ]
  },
  {
   "cell_type": "markdown",
   "metadata": {},
   "source": [
    "we will add more features:\n",
    "* MedianStudentsPerTeacher      0.198208\n",
    "* hasSpa_int                    0.173084\n",
    "* garageSpaces                  0.157443\n",
    "* parkingSpaces                 0.156811\n",
    "* numOfElementarySchools        0.155988\n",
    "* numOfPhotos                   0.154355\n",
    "* hasView_int                   0.133969\n",
    "* numOfMiddleSchools            0.127838\n",
    "* numOfWaterfrontFeatures       0.123979"
   ]
  },
  {
   "cell_type": "code",
   "execution_count": 30,
   "metadata": {},
   "outputs": [],
   "source": [
    "# Independent values\n",
    "X = df[['numOfBathrooms', 'livingAreaSqFt', 'numOfBedrooms', 'avgSchoolRating', 'numOfStories','MedianStudentsPerTeacher',\n",
    "        'hasSpa_int','garageSpaces','parkingSpaces','numOfElementarySchools','numOfPhotos','hasView_int','numOfMiddleSchools']]\n",
    "\n",
    "# Dependent values\n",
    "y = df['latestPrice']"
   ]
  },
  {
   "cell_type": "code",
   "execution_count": 31,
   "metadata": {},
   "outputs": [],
   "source": [
    "# importing train_test_split to create testing and trainin data\n",
    "from sklearn.model_selection import train_test_split\n",
    "X_train, X_test, y_train, y_test = train_test_split(X, y, test_size=0.2, random_state=42)"
   ]
  },
  {
   "cell_type": "code",
   "execution_count": 32,
   "metadata": {},
   "outputs": [],
   "source": [
    "# Creating the model\n",
    "model = sm.OLS(endog=y_train, exog=sm.add_constant(X_train))"
   ]
  },
  {
   "cell_type": "code",
   "execution_count": 33,
   "metadata": {},
   "outputs": [],
   "source": [
    "# Get model results\n",
    "results = model.fit()"
   ]
  },
  {
   "cell_type": "code",
   "execution_count": 34,
   "metadata": {
    "scrolled": true
   },
   "outputs": [
    {
     "name": "stdout",
     "output_type": "stream",
     "text": [
      "                            OLS Regression Results                            \n",
      "==============================================================================\n",
      "Dep. Variable:            latestPrice   R-squared:                       0.342\n",
      "Model:                            OLS   Adj. R-squared:                  0.341\n",
      "Method:                 Least Squares   F-statistic:                     484.7\n",
      "Date:                Wed, 26 Jul 2023   Prob (F-statistic):               0.00\n",
      "Time:                        10:42:32   Log-Likelihood:            -1.7250e+05\n",
      "No. Observations:               12136   AIC:                         3.450e+05\n",
      "Df Residuals:                   12122   BIC:                         3.451e+05\n",
      "Df Model:                          13                                         \n",
      "Covariance Type:            nonrobust                                         \n",
      "============================================================================================\n",
      "                               coef    std err          t      P>|t|      [0.025      0.975]\n",
      "--------------------------------------------------------------------------------------------\n",
      "const                     1.454e+05   4.06e+04      3.586      0.000    6.59e+04    2.25e+05\n",
      "numOfBathrooms            1.882e+05   4685.261     40.165      0.000    1.79e+05    1.97e+05\n",
      "livingAreaSqFt              76.2146      2.817     27.050      0.000      70.692      81.737\n",
      "numOfBedrooms            -5.129e+04   5023.308    -10.211      0.000   -6.11e+04   -4.14e+04\n",
      "avgSchoolRating           2.762e+04   2905.748      9.505      0.000    2.19e+04    3.33e+04\n",
      "numOfStories             -1.092e+05   7549.916    -14.460      0.000   -1.24e+05   -9.44e+04\n",
      "MedianStudentsPerTeacher -9935.2598   2952.191     -3.365      0.001   -1.57e+04   -4148.495\n",
      "hasSpa_int                 9.06e+04   1.28e+04      7.062      0.000    6.55e+04    1.16e+05\n",
      "garageSpaces             -3.403e+04    3.5e+04     -0.973      0.330   -1.03e+05    3.45e+04\n",
      "parkingSpaces              3.97e+04   3.49e+04      1.136      0.256   -2.88e+04    1.08e+05\n",
      "numOfElementarySchools    1.075e+05   1.58e+04      6.789      0.000    7.65e+04    1.39e+05\n",
      "numOfPhotos                883.4060    164.005      5.386      0.000     561.929    1204.883\n",
      "hasView_int               3.318e+04   8121.688      4.086      0.000    1.73e+04    4.91e+04\n",
      "numOfMiddleSchools       -3.408e+04   1.44e+04     -2.368      0.018   -6.23e+04   -5873.980\n",
      "==============================================================================\n",
      "Omnibus:                    17282.229   Durbin-Watson:                   2.017\n",
      "Prob(Omnibus):                  0.000   Jarque-Bera (JB):         23476265.166\n",
      "Skew:                           7.865   Prob(JB):                         0.00\n",
      "Kurtosis:                     217.893   Cond. No.                     3.99e+04\n",
      "==============================================================================\n",
      "\n",
      "Notes:\n",
      "[1] Standard Errors assume that the covariance matrix of the errors is correctly specified.\n",
      "[2] The condition number is large, 3.99e+04. This might indicate that there are\n",
      "strong multicollinearity or other numerical problems.\n"
     ]
    }
   ],
   "source": [
    "# Displey results summary\n",
    "print(results.summary())"
   ]
  },
  {
   "cell_type": "markdown",
   "metadata": {},
   "source": [
    "We will add more features:\n",
    "* zipcode                      -0.145946\n",
    "* numOfPrimarySchools          -0.170927\n",
    "* longitude                    -0.184079\n",
    "* numOfHighSchools             -0.201821"
   ]
  },
  {
   "cell_type": "code",
   "execution_count": 35,
   "metadata": {},
   "outputs": [],
   "source": [
    "# Independent values\n",
    "X = df[['numOfBathrooms', 'livingAreaSqFt', 'numOfBedrooms', 'avgSchoolRating', 'numOfStories','MedianStudentsPerTeacher',\n",
    "        'hasSpa_int','garageSpaces','parkingSpaces','numOfElementarySchools','numOfPhotos','hasView_int','numOfMiddleSchools',\n",
    "        'zipcode','numOfPrimarySchools', 'longitude','numOfHighSchools']]\n",
    "\n",
    "# Dependent values\n",
    "y = df['latestPrice']"
   ]
  },
  {
   "cell_type": "code",
   "execution_count": 36,
   "metadata": {},
   "outputs": [],
   "source": [
    "# importing train_test_split to create testing and trainin data\n",
    "from sklearn.model_selection import train_test_split\n",
    "X_train, X_test, y_train, y_test = train_test_split(X, y, test_size=0.2, random_state=42)"
   ]
  },
  {
   "cell_type": "code",
   "execution_count": 37,
   "metadata": {},
   "outputs": [],
   "source": [
    "# Creating the model\n",
    "model = sm.OLS(endog=y_train, exog=sm.add_constant(X_train))"
   ]
  },
  {
   "cell_type": "code",
   "execution_count": 38,
   "metadata": {},
   "outputs": [],
   "source": [
    "# Get model results\n",
    "results = model.fit()"
   ]
  },
  {
   "cell_type": "code",
   "execution_count": 39,
   "metadata": {
    "scrolled": true
   },
   "outputs": [
    {
     "name": "stdout",
     "output_type": "stream",
     "text": [
      "                            OLS Regression Results                            \n",
      "==============================================================================\n",
      "Dep. Variable:            latestPrice   R-squared:                       0.367\n",
      "Model:                            OLS   Adj. R-squared:                  0.366\n",
      "Method:                 Least Squares   F-statistic:                     413.2\n",
      "Date:                Wed, 26 Jul 2023   Prob (F-statistic):               0.00\n",
      "Time:                        10:42:33   Log-Likelihood:            -1.7227e+05\n",
      "No. Observations:               12136   AIC:                         3.446e+05\n",
      "Df Residuals:                   12118   BIC:                         3.447e+05\n",
      "Df Model:                          17                                         \n",
      "Covariance Type:            nonrobust                                         \n",
      "============================================================================================\n",
      "                               coef    std err          t      P>|t|      [0.025      0.975]\n",
      "--------------------------------------------------------------------------------------------\n",
      "const                       2.6e+08    1.4e+07     18.540      0.000    2.32e+08    2.87e+08\n",
      "numOfBathrooms            1.861e+05   4633.367     40.159      0.000    1.77e+05    1.95e+05\n",
      "livingAreaSqFt              75.6421      2.772     27.289      0.000      70.209      81.075\n",
      "numOfBedrooms            -4.284e+04   4944.211     -8.664      0.000   -5.25e+04   -3.31e+04\n",
      "avgSchoolRating           3.419e+04   2979.718     11.475      0.000    2.84e+04       4e+04\n",
      "numOfStories             -1.115e+05   7434.846    -14.995      0.000   -1.26e+05   -9.69e+04\n",
      "MedianStudentsPerTeacher -1390.1414   3250.249     -0.428      0.669   -7761.148    4980.865\n",
      "hasSpa_int                8.739e+04   1.26e+04      6.941      0.000    6.27e+04    1.12e+05\n",
      "garageSpaces             -3.617e+04   3.43e+04     -1.054      0.292   -1.03e+05    3.11e+04\n",
      "parkingSpaces             4.294e+04   3.43e+04      1.252      0.211   -2.43e+04     1.1e+05\n",
      "numOfElementarySchools    1.518e+05   2.58e+04      5.879      0.000    1.01e+05    2.02e+05\n",
      "numOfPhotos                886.4181    160.941      5.508      0.000     570.948    1201.888\n",
      "hasView_int                3.01e+04   7991.113      3.766      0.000    1.44e+04    4.58e+04\n",
      "numOfMiddleSchools       -4.775e+04   1.54e+04     -3.109      0.002   -7.79e+04   -1.76e+04\n",
      "zipcode                  -2573.9075    176.366    -14.594      0.000   -2919.613   -2228.202\n",
      "numOfPrimarySchools       1.152e+05   3.01e+04      3.831      0.000    5.62e+04    1.74e+05\n",
      "longitude                 5.859e+05   5.57e+04     10.524      0.000    4.77e+05    6.95e+05\n",
      "numOfHighSchools         -1.646e+05   1.58e+04    -10.443      0.000   -1.95e+05   -1.34e+05\n",
      "==============================================================================\n",
      "Omnibus:                    17545.523   Durbin-Watson:                   2.015\n",
      "Prob(Omnibus):                  0.000   Jarque-Bera (JB):         26796428.049\n",
      "Skew:                           8.075   Prob(JB):                         0.00\n",
      "Kurtosis:                     232.633   Cond. No.                     3.44e+08\n",
      "==============================================================================\n",
      "\n",
      "Notes:\n",
      "[1] Standard Errors assume that the covariance matrix of the errors is correctly specified.\n",
      "[2] The condition number is large, 3.44e+08. This might indicate that there are\n",
      "strong multicollinearity or other numerical problems.\n"
     ]
    }
   ],
   "source": [
    "# Displey results summary\n",
    "print(results.summary())"
   ]
  },
  {
   "cell_type": "code",
   "execution_count": 40,
   "metadata": {},
   "outputs": [
    {
     "data": {
      "image/png": "[encoded data removed]",
      "text/plain": [
       "<Figure size 640x480 with 1 Axes>"
      ]
     },
     "metadata": {},
     "output_type": "display_data"
    }
   ],
   "source": [
    "import matplotlib.pyplot as plt\n",
    "plt.scatter(df['numOfBathrooms'],df['latestPrice'])\n",
    "plt.show()"
   ]
  },
  {
   "cell_type": "markdown",
   "metadata": {},
   "source": []
  },
  {
   "cell_type": "markdown",
   "metadata": {},
   "source": [
    "## All features and leading with outliers"
   ]
  },
  {
   "cell_type": "markdown",
   "metadata": {},
   "source": [
    "### Creating testing and training data\n",
    "In this next step we will be creating the testing and training data for our algorithm. "
   ]
  },
  {
   "cell_type": "code",
   "execution_count": 174,
   "metadata": {},
   "outputs": [],
   "source": [
    "# prices below 1 000 000\n",
    "df_out = df[df['latestPrice']<14000000]\n",
    "df_out = df_out.sort_values(by='latestPrice')"
   ]
  },
  {
   "cell_type": "code",
   "execution_count": 175,
   "metadata": {},
   "outputs": [
    {
     "data": {
      "text/plain": [
       "(15171, 40)"
      ]
     },
     "execution_count": 175,
     "metadata": {},
     "output_type": "execute_result"
    }
   ],
   "source": [
    "df_out.shape"
   ]
  },
  {
   "cell_type": "code",
   "execution_count": 176,
   "metadata": {},
   "outputs": [
    {
     "data": {
      "image/png": "[encoded data removed]",
      "text/plain": [
       "<Figure size 640x480 with 1 Axes>"
      ]
     },
     "metadata": {},
     "output_type": "display_data"
    }
   ],
   "source": [
    "# Getting serires of number of houses, x\n",
    "x_out = len(df_out[['latestPrice']])\n",
    "x=range(x_out)\n",
    "len(x)\n",
    "\n",
    "# Setting prices in y\n",
    "y=df_out['latestPrice'].values\n",
    "y.shape\n",
    "\n",
    "# Plotting data in scatter\n",
    "import matplotlib.pyplot as plt\n",
    "plt.scatter(x, y)\n",
    "plt.show()"
   ]
  },
  {
   "cell_type": "code",
   "execution_count": 177,
   "metadata": {},
   "outputs": [
    {
     "data": {
      "text/plain": [
       "list"
      ]
     },
     "execution_count": 177,
     "metadata": {},
     "output_type": "execute_result"
    }
   ],
   "source": [
    "# Getting column names\n",
    "column_names=df_out.columns.tolist()\n",
    "type(column_names)"
   ]
  },
  {
   "cell_type": "code",
   "execution_count": 178,
   "metadata": {},
   "outputs": [],
   "source": [
    "# Deleting the name of the dependent name 'latestPrice'\n",
    "column_names.remove('latestPrice')"
   ]
  },
  {
   "cell_type": "code",
   "execution_count": 179,
   "metadata": {},
   "outputs": [],
   "source": [
    "# Independent values\n",
    "X = df_out[column_names]\n",
    "\n",
    "# Dependent values\n",
    "y = df_out['latestPrice']"
   ]
  },
  {
   "cell_type": "code",
   "execution_count": 180,
   "metadata": {},
   "outputs": [],
   "source": [
    "# importing train_test_split to create testing and trainin data\n",
    "from sklearn.model_selection import train_test_split\n",
    "X_train, X_test, y_train, y_test = train_test_split(X, y, test_size=0.2, random_state=42)"
   ]
  },
  {
   "cell_type": "code",
   "execution_count": 181,
   "metadata": {},
   "outputs": [
    {
     "name": "stdout",
     "output_type": "stream",
     "text": [
      "(15171, 39) (12136, 39) (3035, 39)\n"
     ]
    }
   ],
   "source": [
    "# Comparing size of X sets\n",
    "print(X.shape, X_train.shape, X_test.shape)"
   ]
  },
  {
   "cell_type": "markdown",
   "metadata": {},
   "source": [
    "### Linear regression with StatsModels"
   ]
  },
  {
   "cell_type": "code",
   "execution_count": 182,
   "metadata": {},
   "outputs": [],
   "source": [
    "import statsmodels.api as sm"
   ]
  },
  {
   "cell_type": "code",
   "execution_count": 183,
   "metadata": {},
   "outputs": [],
   "source": [
    "# Creating the model\n",
    "model = sm.OLS(endog=y_train, exog=sm.add_constant(X_train))"
   ]
  },
  {
   "cell_type": "code",
   "execution_count": 184,
   "metadata": {},
   "outputs": [],
   "source": [
    "# Get model results\n",
    "results = model.fit()"
   ]
  },
  {
   "cell_type": "code",
   "execution_count": 185,
   "metadata": {
    "scrolled": false
   },
   "outputs": [
    {
     "name": "stdout",
     "output_type": "stream",
     "text": [
      "                            OLS Regression Results                            \n",
      "==============================================================================\n",
      "Dep. Variable:            latestPrice   R-squared:                       0.455\n",
      "Model:                            OLS   Adj. R-squared:                  0.453\n",
      "Method:                 Least Squares   F-statistic:                     259.1\n",
      "Date:                Wed, 26 Jul 2023   Prob (F-statistic):               0.00\n",
      "Time:                        11:06:38   Log-Likelihood:            -1.7101e+05\n",
      "No. Observations:               12136   AIC:                         3.421e+05\n",
      "Df Residuals:                   12096   BIC:                         3.424e+05\n",
      "Df Model:                          39                                         \n",
      "Covariance Type:            nonrobust                                         \n",
      "==============================================================================================\n",
      "                                 coef    std err          t      P>|t|      [0.025      0.975]\n",
      "----------------------------------------------------------------------------------------------\n",
      "const                       2.544e+08   1.65e+07     15.427      0.000    2.22e+08    2.87e+08\n",
      "zpid                         1.81e-05   9.53e-06      1.898      0.058   -5.88e-07    3.68e-05\n",
      "zipcode                    -3143.7461    164.692    -19.089      0.000   -3466.569   -2820.924\n",
      "latitude                   -1.133e+05   4.81e+04     -2.356      0.018   -2.08e+05   -1.91e+04\n",
      "longitude                   4.181e+05   6.53e+04      6.399      0.000     2.9e+05    5.46e+05\n",
      "propertyTaxRate            -1.148e+06   7.51e+04    -15.291      0.000    -1.3e+06      -1e+06\n",
      "garageSpaces                7.317e+04   3.75e+04      1.950      0.051    -365.099    1.47e+05\n",
      "parkingSpaces              -5.879e+04   3.72e+04     -1.581      0.114   -1.32e+05    1.41e+04\n",
      "yearBuilt                  -1008.1637    195.956     -5.145      0.000   -1392.269    -624.058\n",
      "numPriceChanges            -8343.7395   1190.973     -7.006      0.000   -1.07e+04   -6009.241\n",
      "latest_salemonth            -734.4992    989.591     -0.742      0.458   -2674.255    1205.257\n",
      "latest_saleyear             2.068e+04   4729.087      4.373      0.000    1.14e+04       3e+04\n",
      "numOfPhotos                  872.9121    155.020      5.631      0.000     569.049    1176.775\n",
      "numOfAccessibilityFeatures  4608.2648   1.55e+04      0.298      0.766   -2.57e+04    3.49e+04\n",
      "numOfAppliances             -793.5663   1650.730     -0.481      0.631   -4029.261    2442.128\n",
      "numOfParkingFeatures        4.285e+04   6099.286      7.026      0.000    3.09e+04    5.48e+04\n",
      "numOfPatioAndPorchFeatures  7138.3184   4022.958      1.774      0.076    -747.323     1.5e+04\n",
      "numOfSecurityFeatures        215.4384   4414.953      0.049      0.961   -8438.576    8869.452\n",
      "numOfWaterfrontFeatures     6.223e+05    4.8e+04     12.977      0.000    5.28e+05    7.16e+05\n",
      "numOfWindowFeatures         1512.8726   6706.851      0.226      0.822   -1.16e+04    1.47e+04\n",
      "numOfCommunityFeatures     -4.424e+04   1.79e+04     -2.466      0.014   -7.94e+04   -9080.631\n",
      "lotSizeSqFt                    0.0004      0.000      1.711      0.087   -5.27e-05       0.001\n",
      "livingAreaSqFt                71.5387      2.530     28.276      0.000      66.580      76.498\n",
      "numOfPrimarySchools         1.139e+05   2.89e+04      3.945      0.000    5.73e+04     1.7e+05\n",
      "numOfElementarySchools      1.853e+05   2.48e+04      7.475      0.000    1.37e+05    2.34e+05\n",
      "numOfMiddleSchools         -2.956e+04   1.42e+04     -2.079      0.038   -5.74e+04   -1690.408\n",
      "numOfHighSchools           -9.393e+04   1.48e+04     -6.354      0.000   -1.23e+05    -6.5e+04\n",
      "avgSchoolDistance           3460.6944   3132.261      1.105      0.269   -2679.039    9600.428\n",
      "avgSchoolRating             5.986e+04   3358.662     17.824      0.000    5.33e+04    6.64e+04\n",
      "avgSchoolSize                -89.5519     14.245     -6.286      0.000    -117.475     -61.629\n",
      "MedianStudentsPerTeacher   -4370.4838   3317.509     -1.317      0.188   -1.09e+04    2132.365\n",
      "numOfBathrooms              1.895e+05   4387.775     43.192      0.000    1.81e+05    1.98e+05\n",
      "numOfBedrooms              -2.989e+04   4491.204     -6.654      0.000   -3.87e+04   -2.11e+04\n",
      "numOfStories               -6.291e+04   6979.879     -9.014      0.000   -7.66e+04   -4.92e+04\n",
      "hasAssociation_int         -1.502e+05   8092.923    -18.557      0.000   -1.66e+05   -1.34e+05\n",
      "hasCooling_int             -9.066e+04   3.04e+04     -2.987      0.003    -1.5e+05   -3.12e+04\n",
      "hasGarage_int              -9.341e+04   1.25e+04     -7.473      0.000   -1.18e+05   -6.89e+04\n",
      "hasHeating_int             -4.396e+04   4.04e+04     -1.087      0.277   -1.23e+05    3.53e+04\n",
      "hasSpa_int                  8.729e+04   1.15e+04      7.623      0.000    6.48e+04     1.1e+05\n",
      "hasView_int                 2.249e+04   7333.651      3.066      0.002    8112.839    3.69e+04\n",
      "==============================================================================\n",
      "Omnibus:                    16754.869   Durbin-Watson:                   1.999\n",
      "Prob(Omnibus):                  0.000   Jarque-Bera (JB):         27993450.199\n",
      "Skew:                           7.289   Prob(JB):                         0.00\n",
      "Kurtosis:                     237.834   Cond. No.                     1.92e+12\n",
      "==============================================================================\n",
      "\n",
      "Notes:\n",
      "[1] Standard Errors assume that the covariance matrix of the errors is correctly specified.\n",
      "[2] The condition number is large, 1.92e+12. This might indicate that there are\n",
      "strong multicollinearity or other numerical problems.\n"
     ]
    }
   ],
   "source": [
    "# Displey results summary\n",
    "print(results.summary())"
   ]
  },
  {
   "cell_type": "markdown",
   "metadata": {},
   "source": [
    "#### Coeffincient of determination is 0.44 that's not a good number, the better is close to 1\n",
    "this model is explainin only the 44% of data"
   ]
  },
  {
   "cell_type": "markdown",
   "metadata": {},
   "source": [
    "### Evaluation"
   ]
  },
  {
   "cell_type": "code",
   "execution_count": 186,
   "metadata": {},
   "outputs": [
    {
     "data": {
      "text/plain": [
       "(12136,)"
      ]
     },
     "execution_count": 186,
     "metadata": {},
     "output_type": "execute_result"
    }
   ],
   "source": [
    "# Get prediction with X_train using the model\n",
    "y_train_pred = results.predict(sm.add_constant(X_train))\n",
    "y_train_pred.shape"
   ]
  },
  {
   "cell_type": "code",
   "execution_count": 187,
   "metadata": {},
   "outputs": [
    {
     "data": {
      "text/plain": [
       "318759.53647451557"
      ]
     },
     "execution_count": 187,
     "metadata": {},
     "output_type": "execute_result"
    }
   ],
   "source": [
    "# RMSE\n",
    "from sklearn.metrics import mean_squared_error\n",
    "RMSE_train=mean_squared_error(y_train, y_train_pred, squared=False)\n",
    "RMSE_train"
   ]
  },
  {
   "cell_type": "markdown",
   "metadata": {},
   "source": [
    "Our model is off by about 331574 dollars in a given prediction\n",
    "\n",
    "it's a bad number"
   ]
  },
  {
   "cell_type": "code",
   "execution_count": 163,
   "metadata": {},
   "outputs": [],
   "source": [
    "# Get prediction with X_train using the model\n",
    "y_test_pred = results.predict(sm.add_constant(X_test))"
   ]
  },
  {
   "cell_type": "code",
   "execution_count": 164,
   "metadata": {},
   "outputs": [
    {
     "data": {
      "text/plain": [
       "265175.6788711438"
      ]
     },
     "execution_count": 164,
     "metadata": {},
     "output_type": "execute_result"
    }
   ],
   "source": [
    "RMSE_test=mean_squared_error(y_test, y_test_pred, squared=False)\n",
    "RMSE_test"
   ]
  },
  {
   "cell_type": "code",
   "execution_count": 165,
   "metadata": {},
   "outputs": [
    {
     "data": {
      "text/plain": [
       "-1.7194721357501188"
      ]
     },
     "execution_count": 165,
     "metadata": {},
     "output_type": "execute_result"
    }
   ],
   "source": [
    "# as long as the difference is small the model is consistent\n",
    "diff = (RMSE_test - RMSE_train)/ RMSE_test *100\n",
    "diff"
   ]
  },
  {
   "cell_type": "code",
   "execution_count": null,
   "metadata": {},
   "outputs": [],
   "source": []
  }
 ],
 "metadata": {
  "kernelspec": {
   "display_name": "Python 3 (ipykernel)",
   "language": "python",
   "name": "python3"
  },
  "language_info": {
   "codemirror_mode": {
    "name": "ipython",
    "version": 3
   },
   "file_extension": ".py",
   "mimetype": "text/x-python",
   "name": "python",
   "nbconvert_exporter": "python",
   "pygments_lexer": "ipython3",
   "version": "3.9.13"
  }
 },
 "nbformat": 4,
 "nbformat_minor": 4
}
