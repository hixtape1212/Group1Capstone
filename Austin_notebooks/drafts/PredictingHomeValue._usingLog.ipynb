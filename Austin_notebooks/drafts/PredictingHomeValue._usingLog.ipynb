{
 "cells": [
  {
   "cell_type": "markdown",
   "metadata": {},
   "source": [
    "# Predicting Home Value\n",
    "Due to our dataset find, our team has changed our scope from predicting home features to predicting home price using different statistical approaches. Together we will trial and error multiple algorithms and explore there utility in predicting home prices. Across these different algorithms we will use similar metrics such as MSE to determine the relative success of the model."
   ]
  },
  {
   "cell_type": "markdown",
   "metadata": {},
   "source": [
    "## Our Scope\n",
    "A real estate investment firm has tasked our Group1 consulting team to develop a model to predict home prices based on a set of given parameters. Obviously we know location is the biggest idicator of home prices, but our team will use a combination of other home features to figure out the value of a home\n",
    "\n",
    "## Our Data\n",
    "We will be using the a publically availble dataset from Kaggle. The data contained in the set Austin, TX House Listings. It was scraped in January 2021 and is highly ranked on Kaggle for being clean and usable. Below is the link to the dataset.\n",
    "https://www.kaggle.com/datasets/ericpierce/austinhousingprices?resource=download"
   ]
  },
  {
   "cell_type": "markdown",
   "metadata": {},
   "source": [
    "# Familiarizing with Dataset"
   ]
  },
  {
   "cell_type": "code",
   "execution_count": 1,
   "metadata": {},
   "outputs": [],
   "source": [
    "# import pandas for EDA\n",
    "import pandas as pd"
   ]
  },
  {
   "cell_type": "code",
   "execution_count": 2,
   "metadata": {},
   "outputs": [
    {
     "data": {
      "text/html": [
       "<div>\n",
       "<style scoped>\n",
       "    .dataframe tbody tr th:only-of-type {\n",
       "        vertical-align: middle;\n",
       "    }\n",
       "\n",
       "    .dataframe tbody tr th {\n",
       "        vertical-align: top;\n",
       "    }\n",
       "\n",
       "    .dataframe thead th {\n",
       "        text-align: right;\n",
       "    }\n",
       "</style>\n",
       "<table border=\"1\" class=\"dataframe\">\n",
       "  <thead>\n",
       "    <tr style=\"text-align: right;\">\n",
       "      <th></th>\n",
       "      <th>zpid</th>\n",
       "      <th>city</th>\n",
       "      <th>streetAddress</th>\n",
       "      <th>zipcode</th>\n",
       "      <th>description</th>\n",
       "      <th>latitude</th>\n",
       "      <th>longitude</th>\n",
       "      <th>propertyTaxRate</th>\n",
       "      <th>garageSpaces</th>\n",
       "      <th>hasAssociation</th>\n",
       "      <th>...</th>\n",
       "      <th>numOfMiddleSchools</th>\n",
       "      <th>numOfHighSchools</th>\n",
       "      <th>avgSchoolDistance</th>\n",
       "      <th>avgSchoolRating</th>\n",
       "      <th>avgSchoolSize</th>\n",
       "      <th>MedianStudentsPerTeacher</th>\n",
       "      <th>numOfBathrooms</th>\n",
       "      <th>numOfBedrooms</th>\n",
       "      <th>numOfStories</th>\n",
       "      <th>homeImage</th>\n",
       "    </tr>\n",
       "  </thead>\n",
       "  <tbody>\n",
       "    <tr>\n",
       "      <th>0</th>\n",
       "      <td>111373431</td>\n",
       "      <td>pflugerville</td>\n",
       "      <td>14424 Lake Victor Dr</td>\n",
       "      <td>78660</td>\n",
       "      <td>14424 Lake Victor Dr, Pflugerville, TX 78660 i...</td>\n",
       "      <td>30.430632</td>\n",
       "      <td>-97.663078</td>\n",
       "      <td>1.98</td>\n",
       "      <td>2</td>\n",
       "      <td>True</td>\n",
       "      <td>...</td>\n",
       "      <td>1</td>\n",
       "      <td>1</td>\n",
       "      <td>1.266667</td>\n",
       "      <td>2.666667</td>\n",
       "      <td>1063</td>\n",
       "      <td>14</td>\n",
       "      <td>3.0</td>\n",
       "      <td>4</td>\n",
       "      <td>2</td>\n",
       "      <td>111373431_ffce26843283d3365c11d81b8e6bdc6f-p_f...</td>\n",
       "    </tr>\n",
       "    <tr>\n",
       "      <th>1</th>\n",
       "      <td>120900430</td>\n",
       "      <td>pflugerville</td>\n",
       "      <td>1104 Strickling Dr</td>\n",
       "      <td>78660</td>\n",
       "      <td>Absolutely GORGEOUS 4 Bedroom home with 2 full...</td>\n",
       "      <td>30.432672</td>\n",
       "      <td>-97.661697</td>\n",
       "      <td>1.98</td>\n",
       "      <td>2</td>\n",
       "      <td>True</td>\n",
       "      <td>...</td>\n",
       "      <td>1</td>\n",
       "      <td>1</td>\n",
       "      <td>1.400000</td>\n",
       "      <td>2.666667</td>\n",
       "      <td>1063</td>\n",
       "      <td>14</td>\n",
       "      <td>2.0</td>\n",
       "      <td>4</td>\n",
       "      <td>1</td>\n",
       "      <td>120900430_8255c127be8dcf0a1a18b7563d987088-p_f...</td>\n",
       "    </tr>\n",
       "    <tr>\n",
       "      <th>2</th>\n",
       "      <td>2084491383</td>\n",
       "      <td>pflugerville</td>\n",
       "      <td>1408 Fort Dessau Rd</td>\n",
       "      <td>78660</td>\n",
       "      <td>Under construction - estimated completion in A...</td>\n",
       "      <td>30.409748</td>\n",
       "      <td>-97.639771</td>\n",
       "      <td>1.98</td>\n",
       "      <td>0</td>\n",
       "      <td>True</td>\n",
       "      <td>...</td>\n",
       "      <td>1</td>\n",
       "      <td>1</td>\n",
       "      <td>1.200000</td>\n",
       "      <td>3.000000</td>\n",
       "      <td>1108</td>\n",
       "      <td>14</td>\n",
       "      <td>2.0</td>\n",
       "      <td>3</td>\n",
       "      <td>1</td>\n",
       "      <td>2084491383_a2ad649e1a7a098111dcea084a11c855-p_...</td>\n",
       "    </tr>\n",
       "  </tbody>\n",
       "</table>\n",
       "<p>3 rows × 47 columns</p>\n",
       "</div>"
      ],
      "text/plain": [
       "         zpid          city         streetAddress  zipcode  \\\n",
       "0   111373431  pflugerville  14424 Lake Victor Dr    78660   \n",
       "1   120900430  pflugerville    1104 Strickling Dr    78660   \n",
       "2  2084491383  pflugerville   1408 Fort Dessau Rd    78660   \n",
       "\n",
       "                                         description   latitude  longitude  \\\n",
       "0  14424 Lake Victor Dr, Pflugerville, TX 78660 i...  30.430632 -97.663078   \n",
       "1  Absolutely GORGEOUS 4 Bedroom home with 2 full...  30.432672 -97.661697   \n",
       "2  Under construction - estimated completion in A...  30.409748 -97.639771   \n",
       "\n",
       "   propertyTaxRate  garageSpaces  hasAssociation  ...  numOfMiddleSchools  \\\n",
       "0             1.98             2            True  ...                   1   \n",
       "1             1.98             2            True  ...                   1   \n",
       "2             1.98             0            True  ...                   1   \n",
       "\n",
       "   numOfHighSchools  avgSchoolDistance  avgSchoolRating  avgSchoolSize  \\\n",
       "0                 1           1.266667         2.666667           1063   \n",
       "1                 1           1.400000         2.666667           1063   \n",
       "2                 1           1.200000         3.000000           1108   \n",
       "\n",
       "  MedianStudentsPerTeacher  numOfBathrooms  numOfBedrooms  numOfStories  \\\n",
       "0                       14             3.0              4             2   \n",
       "1                       14             2.0              4             1   \n",
       "2                       14             2.0              3             1   \n",
       "\n",
       "                                           homeImage  \n",
       "0  111373431_ffce26843283d3365c11d81b8e6bdc6f-p_f...  \n",
       "1  120900430_8255c127be8dcf0a1a18b7563d987088-p_f...  \n",
       "2  2084491383_a2ad649e1a7a098111dcea084a11c855-p_...  \n",
       "\n",
       "[3 rows x 47 columns]"
      ]
     },
     "execution_count": 2,
     "metadata": {},
     "output_type": "execute_result"
    }
   ],
   "source": [
    "file_path = 'austinHousingData.csv'\n",
    "df = pd.read_csv(file_path)\n",
    "df.head(3)"
   ]
  },
  {
   "cell_type": "code",
   "execution_count": 3,
   "metadata": {},
   "outputs": [
    {
     "name": "stdout",
     "output_type": "stream",
     "text": [
      "<class 'pandas.core.frame.DataFrame'>\n",
      "RangeIndex: 15171 entries, 0 to 15170\n",
      "Data columns (total 47 columns):\n",
      " #   Column                      Non-Null Count  Dtype  \n",
      "---  ------                      --------------  -----  \n",
      " 0   zpid                        15171 non-null  int64  \n",
      " 1   city                        15171 non-null  object \n",
      " 2   streetAddress               15171 non-null  object \n",
      " 3   zipcode                     15171 non-null  int64  \n",
      " 4   description                 15171 non-null  object \n",
      " 5   latitude                    15171 non-null  float64\n",
      " 6   longitude                   15171 non-null  float64\n",
      " 7   propertyTaxRate             15171 non-null  float64\n",
      " 8   garageSpaces                15171 non-null  int64  \n",
      " 9   hasAssociation              15171 non-null  bool   \n",
      " 10  hasCooling                  15171 non-null  bool   \n",
      " 11  hasGarage                   15171 non-null  bool   \n",
      " 12  hasHeating                  15171 non-null  bool   \n",
      " 13  hasSpa                      15171 non-null  bool   \n",
      " 14  hasView                     15171 non-null  bool   \n",
      " 15  homeType                    15171 non-null  object \n",
      " 16  parkingSpaces               15171 non-null  int64  \n",
      " 17  yearBuilt                   15171 non-null  int64  \n",
      " 18  latestPrice                 15171 non-null  int64  \n",
      " 19  numPriceChanges             15171 non-null  int64  \n",
      " 20  latest_saledate             15171 non-null  object \n",
      " 21  latest_salemonth            15171 non-null  int64  \n",
      " 22  latest_saleyear             15171 non-null  int64  \n",
      " 23  latestPriceSource           15171 non-null  object \n",
      " 24  numOfPhotos                 15171 non-null  int64  \n",
      " 25  numOfAccessibilityFeatures  15171 non-null  int64  \n",
      " 26  numOfAppliances             15171 non-null  int64  \n",
      " 27  numOfParkingFeatures        15171 non-null  int64  \n",
      " 28  numOfPatioAndPorchFeatures  15171 non-null  int64  \n",
      " 29  numOfSecurityFeatures       15171 non-null  int64  \n",
      " 30  numOfWaterfrontFeatures     15171 non-null  int64  \n",
      " 31  numOfWindowFeatures         15171 non-null  int64  \n",
      " 32  numOfCommunityFeatures      15171 non-null  int64  \n",
      " 33  lotSizeSqFt                 15171 non-null  float64\n",
      " 34  livingAreaSqFt              15171 non-null  int64  \n",
      " 35  numOfPrimarySchools         15171 non-null  int64  \n",
      " 36  numOfElementarySchools      15171 non-null  int64  \n",
      " 37  numOfMiddleSchools          15171 non-null  int64  \n",
      " 38  numOfHighSchools            15171 non-null  int64  \n",
      " 39  avgSchoolDistance           15171 non-null  float64\n",
      " 40  avgSchoolRating             15171 non-null  float64\n",
      " 41  avgSchoolSize               15171 non-null  int64  \n",
      " 42  MedianStudentsPerTeacher    15171 non-null  int64  \n",
      " 43  numOfBathrooms              15171 non-null  float64\n",
      " 44  numOfBedrooms               15171 non-null  int64  \n",
      " 45  numOfStories                15171 non-null  int64  \n",
      " 46  homeImage                   15171 non-null  object \n",
      "dtypes: bool(6), float64(7), int64(27), object(7)\n",
      "memory usage: 4.8+ MB\n"
     ]
    }
   ],
   "source": [
    "df.info()"
   ]
  },
  {
   "cell_type": "markdown",
   "metadata": {},
   "source": [
    "As you can see from the initial info() method, the dataset itself is very clean and usable. There isn't much data pre-processing needed in order to clean the data since there are no null values, and the majority of features are in a usable format."
   ]
  },
  {
   "cell_type": "markdown",
   "metadata": {},
   "source": [
    "### Dropping non-int and changing booleans\n",
    "The only pre-processing we will need to do is to drop any d-type that is not an integer, like columns city, streetAddress, and description. We still have longitute and latitude so location is still within the dataset. Also we want to change the true and false values to 1's and 0's to make the entire dataset numerical."
   ]
  },
  {
   "cell_type": "code",
   "execution_count": 4,
   "metadata": {},
   "outputs": [
    {
     "data": {
      "text/plain": [
       "(15171, 40)"
      ]
     },
     "execution_count": 4,
     "metadata": {},
     "output_type": "execute_result"
    }
   ],
   "source": [
    "#Droping the columns that are strings\n",
    "col_drop_list = ['city', 'streetAddress', 'description', 'homeType','latest_saledate', 'latestPriceSource', 'homeImage' ]\n",
    "df = df.drop(col_drop_list, axis=1)\n",
    "\n",
    "df.shape"
   ]
  },
  {
   "cell_type": "code",
   "execution_count": 5,
   "metadata": {},
   "outputs": [
    {
     "data": {
      "text/plain": [
       "(15171, 46)"
      ]
     },
     "execution_count": 5,
     "metadata": {},
     "output_type": "execute_result"
    }
   ],
   "source": [
    "#Changing bool to int\n",
    "col_bool_list = ['hasAssociation', 'hasCooling', \n",
    "                 'hasGarage', 'hasHeating', 'hasSpa', 'hasView']\n",
    "\n",
    "for col in col_bool_list:\n",
    "    name = col + '_int'\n",
    "    df[name] = df[col].astype(int)\n",
    "\n",
    "df.shape"
   ]
  },
  {
   "cell_type": "code",
   "execution_count": 6,
   "metadata": {},
   "outputs": [
    {
     "data": {
      "text/plain": [
       "1    8007\n",
       "0    7164\n",
       "Name: hasAssociation_int, dtype: int64"
      ]
     },
     "execution_count": 6,
     "metadata": {},
     "output_type": "execute_result"
    }
   ],
   "source": [
    "df.hasAssociation_int.value_counts()"
   ]
  },
  {
   "cell_type": "code",
   "execution_count": 7,
   "metadata": {},
   "outputs": [
    {
     "data": {
      "text/plain": [
       "(15171, 40)"
      ]
     },
     "execution_count": 7,
     "metadata": {},
     "output_type": "execute_result"
    }
   ],
   "source": [
    "#Drop the bool columns\n",
    "df = df.drop(col_bool_list, axis=1)\n",
    "df.shape"
   ]
  },
  {
   "cell_type": "code",
   "execution_count": 8,
   "metadata": {},
   "outputs": [
    {
     "name": "stdout",
     "output_type": "stream",
     "text": [
      "<class 'pandas.core.frame.DataFrame'>\n",
      "RangeIndex: 15171 entries, 0 to 15170\n",
      "Data columns (total 40 columns):\n",
      " #   Column                      Non-Null Count  Dtype  \n",
      "---  ------                      --------------  -----  \n",
      " 0   zpid                        15171 non-null  int64  \n",
      " 1   zipcode                     15171 non-null  int64  \n",
      " 2   latitude                    15171 non-null  float64\n",
      " 3   longitude                   15171 non-null  float64\n",
      " 4   propertyTaxRate             15171 non-null  float64\n",
      " 5   garageSpaces                15171 non-null  int64  \n",
      " 6   parkingSpaces               15171 non-null  int64  \n",
      " 7   yearBuilt                   15171 non-null  int64  \n",
      " 8   latestPrice                 15171 non-null  int64  \n",
      " 9   numPriceChanges             15171 non-null  int64  \n",
      " 10  latest_salemonth            15171 non-null  int64  \n",
      " 11  latest_saleyear             15171 non-null  int64  \n",
      " 12  numOfPhotos                 15171 non-null  int64  \n",
      " 13  numOfAccessibilityFeatures  15171 non-null  int64  \n",
      " 14  numOfAppliances             15171 non-null  int64  \n",
      " 15  numOfParkingFeatures        15171 non-null  int64  \n",
      " 16  numOfPatioAndPorchFeatures  15171 non-null  int64  \n",
      " 17  numOfSecurityFeatures       15171 non-null  int64  \n",
      " 18  numOfWaterfrontFeatures     15171 non-null  int64  \n",
      " 19  numOfWindowFeatures         15171 non-null  int64  \n",
      " 20  numOfCommunityFeatures      15171 non-null  int64  \n",
      " 21  lotSizeSqFt                 15171 non-null  float64\n",
      " 22  livingAreaSqFt              15171 non-null  int64  \n",
      " 23  numOfPrimarySchools         15171 non-null  int64  \n",
      " 24  numOfElementarySchools      15171 non-null  int64  \n",
      " 25  numOfMiddleSchools          15171 non-null  int64  \n",
      " 26  numOfHighSchools            15171 non-null  int64  \n",
      " 27  avgSchoolDistance           15171 non-null  float64\n",
      " 28  avgSchoolRating             15171 non-null  float64\n",
      " 29  avgSchoolSize               15171 non-null  int64  \n",
      " 30  MedianStudentsPerTeacher    15171 non-null  int64  \n",
      " 31  numOfBathrooms              15171 non-null  float64\n",
      " 32  numOfBedrooms               15171 non-null  int64  \n",
      " 33  numOfStories                15171 non-null  int64  \n",
      " 34  hasAssociation_int          15171 non-null  int32  \n",
      " 35  hasCooling_int              15171 non-null  int32  \n",
      " 36  hasGarage_int               15171 non-null  int32  \n",
      " 37  hasHeating_int              15171 non-null  int32  \n",
      " 38  hasSpa_int                  15171 non-null  int32  \n",
      " 39  hasView_int                 15171 non-null  int32  \n",
      "dtypes: float64(7), int32(6), int64(27)\n",
      "memory usage: 4.3 MB\n"
     ]
    }
   ],
   "source": [
    "df.info()"
   ]
  },
  {
   "cell_type": "markdown",
   "metadata": {},
   "source": [
    "Now the data should be cleaned, all numeric, and ready to be used in the analysis."
   ]
  },
  {
   "cell_type": "code",
   "execution_count": 9,
   "metadata": {},
   "outputs": [
    {
     "data": {
      "text/plain": [
       "0       -97.663078\n",
       "1       -97.661697\n",
       "2       -97.639771\n",
       "3       -97.661659\n",
       "4       -97.656860\n",
       "           ...    \n",
       "15166   -97.816345\n",
       "15167   -97.772835\n",
       "15168   -97.761124\n",
       "15169   -97.717789\n",
       "15170   -97.701523\n",
       "Name: longitude, Length: 15171, dtype: float64"
      ]
     },
     "execution_count": 9,
     "metadata": {},
     "output_type": "execute_result"
    }
   ],
   "source": [
    "df['longitude']"
   ]
  },
  {
   "cell_type": "markdown",
   "metadata": {},
   "source": [
    "## Analysis\n",
    "In this lineal regression model We will work all features."
   ]
  },
  {
   "cell_type": "markdown",
   "metadata": {},
   "source": [
    "#### Check corelation with latestPrice"
   ]
  },
  {
   "cell_type": "code",
   "execution_count": 10,
   "metadata": {},
   "outputs": [
    {
     "data": {
      "text/plain": [
       "zpid                          0.007503\n",
       "zipcode                      -0.145946\n",
       "latitude                      0.071547\n",
       "longitude                    -0.184079\n",
       "propertyTaxRate              -0.062179\n",
       "garageSpaces                  0.157443\n",
       "parkingSpaces                 0.156811\n",
       "yearBuilt                     0.059692\n",
       "latestPrice                   1.000000\n",
       "numPriceChanges               0.038305\n",
       "latest_salemonth              0.033898\n",
       "latest_saleyear               0.059942\n",
       "numOfPhotos                   0.154355\n",
       "numOfAccessibilityFeatures    0.016270\n",
       "numOfAppliances               0.033114\n",
       "numOfParkingFeatures          0.098384\n",
       "numOfPatioAndPorchFeatures    0.087936\n",
       "numOfSecurityFeatures         0.058349\n",
       "numOfWaterfrontFeatures       0.123979\n",
       "numOfWindowFeatures           0.056141\n",
       "numOfCommunityFeatures       -0.001334\n",
       "lotSizeSqFt                   0.020940\n",
       "livingAreaSqFt                0.467034\n",
       "numOfPrimarySchools          -0.170927\n",
       "numOfElementarySchools        0.155988\n",
       "numOfMiddleSchools            0.127838\n",
       "numOfHighSchools             -0.201821\n",
       "avgSchoolDistance             0.094156\n",
       "avgSchoolRating               0.293101\n",
       "avgSchoolSize                 0.085167\n",
       "MedianStudentsPerTeacher      0.198208\n",
       "numOfBathrooms                0.504738\n",
       "numOfBedrooms                 0.299839\n",
       "numOfStories                  0.200555\n",
       "hasAssociation_int           -0.005043\n",
       "hasCooling_int                0.010075\n",
       "hasGarage_int                 0.074161\n",
       "hasHeating_int                0.002410\n",
       "hasSpa_int                    0.173084\n",
       "hasView_int                   0.133969\n",
       "Name: latestPrice, dtype: float64"
      ]
     },
     "execution_count": 10,
     "metadata": {},
     "output_type": "execute_result"
    }
   ],
   "source": [
    "df.corr()['latestPrice']"
   ]
  },
  {
   "cell_type": "markdown",
   "metadata": {},
   "source": [
    "We dont have multicollinearity"
   ]
  },
  {
   "cell_type": "markdown",
   "metadata": {},
   "source": [
    "#### Display distribution"
   ]
  },
  {
   "cell_type": "code",
   "execution_count": 11,
   "metadata": {},
   "outputs": [
    {
     "data": {
      "image/png": "[encoded data removed]",
      "text/plain": [
       "<Figure size 640x480 with 1 Axes>"
      ]
     },
     "metadata": {},
     "output_type": "display_data"
    }
   ],
   "source": [
    "import matplotlib.pyplot as plt\n",
    "plt.hist(df['latestPrice'], bins=20)\n",
    "plt.show()"
   ]
  },
  {
   "cell_type": "markdown",
   "metadata": {},
   "source": [
    "WE can see that most of the houses have a price below 2,000,000. we have an asymmetric distribution\n",
    "\n",
    "WE have two options:\n",
    "1. we will delete outliers\n",
    "2. we could apply a logarithmic function"
   ]
  },
  {
   "cell_type": "code",
   "execution_count": 12,
   "metadata": {},
   "outputs": [
    {
     "name": "stdout",
     "output_type": "stream",
     "text": [
      "Middle 95 are values between 165000.0 and 1695000.0\n"
     ]
    }
   ],
   "source": [
    "import numpy as np\n",
    "\n",
    "upper = np.percentile(df.latestPrice, 98)\n",
    "lower = np.percentile(df.latestPrice, 2)\n",
    "\n",
    "print('Middle 95 are values between {} and {}'.format(lower, upper))"
   ]
  },
  {
   "cell_type": "code",
   "execution_count": 13,
   "metadata": {},
   "outputs": [
    {
     "data": {
      "text/plain": [
       "(14582, 40)"
      ]
     },
     "execution_count": 13,
     "metadata": {},
     "output_type": "execute_result"
    }
   ],
   "source": [
    "df = df.drop(df[df['latestPrice'] < lower].index)\n",
    "df = df.drop(df[df['latestPrice'] > upper].index)\n",
    "df.shape"
   ]
  },
  {
   "cell_type": "code",
   "execution_count": 14,
   "metadata": {},
   "outputs": [],
   "source": [
    "#df = df.sort_values(by='latestPrice', ascending= False)"
   ]
  },
  {
   "cell_type": "code",
   "execution_count": 16,
   "metadata": {},
   "outputs": [
    {
     "data": {
      "image/png": "[encoded data removed]",
      "text/plain": [
       "<Figure size 640x480 with 1 Axes>"
      ]
     },
     "metadata": {},
     "output_type": "display_data"
    }
   ],
   "source": [
    "plt.hist(df['latestPrice'], bins=20)\n",
    "plt.show()"
   ]
  },
  {
   "cell_type": "markdown",
   "metadata": {},
   "source": [
    "WE can see that our distribution is asymmetric, then we will apply logarithmic function"
   ]
  },
  {
   "cell_type": "code",
   "execution_count": 17,
   "metadata": {
    "scrolled": true
   },
   "outputs": [
    {
     "name": "stderr",
     "output_type": "stream",
     "text": [
      "C:\\Users\\gyanezarvizu\\Anaconda3\\lib\\site-packages\\sklearn\\base.py:443: UserWarning: X has feature names, but FunctionTransformer was fitted without feature names\n",
      "  warnings.warn(\n",
      "C:\\Users\\gyanezarvizu\\Anaconda3\\lib\\site-packages\\sklearn\\preprocessing\\_function_transformer.py:205: RuntimeWarning: invalid value encountered in log1p\n",
      "  return func(X, **(kw_args if kw_args else {}))\n"
     ]
    }
   ],
   "source": [
    "from sklearn.preprocessing import FunctionTransformer\n",
    "\n",
    "transformer = FunctionTransformer(np.log1p, validate=True)\n",
    "df_log = transformer.transform(df)"
   ]
  },
  {
   "cell_type": "code",
   "execution_count": 18,
   "metadata": {},
   "outputs": [
    {
     "data": {
      "text/html": [
       "<div>\n",
       "<style scoped>\n",
       "    .dataframe tbody tr th:only-of-type {\n",
       "        vertical-align: middle;\n",
       "    }\n",
       "\n",
       "    .dataframe tbody tr th {\n",
       "        vertical-align: top;\n",
       "    }\n",
       "\n",
       "    .dataframe thead th {\n",
       "        text-align: right;\n",
       "    }\n",
       "</style>\n",
       "<table border=\"1\" class=\"dataframe\">\n",
       "  <thead>\n",
       "    <tr style=\"text-align: right;\">\n",
       "      <th></th>\n",
       "      <th>zpid</th>\n",
       "      <th>zipcode</th>\n",
       "      <th>latitude</th>\n",
       "      <th>longitude</th>\n",
       "      <th>propertyTaxRate</th>\n",
       "      <th>garageSpaces</th>\n",
       "      <th>parkingSpaces</th>\n",
       "      <th>yearBuilt</th>\n",
       "      <th>latestPrice</th>\n",
       "      <th>numPriceChanges</th>\n",
       "      <th>...</th>\n",
       "      <th>MedianStudentsPerTeacher</th>\n",
       "      <th>numOfBathrooms</th>\n",
       "      <th>numOfBedrooms</th>\n",
       "      <th>numOfStories</th>\n",
       "      <th>hasAssociation_int</th>\n",
       "      <th>hasCooling_int</th>\n",
       "      <th>hasGarage_int</th>\n",
       "      <th>hasHeating_int</th>\n",
       "      <th>hasSpa_int</th>\n",
       "      <th>hasView_int</th>\n",
       "    </tr>\n",
       "  </thead>\n",
       "  <tbody>\n",
       "    <tr>\n",
       "      <th>0</th>\n",
       "      <td>18.528399</td>\n",
       "      <td>11.272903</td>\n",
       "      <td>3.447783</td>\n",
       "      <td>NaN</td>\n",
       "      <td>1.091923</td>\n",
       "      <td>1.098612</td>\n",
       "      <td>1.098612</td>\n",
       "      <td>7.607381</td>\n",
       "      <td>12.628070</td>\n",
       "      <td>1.791759</td>\n",
       "      <td>...</td>\n",
       "      <td>2.70805</td>\n",
       "      <td>1.386294</td>\n",
       "      <td>1.609438</td>\n",
       "      <td>1.098612</td>\n",
       "      <td>0.693147</td>\n",
       "      <td>0.693147</td>\n",
       "      <td>0.693147</td>\n",
       "      <td>0.693147</td>\n",
       "      <td>0.0</td>\n",
       "      <td>0.0</td>\n",
       "    </tr>\n",
       "    <tr>\n",
       "      <th>1</th>\n",
       "      <td>18.610478</td>\n",
       "      <td>11.272903</td>\n",
       "      <td>3.447848</td>\n",
       "      <td>NaN</td>\n",
       "      <td>1.091923</td>\n",
       "      <td>1.098612</td>\n",
       "      <td>1.098612</td>\n",
       "      <td>7.607878</td>\n",
       "      <td>12.594734</td>\n",
       "      <td>0.693147</td>\n",
       "      <td>...</td>\n",
       "      <td>2.70805</td>\n",
       "      <td>1.098612</td>\n",
       "      <td>1.609438</td>\n",
       "      <td>0.693147</td>\n",
       "      <td>0.693147</td>\n",
       "      <td>0.693147</td>\n",
       "      <td>0.693147</td>\n",
       "      <td>0.693147</td>\n",
       "      <td>0.0</td>\n",
       "      <td>0.0</td>\n",
       "    </tr>\n",
       "    <tr>\n",
       "      <th>2</th>\n",
       "      <td>21.457791</td>\n",
       "      <td>11.272903</td>\n",
       "      <td>3.447118</td>\n",
       "      <td>NaN</td>\n",
       "      <td>1.091923</td>\n",
       "      <td>0.000000</td>\n",
       "      <td>0.000000</td>\n",
       "      <td>7.610358</td>\n",
       "      <td>12.453425</td>\n",
       "      <td>0.693147</td>\n",
       "      <td>...</td>\n",
       "      <td>2.70805</td>\n",
       "      <td>1.098612</td>\n",
       "      <td>1.386294</td>\n",
       "      <td>0.693147</td>\n",
       "      <td>0.693147</td>\n",
       "      <td>0.693147</td>\n",
       "      <td>0.000000</td>\n",
       "      <td>0.693147</td>\n",
       "      <td>0.0</td>\n",
       "      <td>0.0</td>\n",
       "    </tr>\n",
       "  </tbody>\n",
       "</table>\n",
       "<p>3 rows × 40 columns</p>\n",
       "</div>"
      ],
      "text/plain": [
       "        zpid    zipcode  latitude  longitude  propertyTaxRate  garageSpaces  \\\n",
       "0  18.528399  11.272903  3.447783        NaN         1.091923      1.098612   \n",
       "1  18.610478  11.272903  3.447848        NaN         1.091923      1.098612   \n",
       "2  21.457791  11.272903  3.447118        NaN         1.091923      0.000000   \n",
       "\n",
       "   parkingSpaces  yearBuilt  latestPrice  numPriceChanges  ...  \\\n",
       "0       1.098612   7.607381    12.628070         1.791759  ...   \n",
       "1       1.098612   7.607878    12.594734         0.693147  ...   \n",
       "2       0.000000   7.610358    12.453425         0.693147  ...   \n",
       "\n",
       "   MedianStudentsPerTeacher  numOfBathrooms  numOfBedrooms  numOfStories  \\\n",
       "0                   2.70805        1.386294       1.609438      1.098612   \n",
       "1                   2.70805        1.098612       1.609438      0.693147   \n",
       "2                   2.70805        1.098612       1.386294      0.693147   \n",
       "\n",
       "   hasAssociation_int  hasCooling_int  hasGarage_int  hasHeating_int  \\\n",
       "0            0.693147        0.693147       0.693147        0.693147   \n",
       "1            0.693147        0.693147       0.693147        0.693147   \n",
       "2            0.693147        0.693147       0.000000        0.693147   \n",
       "\n",
       "   hasSpa_int  hasView_int  \n",
       "0         0.0          0.0  \n",
       "1         0.0          0.0  \n",
       "2         0.0          0.0  \n",
       "\n",
       "[3 rows x 40 columns]"
      ]
     },
     "execution_count": 18,
     "metadata": {},
     "output_type": "execute_result"
    }
   ],
   "source": [
    "columns_names = df.columns\n",
    "\n",
    "df_log = pd.DataFrame(df_log, columns= columns_names)\n",
    "df_log.head(3)"
   ]
  },
  {
   "cell_type": "code",
   "execution_count": 47,
   "metadata": {},
   "outputs": [
    {
     "data": {
      "text/plain": [
       "zpid                         -0.012378\n",
       "zipcode                      -0.171102\n",
       "latitude                      0.118074\n",
       "propertyTaxRate              -0.053848\n",
       "garageSpaces                  0.154884\n",
       "parkingSpaces                 0.153578\n",
       "yearBuilt                    -0.012629\n",
       "latestPrice                   1.000000\n",
       "numPriceChanges               0.021069\n",
       "latest_salemonth              0.056425\n",
       "latest_saleyear               0.100460\n",
       "numOfPhotos                   0.118610\n",
       "numOfAccessibilityFeatures    0.032753\n",
       "numOfAppliances               0.053909\n",
       "numOfParkingFeatures          0.123274\n",
       "numOfPatioAndPorchFeatures    0.133111\n",
       "numOfSecurityFeatures         0.097099\n",
       "numOfWaterfrontFeatures       0.038875\n",
       "numOfWindowFeatures           0.109538\n",
       "numOfCommunityFeatures        0.014434\n",
       "lotSizeSqFt                   0.368627\n",
       "livingAreaSqFt                0.570899\n",
       "numOfPrimarySchools          -0.167226\n",
       "numOfElementarySchools        0.146626\n",
       "numOfMiddleSchools            0.108272\n",
       "numOfHighSchools             -0.233261\n",
       "avgSchoolDistance             0.001559\n",
       "avgSchoolRating               0.466437\n",
       "avgSchoolSize                 0.103661\n",
       "MedianStudentsPerTeacher      0.348735\n",
       "numOfBathrooms                0.418712\n",
       "numOfBedrooms                 0.303845\n",
       "numOfStories                  0.232530\n",
       "hasAssociation_int           -0.013530\n",
       "hasCooling_int                0.035224\n",
       "hasGarage_int                 0.111371\n",
       "hasHeating_int                0.028071\n",
       "hasSpa_int                    0.172650\n",
       "hasView_int                   0.153692\n",
       "Name: latestPrice, dtype: float64"
      ]
     },
     "execution_count": 47,
     "metadata": {},
     "output_type": "execute_result"
    }
   ],
   "source": [
    "df_log.corr()['latestPrice']"
   ]
  },
  {
   "cell_type": "code",
   "execution_count": 19,
   "metadata": {},
   "outputs": [
    {
     "data": {
      "image/png": "[encoded data removed]",
      "text/plain": [
       "<Figure size 640x480 with 1 Axes>"
      ]
     },
     "metadata": {},
     "output_type": "display_data"
    }
   ],
   "source": [
    "plt.hist(df_log['latestPrice'], bins=20)\n",
    "plt.show()"
   ]
  },
  {
   "cell_type": "code",
   "execution_count": 20,
   "metadata": {},
   "outputs": [
    {
     "data": {
      "text/plain": [
       "zpid                          False\n",
       "zipcode                       False\n",
       "latitude                      False\n",
       "longitude                      True\n",
       "propertyTaxRate               False\n",
       "garageSpaces                  False\n",
       "parkingSpaces                 False\n",
       "yearBuilt                     False\n",
       "latestPrice                   False\n",
       "numPriceChanges               False\n",
       "latest_salemonth              False\n",
       "latest_saleyear               False\n",
       "numOfPhotos                   False\n",
       "numOfAccessibilityFeatures    False\n",
       "numOfAppliances               False\n",
       "numOfParkingFeatures          False\n",
       "numOfPatioAndPorchFeatures    False\n",
       "numOfSecurityFeatures         False\n",
       "numOfWaterfrontFeatures       False\n",
       "numOfWindowFeatures           False\n",
       "numOfCommunityFeatures        False\n",
       "lotSizeSqFt                   False\n",
       "livingAreaSqFt                False\n",
       "numOfPrimarySchools           False\n",
       "numOfElementarySchools        False\n",
       "numOfMiddleSchools            False\n",
       "numOfHighSchools              False\n",
       "avgSchoolDistance             False\n",
       "avgSchoolRating               False\n",
       "avgSchoolSize                 False\n",
       "MedianStudentsPerTeacher      False\n",
       "numOfBathrooms                False\n",
       "numOfBedrooms                 False\n",
       "numOfStories                  False\n",
       "hasAssociation_int            False\n",
       "hasCooling_int                False\n",
       "hasGarage_int                 False\n",
       "hasHeating_int                False\n",
       "hasSpa_int                    False\n",
       "hasView_int                   False\n",
       "dtype: bool"
      ]
     },
     "execution_count": 20,
     "metadata": {},
     "output_type": "execute_result"
    }
   ],
   "source": [
    "# Check if we have NaN\n",
    "df_log.isna().any()"
   ]
  },
  {
   "cell_type": "code",
   "execution_count": 21,
   "metadata": {},
   "outputs": [],
   "source": [
    "df_log = df_log.drop('longitude', axis=1)"
   ]
  },
  {
   "cell_type": "markdown",
   "metadata": {},
   "source": [
    "### Creating testing and training data\n",
    "In this next step we will be creating the testing and training data for our algorithm. "
   ]
  },
  {
   "cell_type": "code",
   "execution_count": 22,
   "metadata": {},
   "outputs": [
    {
     "data": {
      "text/plain": [
       "list"
      ]
     },
     "execution_count": 22,
     "metadata": {},
     "output_type": "execute_result"
    }
   ],
   "source": [
    "# Getting column names\n",
    "column_names=df_log.columns.tolist()\n",
    "type(column_names)"
   ]
  },
  {
   "cell_type": "code",
   "execution_count": 23,
   "metadata": {},
   "outputs": [],
   "source": [
    "# Deleting the name of the dependent name 'latestPrice'\n",
    "column_names.remove('latestPrice')"
   ]
  },
  {
   "cell_type": "code",
   "execution_count": 24,
   "metadata": {},
   "outputs": [],
   "source": [
    "# Independent values\n",
    "X = df_log[column_names]\n",
    "\n",
    "# Dependent values\n",
    "y = df_log['latestPrice']"
   ]
  },
  {
   "cell_type": "code",
   "execution_count": 25,
   "metadata": {},
   "outputs": [],
   "source": [
    "# importing train_test_split to create testing and trainin data\n",
    "from sklearn.model_selection import train_test_split\n",
    "X_train, X_test, y_train, y_test = train_test_split(X, y, test_size=0.2, random_state=42)"
   ]
  },
  {
   "cell_type": "code",
   "execution_count": 26,
   "metadata": {},
   "outputs": [
    {
     "name": "stdout",
     "output_type": "stream",
     "text": [
      "(14582, 38) (11665, 38) (2917, 38)\n"
     ]
    }
   ],
   "source": [
    "# Comparing size of X sets\n",
    "print(X.shape, X_train.shape, X_test.shape)"
   ]
  },
  {
   "cell_type": "markdown",
   "metadata": {},
   "source": [
    "### Apply linear regression with sklearn"
   ]
  },
  {
   "cell_type": "code",
   "execution_count": 27,
   "metadata": {},
   "outputs": [],
   "source": [
    "from sklearn.linear_model import LinearRegression"
   ]
  },
  {
   "cell_type": "code",
   "execution_count": 28,
   "metadata": {},
   "outputs": [],
   "source": [
    "lr = LinearRegression()"
   ]
  },
  {
   "cell_type": "code",
   "execution_count": 29,
   "metadata": {
    "scrolled": false
   },
   "outputs": [
    {
     "data": {
      "text/plain": [
       "LinearRegression()"
      ]
     },
     "execution_count": 29,
     "metadata": {},
     "output_type": "execute_result"
    }
   ],
   "source": [
    "lr.fit(X_train, y_train)"
   ]
  },
  {
   "cell_type": "code",
   "execution_count": 30,
   "metadata": {},
   "outputs": [],
   "source": [
    "prediction_test = lr.predict(X_test)"
   ]
  },
  {
   "cell_type": "code",
   "execution_count": 31,
   "metadata": {},
   "outputs": [
    {
     "data": {
      "text/plain": [
       "0.6371341404340931"
      ]
     },
     "execution_count": 31,
     "metadata": {},
     "output_type": "execute_result"
    }
   ],
   "source": [
    "from sklearn.metrics import r2_score\n",
    "r_squared = r2_score(y_test, prediction_test)\n",
    "r_squared"
   ]
  },
  {
   "cell_type": "markdown",
   "metadata": {},
   "source": [
    "#### Coeffincient of determination is 0.637, the better is close to 1\n",
    "this model is explaining only the 63.7% of data"
   ]
  },
  {
   "cell_type": "markdown",
   "metadata": {},
   "source": [
    "### Linear regression with StatsModels"
   ]
  },
  {
   "cell_type": "code",
   "execution_count": 32,
   "metadata": {},
   "outputs": [],
   "source": [
    "import statsmodels.api as sm"
   ]
  },
  {
   "cell_type": "code",
   "execution_count": 33,
   "metadata": {},
   "outputs": [],
   "source": [
    "# Creating the model\n",
    "model = sm.OLS(endog=y_train, exog=sm.add_constant(X_train))"
   ]
  },
  {
   "cell_type": "code",
   "execution_count": 34,
   "metadata": {},
   "outputs": [],
   "source": [
    "# Get model results\n",
    "results = model.fit()"
   ]
  },
  {
   "cell_type": "code",
   "execution_count": 35,
   "metadata": {
    "scrolled": false
   },
   "outputs": [
    {
     "name": "stdout",
     "output_type": "stream",
     "text": [
      "                            OLS Regression Results                            \n",
      "==============================================================================\n",
      "Dep. Variable:            latestPrice   R-squared:                       0.627\n",
      "Model:                            OLS   Adj. R-squared:                  0.626\n",
      "Method:                 Least Squares   F-statistic:                     515.1\n",
      "Date:                Thu, 27 Jul 2023   Prob (F-statistic):               0.00\n",
      "Time:                        16:20:41   Log-Likelihood:                -1488.6\n",
      "No. Observations:               11665   AIC:                             3055.\n",
      "Df Residuals:                   11626   BIC:                             3342.\n",
      "Df Model:                          38                                         \n",
      "Covariance Type:            nonrobust                                         \n",
      "==============================================================================================\n",
      "                                 coef    std err          t      P>|t|      [0.025      0.975]\n",
      "----------------------------------------------------------------------------------------------\n",
      "const                       3403.7160    145.932     23.324      0.000    3117.666    3689.766\n",
      "zpid                           0.0436      0.004     11.568      0.000       0.036       0.051\n",
      "zipcode                     -353.0417     11.475    -30.767      0.000    -375.534    -330.550\n",
      "latitude                       1.9948      1.057      1.888      0.059      -0.076       4.066\n",
      "propertyTaxRate               -4.9517      0.191    -25.991      0.000      -5.325      -4.578\n",
      "garageSpaces                   0.0184      0.060      0.306      0.759      -0.100       0.136\n",
      "parkingSpaces                 -0.0482      0.058     -0.832      0.405      -0.162       0.065\n",
      "yearBuilt                     -5.9806      0.367    -16.301      0.000      -6.700      -5.261\n",
      "numPriceChanges               -0.0840      0.005    -16.158      0.000      -0.094      -0.074\n",
      "latest_salemonth               0.0239      0.006      4.246      0.000       0.013       0.035\n",
      "latest_saleyear               82.5420      8.703      9.485      0.000      65.483      99.601\n",
      "numOfPhotos                    0.0127      0.003      4.936      0.000       0.008       0.018\n",
      "numOfAccessibilityFeatures     0.0806      0.029      2.816      0.005       0.024       0.137\n",
      "numOfAppliances                0.0154      0.005      2.829      0.005       0.005       0.026\n",
      "numOfParkingFeatures           0.0845      0.013      6.348      0.000       0.058       0.111\n",
      "numOfPatioAndPorchFeatures     0.0177      0.007      2.364      0.018       0.003       0.032\n",
      "numOfSecurityFeatures          0.0099      0.008      1.291      0.197      -0.005       0.025\n",
      "numOfWaterfrontFeatures        0.1797      0.084      2.135      0.033       0.015       0.345\n",
      "numOfWindowFeatures            0.0021      0.010      0.213      0.831      -0.017       0.021\n",
      "numOfCommunityFeatures        -0.1113      0.030     -3.667      0.000      -0.171      -0.052\n",
      "lotSizeSqFt                    0.0610      0.005     12.103      0.000       0.051       0.071\n",
      "livingAreaSqFt                 0.6110      0.012     49.752      0.000       0.587       0.635\n",
      "numOfPrimarySchools            0.4467      0.038     11.734      0.000       0.372       0.521\n",
      "numOfElementarySchools         0.4959      0.035     14.170      0.000       0.427       0.564\n",
      "numOfMiddleSchools            -0.2059      0.032     -6.445      0.000      -0.269      -0.143\n",
      "numOfHighSchools              -0.1830      0.023     -8.040      0.000      -0.228      -0.138\n",
      "avgSchoolDistance             -0.1458      0.009    -16.531      0.000      -0.163      -0.129\n",
      "avgSchoolRating                0.6018      0.016     36.703      0.000       0.570       0.634\n",
      "avgSchoolSize                 -0.2662      0.013    -20.550      0.000      -0.292      -0.241\n",
      "MedianStudentsPerTeacher       0.0378      0.041      0.928      0.354      -0.042       0.118\n",
      "numOfBathrooms                 0.2486      0.015     16.068      0.000       0.218       0.279\n",
      "numOfBedrooms                 -0.2362      0.018    -13.241      0.000      -0.271      -0.201\n",
      "numOfStories                  -0.0478      0.016     -2.994      0.003      -0.079      -0.016\n",
      "hasAssociation_int            -0.2666      0.011    -25.306      0.000      -0.287      -0.246\n",
      "hasCooling_int                -0.0829      0.040     -2.064      0.039      -0.162      -0.004\n",
      "hasGarage_int                  0.0096      0.026      0.372      0.710      -0.041       0.060\n",
      "hasHeating_int                 0.1400      0.052      2.699      0.007       0.038       0.242\n",
      "hasSpa_int                     0.1079      0.015      7.308      0.000       0.079       0.137\n",
      "hasView_int                    0.0458      0.009      4.959      0.000       0.028       0.064\n",
      "==============================================================================\n",
      "Omnibus:                      599.150   Durbin-Watson:                   2.000\n",
      "Prob(Omnibus):                  0.000   Jarque-Bera (JB):             2312.178\n",
      "Skew:                           0.039   Prob(JB):                         0.00\n",
      "Kurtosis:                       5.180   Cond. No.                     1.62e+06\n",
      "==============================================================================\n",
      "\n",
      "Notes:\n",
      "[1] Standard Errors assume that the covariance matrix of the errors is correctly specified.\n",
      "[2] The condition number is large, 1.62e+06. This might indicate that there are\n",
      "strong multicollinearity or other numerical problems.\n"
     ]
    }
   ],
   "source": [
    "# Displey results summary\n",
    "print(results.summary())"
   ]
  },
  {
   "cell_type": "markdown",
   "metadata": {},
   "source": [
    "#### Coeffincient of determination is 0.627, the better is close to 1\n",
    "this model is explaining only the 62.7% of data"
   ]
  },
  {
   "cell_type": "markdown",
   "metadata": {},
   "source": [
    "### Evaluation"
   ]
  },
  {
   "cell_type": "code",
   "execution_count": 36,
   "metadata": {},
   "outputs": [
    {
     "data": {
      "text/plain": [
       "(11665,)"
      ]
     },
     "execution_count": 36,
     "metadata": {},
     "output_type": "execute_result"
    }
   ],
   "source": [
    "# Get prediction with X_train using the model\n",
    "y_train_pred = results.predict(sm.add_constant(X_train))\n",
    "y_train_pred.shape"
   ]
  },
  {
   "cell_type": "code",
   "execution_count": 44,
   "metadata": {},
   "outputs": [
    {
     "data": {
      "text/plain": [
       "165555.50238644637"
      ]
     },
     "execution_count": 44,
     "metadata": {},
     "output_type": "execute_result"
    }
   ],
   "source": [
    "# RMSE\n",
    "from sklearn.metrics import mean_squared_error\n",
    "RMSE_train=mean_squared_error(np.expm1(y_train), np.expm1(y_train_pred), squared=False)\n",
    "RMSE_train"
   ]
  },
  {
   "cell_type": "markdown",
   "metadata": {},
   "source": [
    "Our model is off by about 165555 dollars in a given prediction\n",
    "\n"
   ]
  },
  {
   "cell_type": "code",
   "execution_count": 38,
   "metadata": {},
   "outputs": [],
   "source": [
    "# Get prediction with X_train using the model\n",
    "y_test_pred = results.predict(sm.add_constant(X_test))"
   ]
  },
  {
   "cell_type": "code",
   "execution_count": 45,
   "metadata": {},
   "outputs": [
    {
     "data": {
      "text/plain": [
       "158323.2704518954"
      ]
     },
     "execution_count": 45,
     "metadata": {},
     "output_type": "execute_result"
    }
   ],
   "source": [
    "RMSE_test=mean_squared_error(np.expm1(y_test), np.expm1(y_test_pred), squared=False)\n",
    "RMSE_test"
   ]
  },
  {
   "cell_type": "code",
   "execution_count": 46,
   "metadata": {},
   "outputs": [
    {
     "data": {
      "text/plain": [
       "4.56801575277489"
      ]
     },
     "execution_count": 46,
     "metadata": {},
     "output_type": "execute_result"
    }
   ],
   "source": [
    "# as long as the difference is small the model is consistent\n",
    "diff = (-RMSE_test + RMSE_train)/ RMSE_test *100\n",
    "diff"
   ]
  },
  {
   "cell_type": "code",
   "execution_count": null,
   "metadata": {},
   "outputs": [],
   "source": []
  }
 ],
 "metadata": {
  "kernelspec": {
   "display_name": "Python 3 (ipykernel)",
   "language": "python",
   "name": "python3"
  },
  "language_info": {
   "codemirror_mode": {
    "name": "ipython",
    "version": 3
   },
   "file_extension": ".py",
   "mimetype": "text/x-python",
   "name": "python",
   "nbconvert_exporter": "python",
   "pygments_lexer": "ipython3",
   "version": "3.9.13"
  }
 },
 "nbformat": 4,
 "nbformat_minor": 4
}
